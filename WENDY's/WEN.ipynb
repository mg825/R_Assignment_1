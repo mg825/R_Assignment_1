{
 "cells": [
  {
   "cell_type": "markdown",
   "id": "5f0ec753",
   "metadata": {},
   "source": [
    "---\n",
    "title: \"Assignment 1 - Wendy's (WEN) Stock Data Analysis\"\n",
    "\"authors\": \"Maxim\" \n",
    "format: pdf\n",
    "---\n",
    "\n",
    "\\newpage\n",
    "\\tableofcontents\n",
    "\\listoffigures\n",
    "\\listoftables\n",
    "\\newpage"
   ]
  },
  {
   "cell_type": "markdown",
   "id": "43f681d4",
   "metadata": {},
   "source": [
    "## Preparations\n",
    "Before running any code, I install and load the dplyr and lubridate packages to perform easier data analysis.\n"
   ]
  },
  {
   "cell_type": "code",
   "execution_count": 5,
   "id": "f5cfde30",
   "metadata": {
    "vscode": {
     "languageId": "r"
    }
   },
   "outputs": [
    {
     "name": "stderr",
     "output_type": "stream",
     "text": [
      "Installing package into ‘/home/codespace/R/x86_64-pc-linux-gnu-library/4.3’\n",
      "(as ‘lib’ is unspecified)\n",
      "\n"
     ]
    },
    {
     "name": "stderr",
     "output_type": "stream",
     "text": [
      "Installing package into ‘/home/codespace/R/x86_64-pc-linux-gnu-library/4.3’\n",
      "(as ‘lib’ is unspecified)\n",
      "\n",
      "\n",
      "Attaching package: ‘dplyr’\n",
      "\n",
      "\n",
      "The following objects are masked from ‘package:stats’:\n",
      "\n",
      "    filter, lag\n",
      "\n",
      "\n",
      "The following objects are masked from ‘package:base’:\n",
      "\n",
      "    intersect, setdiff, setequal, union\n",
      "\n",
      "\n",
      "\n",
      "Attaching package: ‘lubridate’\n",
      "\n",
      "\n",
      "The following objects are masked from ‘package:base’:\n",
      "\n",
      "    date, intersect, setdiff, union\n",
      "\n",
      "\n"
     ]
    }
   ],
   "source": [
    "# install and load dplyr library for data analysis\n",
    "install.packages(\"dplyr\")\n",
    "install.packages(\"lubridate\")\n",
    "\n",
    "#| warning: false\n",
    "library(dplyr)\n",
    "library(lubridate)\n"
   ]
  },
  {
   "cell_type": "markdown",
   "id": "aa3b6228",
   "metadata": {},
   "source": [
    "## Data Analysis\n",
    "Now let's start actually processing and transforming the data."
   ]
  },
  {
   "cell_type": "code",
   "execution_count": 6,
   "id": "043ca6bf",
   "metadata": {
    "vscode": {
     "languageId": "r"
    }
   },
   "outputs": [
    {
     "data": {
      "text/html": [
       "'ALL STOCK DATA'"
      ],
      "text/latex": [
       "'ALL STOCK DATA'"
      ],
      "text/markdown": [
       "'ALL STOCK DATA'"
      ],
      "text/plain": [
       "[1] \"ALL STOCK DATA\""
      ]
     },
     "metadata": {},
     "output_type": "display_data"
    },
    {
     "data": {
      "text/html": [
       "<table class=\"dataframe\">\n",
       "<caption>A data.frame: 1 × 12</caption>\n",
       "<thead>\n",
       "\t<tr><th></th><th scope=col>GVKEY</th><th scope=col>iid</th><th scope=col>datadate</th><th scope=col>tic</th><th scope=col>conm</th><th scope=col>cshtrd</th><th scope=col>prccd</th><th scope=col>prchd</th><th scope=col>prcld</th><th scope=col>prcod</th><th scope=col>exchg</th><th scope=col>sic</th></tr>\n",
       "\t<tr><th></th><th scope=col>&lt;int&gt;</th><th scope=col>&lt;int&gt;</th><th scope=col>&lt;date&gt;</th><th scope=col>&lt;chr&gt;</th><th scope=col>&lt;chr&gt;</th><th scope=col>&lt;int&gt;</th><th scope=col>&lt;dbl&gt;</th><th scope=col>&lt;dbl&gt;</th><th scope=col>&lt;dbl&gt;</th><th scope=col>&lt;dbl&gt;</th><th scope=col>&lt;int&gt;</th><th scope=col>&lt;int&gt;</th></tr>\n",
       "</thead>\n",
       "<tbody>\n",
       "\t<tr><th scope=row>1</th><td>186785</td><td>1</td><td>2020-09-01</td><td>ARCO</td><td>ARCOS DORADOS HOLDINGS INC</td><td>813895</td><td>4.47</td><td>4.54</td><td>4.394</td><td>4.41</td><td>11</td><td>5812</td></tr>\n",
       "</tbody>\n",
       "</table>\n"
      ],
      "text/latex": [
       "A data.frame: 1 × 12\n",
       "\\begin{tabular}{r|llllllllllll}\n",
       "  & GVKEY & iid & datadate & tic & conm & cshtrd & prccd & prchd & prcld & prcod & exchg & sic\\\\\n",
       "  & <int> & <int> & <date> & <chr> & <chr> & <int> & <dbl> & <dbl> & <dbl> & <dbl> & <int> & <int>\\\\\n",
       "\\hline\n",
       "\t1 & 186785 & 1 & 2020-09-01 & ARCO & ARCOS DORADOS HOLDINGS INC & 813895 & 4.47 & 4.54 & 4.394 & 4.41 & 11 & 5812\\\\\n",
       "\\end{tabular}\n"
      ],
      "text/markdown": [
       "\n",
       "A data.frame: 1 × 12\n",
       "\n",
       "| <!--/--> | GVKEY &lt;int&gt; | iid &lt;int&gt; | datadate &lt;date&gt; | tic &lt;chr&gt; | conm &lt;chr&gt; | cshtrd &lt;int&gt; | prccd &lt;dbl&gt; | prchd &lt;dbl&gt; | prcld &lt;dbl&gt; | prcod &lt;dbl&gt; | exchg &lt;int&gt; | sic &lt;int&gt; |\n",
       "|---|---|---|---|---|---|---|---|---|---|---|---|---|\n",
       "| 1 | 186785 | 1 | 2020-09-01 | ARCO | ARCOS DORADOS HOLDINGS INC | 813895 | 4.47 | 4.54 | 4.394 | 4.41 | 11 | 5812 |\n",
       "\n"
      ],
      "text/plain": [
       "  GVKEY  iid datadate   tic  conm                       cshtrd prccd prchd\n",
       "1 186785 1   2020-09-01 ARCO ARCOS DORADOS HOLDINGS INC 813895 4.47  4.54 \n",
       "  prcld prcod exchg sic \n",
       "1 4.394 4.41  11    5812"
      ]
     },
     "metadata": {},
     "output_type": "display_data"
    },
    {
     "data": {
      "text/html": [
       "'WENDY\\'S STOCK DATA'"
      ],
      "text/latex": [
       "'WENDY\\textbackslash{}'S STOCK DATA'"
      ],
      "text/markdown": [
       "'WENDY\\'S STOCK DATA'"
      ],
      "text/plain": [
       "[1] \"WENDY'S STOCK DATA\""
      ]
     },
     "metadata": {},
     "output_type": "display_data"
    },
    {
     "data": {
      "text/html": [
       "<table class=\"dataframe\">\n",
       "<caption>A data.frame: 1 × 12</caption>\n",
       "<thead>\n",
       "\t<tr><th></th><th scope=col>GVKEY</th><th scope=col>iid</th><th scope=col>datadate</th><th scope=col>tic</th><th scope=col>conm</th><th scope=col>cshtrd</th><th scope=col>prccd</th><th scope=col>prchd</th><th scope=col>prcld</th><th scope=col>prcod</th><th scope=col>exchg</th><th scope=col>sic</th></tr>\n",
       "\t<tr><th></th><th scope=col>&lt;int&gt;</th><th scope=col>&lt;int&gt;</th><th scope=col>&lt;date&gt;</th><th scope=col>&lt;chr&gt;</th><th scope=col>&lt;chr&gt;</th><th scope=col>&lt;int&gt;</th><th scope=col>&lt;dbl&gt;</th><th scope=col>&lt;dbl&gt;</th><th scope=col>&lt;dbl&gt;</th><th scope=col>&lt;dbl&gt;</th><th scope=col>&lt;int&gt;</th><th scope=col>&lt;int&gt;</th></tr>\n",
       "</thead>\n",
       "<tbody>\n",
       "\t<tr><th scope=row>1</th><td>3708</td><td>3</td><td>2020-09-01</td><td>WEN</td><td>WENDY'S CO</td><td>2929911</td><td>20.95</td><td>21.16</td><td>20.74</td><td>20.94</td><td>14</td><td>5812</td></tr>\n",
       "</tbody>\n",
       "</table>\n"
      ],
      "text/latex": [
       "A data.frame: 1 × 12\n",
       "\\begin{tabular}{r|llllllllllll}\n",
       "  & GVKEY & iid & datadate & tic & conm & cshtrd & prccd & prchd & prcld & prcod & exchg & sic\\\\\n",
       "  & <int> & <int> & <date> & <chr> & <chr> & <int> & <dbl> & <dbl> & <dbl> & <dbl> & <int> & <int>\\\\\n",
       "\\hline\n",
       "\t1 & 3708 & 3 & 2020-09-01 & WEN & WENDY'S CO & 2929911 & 20.95 & 21.16 & 20.74 & 20.94 & 14 & 5812\\\\\n",
       "\\end{tabular}\n"
      ],
      "text/markdown": [
       "\n",
       "A data.frame: 1 × 12\n",
       "\n",
       "| <!--/--> | GVKEY &lt;int&gt; | iid &lt;int&gt; | datadate &lt;date&gt; | tic &lt;chr&gt; | conm &lt;chr&gt; | cshtrd &lt;int&gt; | prccd &lt;dbl&gt; | prchd &lt;dbl&gt; | prcld &lt;dbl&gt; | prcod &lt;dbl&gt; | exchg &lt;int&gt; | sic &lt;int&gt; |\n",
       "|---|---|---|---|---|---|---|---|---|---|---|---|---|\n",
       "| 1 | 3708 | 3 | 2020-09-01 | WEN | WENDY'S CO | 2929911 | 20.95 | 21.16 | 20.74 | 20.94 | 14 | 5812 |\n",
       "\n"
      ],
      "text/plain": [
       "  GVKEY iid datadate   tic conm       cshtrd  prccd prchd prcld prcod exchg\n",
       "1 3708  3   2020-09-01 WEN WENDY'S CO 2929911 20.95 21.16 20.74 20.94 14   \n",
       "  sic \n",
       "1 5812"
      ]
     },
     "metadata": {},
     "output_type": "display_data"
    },
    {
     "data": {
      "text/html": [
       "'1. DAILY RETURN'"
      ],
      "text/latex": [
       "'1. DAILY RETURN'"
      ],
      "text/markdown": [
       "'1. DAILY RETURN'"
      ],
      "text/plain": [
       "[1] \"1. DAILY RETURN\""
      ]
     },
     "metadata": {},
     "output_type": "display_data"
    },
    {
     "data": {
      "text/html": [
       "<table class=\"dataframe\">\n",
       "<caption>A data.frame: 6 × 16</caption>\n",
       "<thead>\n",
       "\t<tr><th></th><th scope=col>GVKEY</th><th scope=col>iid</th><th scope=col>datadate</th><th scope=col>tic</th><th scope=col>conm</th><th scope=col>cshtrd</th><th scope=col>prccd</th><th scope=col>prchd</th><th scope=col>prcld</th><th scope=col>prcod</th><th scope=col>exchg</th><th scope=col>sic</th><th scope=col>retd</th><th scope=col>retov</th><th scope=col>volch</th><th scope=col>mfv</th></tr>\n",
       "\t<tr><th></th><th scope=col>&lt;int&gt;</th><th scope=col>&lt;int&gt;</th><th scope=col>&lt;date&gt;</th><th scope=col>&lt;chr&gt;</th><th scope=col>&lt;chr&gt;</th><th scope=col>&lt;int&gt;</th><th scope=col>&lt;dbl&gt;</th><th scope=col>&lt;dbl&gt;</th><th scope=col>&lt;dbl&gt;</th><th scope=col>&lt;dbl&gt;</th><th scope=col>&lt;int&gt;</th><th scope=col>&lt;int&gt;</th><th scope=col>&lt;dbl&gt;</th><th scope=col>&lt;dbl&gt;</th><th scope=col>&lt;dbl&gt;</th><th scope=col>&lt;dbl&gt;</th></tr>\n",
       "</thead>\n",
       "<tbody>\n",
       "\t<tr><th scope=row>1</th><td>3708</td><td>3</td><td>2020-09-01</td><td>WEN</td><td>WENDY'S CO</td><td>2929911</td><td>20.950</td><td>21.16</td><td>20.7400</td><td>20.94</td><td>14</td><td>5812</td><td>           NA</td><td>0</td><td>0</td><td>0</td></tr>\n",
       "\t<tr><th scope=row>2</th><td>3708</td><td>3</td><td>2020-09-02</td><td>WEN</td><td>WENDY'S CO</td><td>3814903</td><td>21.970</td><td>22.08</td><td>21.0100</td><td>21.01</td><td>14</td><td>5812</td><td> 0.0486873508</td><td>0</td><td>0</td><td>0</td></tr>\n",
       "\t<tr><th scope=row>3</th><td>3708</td><td>3</td><td>2020-09-03</td><td>WEN</td><td>WENDY'S CO</td><td>4280982</td><td>21.950</td><td>22.48</td><td>21.6450</td><td>21.95</td><td>14</td><td>5812</td><td>-0.0009103323</td><td>0</td><td>0</td><td>0</td></tr>\n",
       "\t<tr><th scope=row>4</th><td>3708</td><td>3</td><td>2020-09-04</td><td>WEN</td><td>WENDY'S CO</td><td>3351921</td><td>21.580</td><td>22.38</td><td>21.4050</td><td>22.20</td><td>14</td><td>5812</td><td>-0.0168564920</td><td>0</td><td>0</td><td>0</td></tr>\n",
       "\t<tr><th scope=row>5</th><td>3708</td><td>3</td><td>2020-09-08</td><td>WEN</td><td>WENDY'S CO</td><td>3439170</td><td>21.850</td><td>22.05</td><td>21.2300</td><td>21.43</td><td>14</td><td>5812</td><td> 0.0125115848</td><td>0</td><td>0</td><td>0</td></tr>\n",
       "\t<tr><th scope=row>6</th><td>3708</td><td>3</td><td>2020-09-09</td><td>WEN</td><td>WENDY'S CO</td><td>2847727</td><td>22.495</td><td>22.61</td><td>21.8322</td><td>22.00</td><td>14</td><td>5812</td><td> 0.0295194508</td><td>0</td><td>0</td><td>0</td></tr>\n",
       "</tbody>\n",
       "</table>\n"
      ],
      "text/latex": [
       "A data.frame: 6 × 16\n",
       "\\begin{tabular}{r|llllllllllllllll}\n",
       "  & GVKEY & iid & datadate & tic & conm & cshtrd & prccd & prchd & prcld & prcod & exchg & sic & retd & retov & volch & mfv\\\\\n",
       "  & <int> & <int> & <date> & <chr> & <chr> & <int> & <dbl> & <dbl> & <dbl> & <dbl> & <int> & <int> & <dbl> & <dbl> & <dbl> & <dbl>\\\\\n",
       "\\hline\n",
       "\t1 & 3708 & 3 & 2020-09-01 & WEN & WENDY'S CO & 2929911 & 20.950 & 21.16 & 20.7400 & 20.94 & 14 & 5812 &            NA & 0 & 0 & 0\\\\\n",
       "\t2 & 3708 & 3 & 2020-09-02 & WEN & WENDY'S CO & 3814903 & 21.970 & 22.08 & 21.0100 & 21.01 & 14 & 5812 &  0.0486873508 & 0 & 0 & 0\\\\\n",
       "\t3 & 3708 & 3 & 2020-09-03 & WEN & WENDY'S CO & 4280982 & 21.950 & 22.48 & 21.6450 & 21.95 & 14 & 5812 & -0.0009103323 & 0 & 0 & 0\\\\\n",
       "\t4 & 3708 & 3 & 2020-09-04 & WEN & WENDY'S CO & 3351921 & 21.580 & 22.38 & 21.4050 & 22.20 & 14 & 5812 & -0.0168564920 & 0 & 0 & 0\\\\\n",
       "\t5 & 3708 & 3 & 2020-09-08 & WEN & WENDY'S CO & 3439170 & 21.850 & 22.05 & 21.2300 & 21.43 & 14 & 5812 &  0.0125115848 & 0 & 0 & 0\\\\\n",
       "\t6 & 3708 & 3 & 2020-09-09 & WEN & WENDY'S CO & 2847727 & 22.495 & 22.61 & 21.8322 & 22.00 & 14 & 5812 &  0.0295194508 & 0 & 0 & 0\\\\\n",
       "\\end{tabular}\n"
      ],
      "text/markdown": [
       "\n",
       "A data.frame: 6 × 16\n",
       "\n",
       "| <!--/--> | GVKEY &lt;int&gt; | iid &lt;int&gt; | datadate &lt;date&gt; | tic &lt;chr&gt; | conm &lt;chr&gt; | cshtrd &lt;int&gt; | prccd &lt;dbl&gt; | prchd &lt;dbl&gt; | prcld &lt;dbl&gt; | prcod &lt;dbl&gt; | exchg &lt;int&gt; | sic &lt;int&gt; | retd &lt;dbl&gt; | retov &lt;dbl&gt; | volch &lt;dbl&gt; | mfv &lt;dbl&gt; |\n",
       "|---|---|---|---|---|---|---|---|---|---|---|---|---|---|---|---|---|\n",
       "| 1 | 3708 | 3 | 2020-09-01 | WEN | WENDY'S CO | 2929911 | 20.950 | 21.16 | 20.7400 | 20.94 | 14 | 5812 |            NA | 0 | 0 | 0 |\n",
       "| 2 | 3708 | 3 | 2020-09-02 | WEN | WENDY'S CO | 3814903 | 21.970 | 22.08 | 21.0100 | 21.01 | 14 | 5812 |  0.0486873508 | 0 | 0 | 0 |\n",
       "| 3 | 3708 | 3 | 2020-09-03 | WEN | WENDY'S CO | 4280982 | 21.950 | 22.48 | 21.6450 | 21.95 | 14 | 5812 | -0.0009103323 | 0 | 0 | 0 |\n",
       "| 4 | 3708 | 3 | 2020-09-04 | WEN | WENDY'S CO | 3351921 | 21.580 | 22.38 | 21.4050 | 22.20 | 14 | 5812 | -0.0168564920 | 0 | 0 | 0 |\n",
       "| 5 | 3708 | 3 | 2020-09-08 | WEN | WENDY'S CO | 3439170 | 21.850 | 22.05 | 21.2300 | 21.43 | 14 | 5812 |  0.0125115848 | 0 | 0 | 0 |\n",
       "| 6 | 3708 | 3 | 2020-09-09 | WEN | WENDY'S CO | 2847727 | 22.495 | 22.61 | 21.8322 | 22.00 | 14 | 5812 |  0.0295194508 | 0 | 0 | 0 |\n",
       "\n"
      ],
      "text/plain": [
       "  GVKEY iid datadate   tic conm       cshtrd  prccd  prchd prcld   prcod exchg\n",
       "1 3708  3   2020-09-01 WEN WENDY'S CO 2929911 20.950 21.16 20.7400 20.94 14   \n",
       "2 3708  3   2020-09-02 WEN WENDY'S CO 3814903 21.970 22.08 21.0100 21.01 14   \n",
       "3 3708  3   2020-09-03 WEN WENDY'S CO 4280982 21.950 22.48 21.6450 21.95 14   \n",
       "4 3708  3   2020-09-04 WEN WENDY'S CO 3351921 21.580 22.38 21.4050 22.20 14   \n",
       "5 3708  3   2020-09-08 WEN WENDY'S CO 3439170 21.850 22.05 21.2300 21.43 14   \n",
       "6 3708  3   2020-09-09 WEN WENDY'S CO 2847727 22.495 22.61 21.8322 22.00 14   \n",
       "  sic  retd          retov volch mfv\n",
       "1 5812            NA 0     0     0  \n",
       "2 5812  0.0486873508 0     0     0  \n",
       "3 5812 -0.0009103323 0     0     0  \n",
       "4 5812 -0.0168564920 0     0     0  \n",
       "5 5812  0.0125115848 0     0     0  \n",
       "6 5812  0.0295194508 0     0     0  "
      ]
     },
     "metadata": {},
     "output_type": "display_data"
    },
    {
     "data": {
      "text/html": [
       "'2. OVERNIGHT RETURN'"
      ],
      "text/latex": [
       "'2. OVERNIGHT RETURN'"
      ],
      "text/markdown": [
       "'2. OVERNIGHT RETURN'"
      ],
      "text/plain": [
       "[1] \"2. OVERNIGHT RETURN\""
      ]
     },
     "metadata": {},
     "output_type": "display_data"
    },
    {
     "data": {
      "text/html": [
       "<table class=\"dataframe\">\n",
       "<caption>A data.frame: 6 × 16</caption>\n",
       "<thead>\n",
       "\t<tr><th></th><th scope=col>GVKEY</th><th scope=col>iid</th><th scope=col>datadate</th><th scope=col>tic</th><th scope=col>conm</th><th scope=col>cshtrd</th><th scope=col>prccd</th><th scope=col>prchd</th><th scope=col>prcld</th><th scope=col>prcod</th><th scope=col>exchg</th><th scope=col>sic</th><th scope=col>retd</th><th scope=col>retov</th><th scope=col>volch</th><th scope=col>mfv</th></tr>\n",
       "\t<tr><th></th><th scope=col>&lt;int&gt;</th><th scope=col>&lt;int&gt;</th><th scope=col>&lt;date&gt;</th><th scope=col>&lt;chr&gt;</th><th scope=col>&lt;chr&gt;</th><th scope=col>&lt;int&gt;</th><th scope=col>&lt;dbl&gt;</th><th scope=col>&lt;dbl&gt;</th><th scope=col>&lt;dbl&gt;</th><th scope=col>&lt;dbl&gt;</th><th scope=col>&lt;int&gt;</th><th scope=col>&lt;int&gt;</th><th scope=col>&lt;dbl&gt;</th><th scope=col>&lt;dbl&gt;</th><th scope=col>&lt;dbl&gt;</th><th scope=col>&lt;dbl&gt;</th></tr>\n",
       "</thead>\n",
       "<tbody>\n",
       "\t<tr><th scope=row>1</th><td>3708</td><td>3</td><td>2020-09-01</td><td>WEN</td><td>WENDY'S CO</td><td>2929911</td><td>20.950</td><td>21.16</td><td>20.7400</td><td>20.94</td><td>14</td><td>5812</td><td>           NA</td><td>           NA</td><td>0</td><td>0</td></tr>\n",
       "\t<tr><th scope=row>2</th><td>3708</td><td>3</td><td>2020-09-02</td><td>WEN</td><td>WENDY'S CO</td><td>3814903</td><td>21.970</td><td>22.08</td><td>21.0100</td><td>21.01</td><td>14</td><td>5812</td><td> 0.0486873508</td><td> 0.0028639618</td><td>0</td><td>0</td></tr>\n",
       "\t<tr><th scope=row>3</th><td>3708</td><td>3</td><td>2020-09-03</td><td>WEN</td><td>WENDY'S CO</td><td>4280982</td><td>21.950</td><td>22.48</td><td>21.6450</td><td>21.95</td><td>14</td><td>5812</td><td>-0.0009103323</td><td>-0.0009103323</td><td>0</td><td>0</td></tr>\n",
       "\t<tr><th scope=row>4</th><td>3708</td><td>3</td><td>2020-09-04</td><td>WEN</td><td>WENDY'S CO</td><td>3351921</td><td>21.580</td><td>22.38</td><td>21.4050</td><td>22.20</td><td>14</td><td>5812</td><td>-0.0168564920</td><td> 0.0113895216</td><td>0</td><td>0</td></tr>\n",
       "\t<tr><th scope=row>5</th><td>3708</td><td>3</td><td>2020-09-08</td><td>WEN</td><td>WENDY'S CO</td><td>3439170</td><td>21.850</td><td>22.05</td><td>21.2300</td><td>21.43</td><td>14</td><td>5812</td><td> 0.0125115848</td><td>-0.0069508804</td><td>0</td><td>0</td></tr>\n",
       "\t<tr><th scope=row>6</th><td>3708</td><td>3</td><td>2020-09-09</td><td>WEN</td><td>WENDY'S CO</td><td>2847727</td><td>22.495</td><td>22.61</td><td>21.8322</td><td>22.00</td><td>14</td><td>5812</td><td> 0.0295194508</td><td> 0.0068649886</td><td>0</td><td>0</td></tr>\n",
       "</tbody>\n",
       "</table>\n"
      ],
      "text/latex": [
       "A data.frame: 6 × 16\n",
       "\\begin{tabular}{r|llllllllllllllll}\n",
       "  & GVKEY & iid & datadate & tic & conm & cshtrd & prccd & prchd & prcld & prcod & exchg & sic & retd & retov & volch & mfv\\\\\n",
       "  & <int> & <int> & <date> & <chr> & <chr> & <int> & <dbl> & <dbl> & <dbl> & <dbl> & <int> & <int> & <dbl> & <dbl> & <dbl> & <dbl>\\\\\n",
       "\\hline\n",
       "\t1 & 3708 & 3 & 2020-09-01 & WEN & WENDY'S CO & 2929911 & 20.950 & 21.16 & 20.7400 & 20.94 & 14 & 5812 &            NA &            NA & 0 & 0\\\\\n",
       "\t2 & 3708 & 3 & 2020-09-02 & WEN & WENDY'S CO & 3814903 & 21.970 & 22.08 & 21.0100 & 21.01 & 14 & 5812 &  0.0486873508 &  0.0028639618 & 0 & 0\\\\\n",
       "\t3 & 3708 & 3 & 2020-09-03 & WEN & WENDY'S CO & 4280982 & 21.950 & 22.48 & 21.6450 & 21.95 & 14 & 5812 & -0.0009103323 & -0.0009103323 & 0 & 0\\\\\n",
       "\t4 & 3708 & 3 & 2020-09-04 & WEN & WENDY'S CO & 3351921 & 21.580 & 22.38 & 21.4050 & 22.20 & 14 & 5812 & -0.0168564920 &  0.0113895216 & 0 & 0\\\\\n",
       "\t5 & 3708 & 3 & 2020-09-08 & WEN & WENDY'S CO & 3439170 & 21.850 & 22.05 & 21.2300 & 21.43 & 14 & 5812 &  0.0125115848 & -0.0069508804 & 0 & 0\\\\\n",
       "\t6 & 3708 & 3 & 2020-09-09 & WEN & WENDY'S CO & 2847727 & 22.495 & 22.61 & 21.8322 & 22.00 & 14 & 5812 &  0.0295194508 &  0.0068649886 & 0 & 0\\\\\n",
       "\\end{tabular}\n"
      ],
      "text/markdown": [
       "\n",
       "A data.frame: 6 × 16\n",
       "\n",
       "| <!--/--> | GVKEY &lt;int&gt; | iid &lt;int&gt; | datadate &lt;date&gt; | tic &lt;chr&gt; | conm &lt;chr&gt; | cshtrd &lt;int&gt; | prccd &lt;dbl&gt; | prchd &lt;dbl&gt; | prcld &lt;dbl&gt; | prcod &lt;dbl&gt; | exchg &lt;int&gt; | sic &lt;int&gt; | retd &lt;dbl&gt; | retov &lt;dbl&gt; | volch &lt;dbl&gt; | mfv &lt;dbl&gt; |\n",
       "|---|---|---|---|---|---|---|---|---|---|---|---|---|---|---|---|---|\n",
       "| 1 | 3708 | 3 | 2020-09-01 | WEN | WENDY'S CO | 2929911 | 20.950 | 21.16 | 20.7400 | 20.94 | 14 | 5812 |            NA |            NA | 0 | 0 |\n",
       "| 2 | 3708 | 3 | 2020-09-02 | WEN | WENDY'S CO | 3814903 | 21.970 | 22.08 | 21.0100 | 21.01 | 14 | 5812 |  0.0486873508 |  0.0028639618 | 0 | 0 |\n",
       "| 3 | 3708 | 3 | 2020-09-03 | WEN | WENDY'S CO | 4280982 | 21.950 | 22.48 | 21.6450 | 21.95 | 14 | 5812 | -0.0009103323 | -0.0009103323 | 0 | 0 |\n",
       "| 4 | 3708 | 3 | 2020-09-04 | WEN | WENDY'S CO | 3351921 | 21.580 | 22.38 | 21.4050 | 22.20 | 14 | 5812 | -0.0168564920 |  0.0113895216 | 0 | 0 |\n",
       "| 5 | 3708 | 3 | 2020-09-08 | WEN | WENDY'S CO | 3439170 | 21.850 | 22.05 | 21.2300 | 21.43 | 14 | 5812 |  0.0125115848 | -0.0069508804 | 0 | 0 |\n",
       "| 6 | 3708 | 3 | 2020-09-09 | WEN | WENDY'S CO | 2847727 | 22.495 | 22.61 | 21.8322 | 22.00 | 14 | 5812 |  0.0295194508 |  0.0068649886 | 0 | 0 |\n",
       "\n"
      ],
      "text/plain": [
       "  GVKEY iid datadate   tic conm       cshtrd  prccd  prchd prcld   prcod exchg\n",
       "1 3708  3   2020-09-01 WEN WENDY'S CO 2929911 20.950 21.16 20.7400 20.94 14   \n",
       "2 3708  3   2020-09-02 WEN WENDY'S CO 3814903 21.970 22.08 21.0100 21.01 14   \n",
       "3 3708  3   2020-09-03 WEN WENDY'S CO 4280982 21.950 22.48 21.6450 21.95 14   \n",
       "4 3708  3   2020-09-04 WEN WENDY'S CO 3351921 21.580 22.38 21.4050 22.20 14   \n",
       "5 3708  3   2020-09-08 WEN WENDY'S CO 3439170 21.850 22.05 21.2300 21.43 14   \n",
       "6 3708  3   2020-09-09 WEN WENDY'S CO 2847727 22.495 22.61 21.8322 22.00 14   \n",
       "  sic  retd          retov         volch mfv\n",
       "1 5812            NA            NA 0     0  \n",
       "2 5812  0.0486873508  0.0028639618 0     0  \n",
       "3 5812 -0.0009103323 -0.0009103323 0     0  \n",
       "4 5812 -0.0168564920  0.0113895216 0     0  \n",
       "5 5812  0.0125115848 -0.0069508804 0     0  \n",
       "6 5812  0.0295194508  0.0068649886 0     0  "
      ]
     },
     "metadata": {},
     "output_type": "display_data"
    },
    {
     "data": {
      "text/html": [
       "'3. VOLUME CHANGE'"
      ],
      "text/latex": [
       "'3. VOLUME CHANGE'"
      ],
      "text/markdown": [
       "'3. VOLUME CHANGE'"
      ],
      "text/plain": [
       "[1] \"3. VOLUME CHANGE\""
      ]
     },
     "metadata": {},
     "output_type": "display_data"
    },
    {
     "data": {
      "text/html": [
       "<table class=\"dataframe\">\n",
       "<caption>A data.frame: 6 × 16</caption>\n",
       "<thead>\n",
       "\t<tr><th></th><th scope=col>GVKEY</th><th scope=col>iid</th><th scope=col>datadate</th><th scope=col>tic</th><th scope=col>conm</th><th scope=col>cshtrd</th><th scope=col>prccd</th><th scope=col>prchd</th><th scope=col>prcld</th><th scope=col>prcod</th><th scope=col>exchg</th><th scope=col>sic</th><th scope=col>retd</th><th scope=col>retov</th><th scope=col>volch</th><th scope=col>mfv</th></tr>\n",
       "\t<tr><th></th><th scope=col>&lt;int&gt;</th><th scope=col>&lt;int&gt;</th><th scope=col>&lt;date&gt;</th><th scope=col>&lt;chr&gt;</th><th scope=col>&lt;chr&gt;</th><th scope=col>&lt;int&gt;</th><th scope=col>&lt;dbl&gt;</th><th scope=col>&lt;dbl&gt;</th><th scope=col>&lt;dbl&gt;</th><th scope=col>&lt;dbl&gt;</th><th scope=col>&lt;int&gt;</th><th scope=col>&lt;int&gt;</th><th scope=col>&lt;dbl&gt;</th><th scope=col>&lt;dbl&gt;</th><th scope=col>&lt;dbl&gt;</th><th scope=col>&lt;dbl&gt;</th></tr>\n",
       "</thead>\n",
       "<tbody>\n",
       "\t<tr><th scope=row>1</th><td>3708</td><td>3</td><td>2020-09-01</td><td>WEN</td><td>WENDY'S CO</td><td>2929911</td><td>20.950</td><td>21.16</td><td>20.7400</td><td>20.94</td><td>14</td><td>5812</td><td>           NA</td><td>           NA</td><td>         NA</td><td>0</td></tr>\n",
       "\t<tr><th scope=row>2</th><td>3708</td><td>3</td><td>2020-09-02</td><td>WEN</td><td>WENDY'S CO</td><td>3814903</td><td>21.970</td><td>22.08</td><td>21.0100</td><td>21.01</td><td>14</td><td>5812</td><td> 0.0486873508</td><td> 0.0028639618</td><td> 0.30205423</td><td>0</td></tr>\n",
       "\t<tr><th scope=row>3</th><td>3708</td><td>3</td><td>2020-09-03</td><td>WEN</td><td>WENDY'S CO</td><td>4280982</td><td>21.950</td><td>22.48</td><td>21.6450</td><td>21.95</td><td>14</td><td>5812</td><td>-0.0009103323</td><td>-0.0009103323</td><td> 0.12217322</td><td>0</td></tr>\n",
       "\t<tr><th scope=row>4</th><td>3708</td><td>3</td><td>2020-09-04</td><td>WEN</td><td>WENDY'S CO</td><td>3351921</td><td>21.580</td><td>22.38</td><td>21.4050</td><td>22.20</td><td>14</td><td>5812</td><td>-0.0168564920</td><td> 0.0113895216</td><td>-0.21702053</td><td>0</td></tr>\n",
       "\t<tr><th scope=row>5</th><td>3708</td><td>3</td><td>2020-09-08</td><td>WEN</td><td>WENDY'S CO</td><td>3439170</td><td>21.850</td><td>22.05</td><td>21.2300</td><td>21.43</td><td>14</td><td>5812</td><td> 0.0125115848</td><td>-0.0069508804</td><td> 0.02602955</td><td>0</td></tr>\n",
       "\t<tr><th scope=row>6</th><td>3708</td><td>3</td><td>2020-09-09</td><td>WEN</td><td>WENDY'S CO</td><td>2847727</td><td>22.495</td><td>22.61</td><td>21.8322</td><td>22.00</td><td>14</td><td>5812</td><td> 0.0295194508</td><td> 0.0068649886</td><td>-0.17197260</td><td>0</td></tr>\n",
       "</tbody>\n",
       "</table>\n"
      ],
      "text/latex": [
       "A data.frame: 6 × 16\n",
       "\\begin{tabular}{r|llllllllllllllll}\n",
       "  & GVKEY & iid & datadate & tic & conm & cshtrd & prccd & prchd & prcld & prcod & exchg & sic & retd & retov & volch & mfv\\\\\n",
       "  & <int> & <int> & <date> & <chr> & <chr> & <int> & <dbl> & <dbl> & <dbl> & <dbl> & <int> & <int> & <dbl> & <dbl> & <dbl> & <dbl>\\\\\n",
       "\\hline\n",
       "\t1 & 3708 & 3 & 2020-09-01 & WEN & WENDY'S CO & 2929911 & 20.950 & 21.16 & 20.7400 & 20.94 & 14 & 5812 &            NA &            NA &          NA & 0\\\\\n",
       "\t2 & 3708 & 3 & 2020-09-02 & WEN & WENDY'S CO & 3814903 & 21.970 & 22.08 & 21.0100 & 21.01 & 14 & 5812 &  0.0486873508 &  0.0028639618 &  0.30205423 & 0\\\\\n",
       "\t3 & 3708 & 3 & 2020-09-03 & WEN & WENDY'S CO & 4280982 & 21.950 & 22.48 & 21.6450 & 21.95 & 14 & 5812 & -0.0009103323 & -0.0009103323 &  0.12217322 & 0\\\\\n",
       "\t4 & 3708 & 3 & 2020-09-04 & WEN & WENDY'S CO & 3351921 & 21.580 & 22.38 & 21.4050 & 22.20 & 14 & 5812 & -0.0168564920 &  0.0113895216 & -0.21702053 & 0\\\\\n",
       "\t5 & 3708 & 3 & 2020-09-08 & WEN & WENDY'S CO & 3439170 & 21.850 & 22.05 & 21.2300 & 21.43 & 14 & 5812 &  0.0125115848 & -0.0069508804 &  0.02602955 & 0\\\\\n",
       "\t6 & 3708 & 3 & 2020-09-09 & WEN & WENDY'S CO & 2847727 & 22.495 & 22.61 & 21.8322 & 22.00 & 14 & 5812 &  0.0295194508 &  0.0068649886 & -0.17197260 & 0\\\\\n",
       "\\end{tabular}\n"
      ],
      "text/markdown": [
       "\n",
       "A data.frame: 6 × 16\n",
       "\n",
       "| <!--/--> | GVKEY &lt;int&gt; | iid &lt;int&gt; | datadate &lt;date&gt; | tic &lt;chr&gt; | conm &lt;chr&gt; | cshtrd &lt;int&gt; | prccd &lt;dbl&gt; | prchd &lt;dbl&gt; | prcld &lt;dbl&gt; | prcod &lt;dbl&gt; | exchg &lt;int&gt; | sic &lt;int&gt; | retd &lt;dbl&gt; | retov &lt;dbl&gt; | volch &lt;dbl&gt; | mfv &lt;dbl&gt; |\n",
       "|---|---|---|---|---|---|---|---|---|---|---|---|---|---|---|---|---|\n",
       "| 1 | 3708 | 3 | 2020-09-01 | WEN | WENDY'S CO | 2929911 | 20.950 | 21.16 | 20.7400 | 20.94 | 14 | 5812 |            NA |            NA |          NA | 0 |\n",
       "| 2 | 3708 | 3 | 2020-09-02 | WEN | WENDY'S CO | 3814903 | 21.970 | 22.08 | 21.0100 | 21.01 | 14 | 5812 |  0.0486873508 |  0.0028639618 |  0.30205423 | 0 |\n",
       "| 3 | 3708 | 3 | 2020-09-03 | WEN | WENDY'S CO | 4280982 | 21.950 | 22.48 | 21.6450 | 21.95 | 14 | 5812 | -0.0009103323 | -0.0009103323 |  0.12217322 | 0 |\n",
       "| 4 | 3708 | 3 | 2020-09-04 | WEN | WENDY'S CO | 3351921 | 21.580 | 22.38 | 21.4050 | 22.20 | 14 | 5812 | -0.0168564920 |  0.0113895216 | -0.21702053 | 0 |\n",
       "| 5 | 3708 | 3 | 2020-09-08 | WEN | WENDY'S CO | 3439170 | 21.850 | 22.05 | 21.2300 | 21.43 | 14 | 5812 |  0.0125115848 | -0.0069508804 |  0.02602955 | 0 |\n",
       "| 6 | 3708 | 3 | 2020-09-09 | WEN | WENDY'S CO | 2847727 | 22.495 | 22.61 | 21.8322 | 22.00 | 14 | 5812 |  0.0295194508 |  0.0068649886 | -0.17197260 | 0 |\n",
       "\n"
      ],
      "text/plain": [
       "  GVKEY iid datadate   tic conm       cshtrd  prccd  prchd prcld   prcod exchg\n",
       "1 3708  3   2020-09-01 WEN WENDY'S CO 2929911 20.950 21.16 20.7400 20.94 14   \n",
       "2 3708  3   2020-09-02 WEN WENDY'S CO 3814903 21.970 22.08 21.0100 21.01 14   \n",
       "3 3708  3   2020-09-03 WEN WENDY'S CO 4280982 21.950 22.48 21.6450 21.95 14   \n",
       "4 3708  3   2020-09-04 WEN WENDY'S CO 3351921 21.580 22.38 21.4050 22.20 14   \n",
       "5 3708  3   2020-09-08 WEN WENDY'S CO 3439170 21.850 22.05 21.2300 21.43 14   \n",
       "6 3708  3   2020-09-09 WEN WENDY'S CO 2847727 22.495 22.61 21.8322 22.00 14   \n",
       "  sic  retd          retov         volch       mfv\n",
       "1 5812            NA            NA          NA 0  \n",
       "2 5812  0.0486873508  0.0028639618  0.30205423 0  \n",
       "3 5812 -0.0009103323 -0.0009103323  0.12217322 0  \n",
       "4 5812 -0.0168564920  0.0113895216 -0.21702053 0  \n",
       "5 5812  0.0125115848 -0.0069508804  0.02602955 0  \n",
       "6 5812  0.0295194508  0.0068649886 -0.17197260 0  "
      ]
     },
     "metadata": {},
     "output_type": "display_data"
    },
    {
     "data": {
      "text/html": [
       "'4. MFV'"
      ],
      "text/latex": [
       "'4. MFV'"
      ],
      "text/markdown": [
       "'4. MFV'"
      ],
      "text/plain": [
       "[1] \"4. MFV\""
      ]
     },
     "metadata": {},
     "output_type": "display_data"
    },
    {
     "data": {
      "text/html": [
       "<table class=\"dataframe\">\n",
       "<caption>A data.frame: 6 × 16</caption>\n",
       "<thead>\n",
       "\t<tr><th></th><th scope=col>GVKEY</th><th scope=col>iid</th><th scope=col>datadate</th><th scope=col>tic</th><th scope=col>conm</th><th scope=col>cshtrd</th><th scope=col>prccd</th><th scope=col>prchd</th><th scope=col>prcld</th><th scope=col>prcod</th><th scope=col>exchg</th><th scope=col>sic</th><th scope=col>retd</th><th scope=col>retov</th><th scope=col>volch</th><th scope=col>mfv</th></tr>\n",
       "\t<tr><th></th><th scope=col>&lt;int&gt;</th><th scope=col>&lt;int&gt;</th><th scope=col>&lt;date&gt;</th><th scope=col>&lt;chr&gt;</th><th scope=col>&lt;chr&gt;</th><th scope=col>&lt;int&gt;</th><th scope=col>&lt;dbl&gt;</th><th scope=col>&lt;dbl&gt;</th><th scope=col>&lt;dbl&gt;</th><th scope=col>&lt;dbl&gt;</th><th scope=col>&lt;int&gt;</th><th scope=col>&lt;int&gt;</th><th scope=col>&lt;dbl&gt;</th><th scope=col>&lt;dbl&gt;</th><th scope=col>&lt;dbl&gt;</th><th scope=col>&lt;dbl&gt;</th></tr>\n",
       "</thead>\n",
       "<tbody>\n",
       "\t<tr><th scope=row>1</th><td>3708</td><td>3</td><td>2020-09-01</td><td>WEN</td><td>WENDY'S CO</td><td>2929911</td><td>20.950</td><td>21.16</td><td>20.7400</td><td>20.94</td><td>14</td><td>5812</td><td>           NA</td><td>           NA</td><td>         NA</td><td>-0.5000000</td></tr>\n",
       "\t<tr><th scope=row>2</th><td>3708</td><td>3</td><td>2020-09-02</td><td>WEN</td><td>WENDY'S CO</td><td>3814903</td><td>21.970</td><td>22.08</td><td>21.0100</td><td>21.01</td><td>14</td><td>5812</td><td> 0.0486873508</td><td> 0.0028639618</td><td> 0.30205423</td><td>-0.1028037</td></tr>\n",
       "\t<tr><th scope=row>3</th><td>3708</td><td>3</td><td>2020-09-03</td><td>WEN</td><td>WENDY'S CO</td><td>4280982</td><td>21.950</td><td>22.48</td><td>21.6450</td><td>21.95</td><td>14</td><td>5812</td><td>-0.0009103323</td><td>-0.0009103323</td><td> 0.12217322</td><td>-0.6347305</td></tr>\n",
       "\t<tr><th scope=row>4</th><td>3708</td><td>3</td><td>2020-09-04</td><td>WEN</td><td>WENDY'S CO</td><td>3351921</td><td>21.580</td><td>22.38</td><td>21.4050</td><td>22.20</td><td>14</td><td>5812</td><td>-0.0168564920</td><td> 0.0113895216</td><td>-0.21702053</td><td>-0.8205128</td></tr>\n",
       "\t<tr><th scope=row>5</th><td>3708</td><td>3</td><td>2020-09-08</td><td>WEN</td><td>WENDY'S CO</td><td>3439170</td><td>21.850</td><td>22.05</td><td>21.2300</td><td>21.43</td><td>14</td><td>5812</td><td> 0.0125115848</td><td>-0.0069508804</td><td> 0.02602955</td><td>-0.2439024</td></tr>\n",
       "\t<tr><th scope=row>6</th><td>3708</td><td>3</td><td>2020-09-09</td><td>WEN</td><td>WENDY'S CO</td><td>2847727</td><td>22.495</td><td>22.61</td><td>21.8322</td><td>22.00</td><td>14</td><td>5812</td><td> 0.0295194508</td><td> 0.0068649886</td><td>-0.17197260</td><td>-0.1478529</td></tr>\n",
       "</tbody>\n",
       "</table>\n"
      ],
      "text/latex": [
       "A data.frame: 6 × 16\n",
       "\\begin{tabular}{r|llllllllllllllll}\n",
       "  & GVKEY & iid & datadate & tic & conm & cshtrd & prccd & prchd & prcld & prcod & exchg & sic & retd & retov & volch & mfv\\\\\n",
       "  & <int> & <int> & <date> & <chr> & <chr> & <int> & <dbl> & <dbl> & <dbl> & <dbl> & <int> & <int> & <dbl> & <dbl> & <dbl> & <dbl>\\\\\n",
       "\\hline\n",
       "\t1 & 3708 & 3 & 2020-09-01 & WEN & WENDY'S CO & 2929911 & 20.950 & 21.16 & 20.7400 & 20.94 & 14 & 5812 &            NA &            NA &          NA & -0.5000000\\\\\n",
       "\t2 & 3708 & 3 & 2020-09-02 & WEN & WENDY'S CO & 3814903 & 21.970 & 22.08 & 21.0100 & 21.01 & 14 & 5812 &  0.0486873508 &  0.0028639618 &  0.30205423 & -0.1028037\\\\\n",
       "\t3 & 3708 & 3 & 2020-09-03 & WEN & WENDY'S CO & 4280982 & 21.950 & 22.48 & 21.6450 & 21.95 & 14 & 5812 & -0.0009103323 & -0.0009103323 &  0.12217322 & -0.6347305\\\\\n",
       "\t4 & 3708 & 3 & 2020-09-04 & WEN & WENDY'S CO & 3351921 & 21.580 & 22.38 & 21.4050 & 22.20 & 14 & 5812 & -0.0168564920 &  0.0113895216 & -0.21702053 & -0.8205128\\\\\n",
       "\t5 & 3708 & 3 & 2020-09-08 & WEN & WENDY'S CO & 3439170 & 21.850 & 22.05 & 21.2300 & 21.43 & 14 & 5812 &  0.0125115848 & -0.0069508804 &  0.02602955 & -0.2439024\\\\\n",
       "\t6 & 3708 & 3 & 2020-09-09 & WEN & WENDY'S CO & 2847727 & 22.495 & 22.61 & 21.8322 & 22.00 & 14 & 5812 &  0.0295194508 &  0.0068649886 & -0.17197260 & -0.1478529\\\\\n",
       "\\end{tabular}\n"
      ],
      "text/markdown": [
       "\n",
       "A data.frame: 6 × 16\n",
       "\n",
       "| <!--/--> | GVKEY &lt;int&gt; | iid &lt;int&gt; | datadate &lt;date&gt; | tic &lt;chr&gt; | conm &lt;chr&gt; | cshtrd &lt;int&gt; | prccd &lt;dbl&gt; | prchd &lt;dbl&gt; | prcld &lt;dbl&gt; | prcod &lt;dbl&gt; | exchg &lt;int&gt; | sic &lt;int&gt; | retd &lt;dbl&gt; | retov &lt;dbl&gt; | volch &lt;dbl&gt; | mfv &lt;dbl&gt; |\n",
       "|---|---|---|---|---|---|---|---|---|---|---|---|---|---|---|---|---|\n",
       "| 1 | 3708 | 3 | 2020-09-01 | WEN | WENDY'S CO | 2929911 | 20.950 | 21.16 | 20.7400 | 20.94 | 14 | 5812 |            NA |            NA |          NA | -0.5000000 |\n",
       "| 2 | 3708 | 3 | 2020-09-02 | WEN | WENDY'S CO | 3814903 | 21.970 | 22.08 | 21.0100 | 21.01 | 14 | 5812 |  0.0486873508 |  0.0028639618 |  0.30205423 | -0.1028037 |\n",
       "| 3 | 3708 | 3 | 2020-09-03 | WEN | WENDY'S CO | 4280982 | 21.950 | 22.48 | 21.6450 | 21.95 | 14 | 5812 | -0.0009103323 | -0.0009103323 |  0.12217322 | -0.6347305 |\n",
       "| 4 | 3708 | 3 | 2020-09-04 | WEN | WENDY'S CO | 3351921 | 21.580 | 22.38 | 21.4050 | 22.20 | 14 | 5812 | -0.0168564920 |  0.0113895216 | -0.21702053 | -0.8205128 |\n",
       "| 5 | 3708 | 3 | 2020-09-08 | WEN | WENDY'S CO | 3439170 | 21.850 | 22.05 | 21.2300 | 21.43 | 14 | 5812 |  0.0125115848 | -0.0069508804 |  0.02602955 | -0.2439024 |\n",
       "| 6 | 3708 | 3 | 2020-09-09 | WEN | WENDY'S CO | 2847727 | 22.495 | 22.61 | 21.8322 | 22.00 | 14 | 5812 |  0.0295194508 |  0.0068649886 | -0.17197260 | -0.1478529 |\n",
       "\n"
      ],
      "text/plain": [
       "  GVKEY iid datadate   tic conm       cshtrd  prccd  prchd prcld   prcod exchg\n",
       "1 3708  3   2020-09-01 WEN WENDY'S CO 2929911 20.950 21.16 20.7400 20.94 14   \n",
       "2 3708  3   2020-09-02 WEN WENDY'S CO 3814903 21.970 22.08 21.0100 21.01 14   \n",
       "3 3708  3   2020-09-03 WEN WENDY'S CO 4280982 21.950 22.48 21.6450 21.95 14   \n",
       "4 3708  3   2020-09-04 WEN WENDY'S CO 3351921 21.580 22.38 21.4050 22.20 14   \n",
       "5 3708  3   2020-09-08 WEN WENDY'S CO 3439170 21.850 22.05 21.2300 21.43 14   \n",
       "6 3708  3   2020-09-09 WEN WENDY'S CO 2847727 22.495 22.61 21.8322 22.00 14   \n",
       "  sic  retd          retov         volch       mfv       \n",
       "1 5812            NA            NA          NA -0.5000000\n",
       "2 5812  0.0486873508  0.0028639618  0.30205423 -0.1028037\n",
       "3 5812 -0.0009103323 -0.0009103323  0.12217322 -0.6347305\n",
       "4 5812 -0.0168564920  0.0113895216 -0.21702053 -0.8205128\n",
       "5 5812  0.0125115848 -0.0069508804  0.02602955 -0.2439024\n",
       "6 5812  0.0295194508  0.0068649886 -0.17197260 -0.1478529"
      ]
     },
     "metadata": {},
     "output_type": "display_data"
    }
   ],
   "source": [
    "# load csv file as data but clean the date format\n",
    "\"ALL STOCK DATA\"\n",
    "stock_data = read.csv(\"compustat_food_bev.csv\")\n",
    "stock_data$datadate = as.Date(stock_data$datadate, format = \"%d/%m/%Y\")\n",
    "stock_data[1, ] \n",
    "\n",
    "\n",
    "# construct new data table with stock data exclusively tied to Wendy's\n",
    "\"WENDY'S STOCK DATA\"\n",
    "stock_data_wen = filter(stock_data, tic==\"WEN\")\n",
    "stock_data_wen[1, ] \n",
    "\n",
    "# count the number of rows, i.e. entries for daily stock price movement of Wendy's\n",
    "days_wen = nrow(stock_data_wen)\n",
    "\n",
    "# create new empty columns meant to be loaded with daily returns, overnight returns, volume change and MFV\n",
    "stock_data_wen$retd = 0\n",
    "stock_data_wen$retov = 0\n",
    "stock_data_wen$volch = 0\n",
    "stock_data_wen$mfv = 0\n",
    "\n",
    "# calculate daily returns as: (closing price_t/closing price_t-1)-1\n",
    "\"1. DAILY RETURN\"\n",
    "head(stock_data_wen <- mutate(stock_data_wen, retd = (prccd/lag(prccd))-1))\n",
    "\n",
    "# calculate overnight returns as: (operning price_t/closing price_t-1)-1\n",
    "\"2. OVERNIGHT RETURN\"\n",
    "head(stock_data_wen <- mutate(stock_data_wen, retov = (prcod/lag(prccd))-1))\n",
    "\n",
    "# calculate volume change as: (volume_t/volume_t-1)-1\n",
    "\"3. VOLUME CHANGE\"\n",
    "head(stock_data_wen <- mutate(stock_data_wen, volch = (cshtrd/lag(cshtrd))-1))\n",
    "\n",
    "# calculate mfv\n",
    "\"4. MFV\"\n",
    "head(stock_data_wen <- mutate(stock_data_wen, \n",
    "    mfv = (\n",
    "        ((prccd-prcld)-(prchd-prcld))/(prchd-prcld)\n",
    "        )\n",
    "))\n"
   ]
  },
  {
   "cell_type": "markdown",
   "id": "1e83100e",
   "metadata": {},
   "source": [
    "## More features, metrics and dates\n",
    "The next part will cover various kinds of data manipulation."
   ]
  },
  {
   "cell_type": "code",
   "execution_count": 31,
   "id": "8cbf2ade",
   "metadata": {
    "vscode": {
     "languageId": "r"
    }
   },
   "outputs": [
    {
     "data": {
      "text/html": [
       "'5., 6. MONTH &amp; YEAR'"
      ],
      "text/latex": [
       "'5., 6. MONTH \\& YEAR'"
      ],
      "text/markdown": [
       "'5., 6. MONTH &amp; YEAR'"
      ],
      "text/plain": [
       "[1] \"5., 6. MONTH & YEAR\""
      ]
     },
     "metadata": {},
     "output_type": "display_data"
    },
    {
     "data": {
      "text/html": [
       "<table class=\"dataframe\">\n",
       "<caption>A data.frame: 6 × 18</caption>\n",
       "<thead>\n",
       "\t<tr><th></th><th scope=col>GVKEY</th><th scope=col>iid</th><th scope=col>datadate</th><th scope=col>tic</th><th scope=col>conm</th><th scope=col>cshtrd</th><th scope=col>prccd</th><th scope=col>prchd</th><th scope=col>prcld</th><th scope=col>prcod</th><th scope=col>exchg</th><th scope=col>sic</th><th scope=col>retd</th><th scope=col>retov</th><th scope=col>volch</th><th scope=col>mfv</th><th scope=col>mon</th><th scope=col>yr</th></tr>\n",
       "\t<tr><th></th><th scope=col>&lt;int&gt;</th><th scope=col>&lt;int&gt;</th><th scope=col>&lt;date&gt;</th><th scope=col>&lt;chr&gt;</th><th scope=col>&lt;chr&gt;</th><th scope=col>&lt;int&gt;</th><th scope=col>&lt;dbl&gt;</th><th scope=col>&lt;dbl&gt;</th><th scope=col>&lt;dbl&gt;</th><th scope=col>&lt;dbl&gt;</th><th scope=col>&lt;int&gt;</th><th scope=col>&lt;int&gt;</th><th scope=col>&lt;dbl&gt;</th><th scope=col>&lt;dbl&gt;</th><th scope=col>&lt;dbl&gt;</th><th scope=col>&lt;dbl&gt;</th><th scope=col>&lt;dbl&gt;</th><th scope=col>&lt;dbl&gt;</th></tr>\n",
       "</thead>\n",
       "<tbody>\n",
       "\t<tr><th scope=row>1</th><td>3708</td><td>3</td><td>2020-09-01</td><td>WEN</td><td>WENDY'S CO</td><td>2929911</td><td>20.950</td><td>21.16</td><td>20.7400</td><td>20.94</td><td>14</td><td>5812</td><td>           NA</td><td>           NA</td><td>         NA</td><td>-0.5000000</td><td>9</td><td>2020</td></tr>\n",
       "\t<tr><th scope=row>2</th><td>3708</td><td>3</td><td>2020-09-02</td><td>WEN</td><td>WENDY'S CO</td><td>3814903</td><td>21.970</td><td>22.08</td><td>21.0100</td><td>21.01</td><td>14</td><td>5812</td><td> 0.0486873508</td><td> 0.0028639618</td><td> 0.30205423</td><td>-0.1028037</td><td>9</td><td>2020</td></tr>\n",
       "\t<tr><th scope=row>3</th><td>3708</td><td>3</td><td>2020-09-03</td><td>WEN</td><td>WENDY'S CO</td><td>4280982</td><td>21.950</td><td>22.48</td><td>21.6450</td><td>21.95</td><td>14</td><td>5812</td><td>-0.0009103323</td><td>-0.0009103323</td><td> 0.12217322</td><td>-0.6347305</td><td>9</td><td>2020</td></tr>\n",
       "\t<tr><th scope=row>4</th><td>3708</td><td>3</td><td>2020-09-04</td><td>WEN</td><td>WENDY'S CO</td><td>3351921</td><td>21.580</td><td>22.38</td><td>21.4050</td><td>22.20</td><td>14</td><td>5812</td><td>-0.0168564920</td><td> 0.0113895216</td><td>-0.21702053</td><td>-0.8205128</td><td>9</td><td>2020</td></tr>\n",
       "\t<tr><th scope=row>5</th><td>3708</td><td>3</td><td>2020-09-08</td><td>WEN</td><td>WENDY'S CO</td><td>3439170</td><td>21.850</td><td>22.05</td><td>21.2300</td><td>21.43</td><td>14</td><td>5812</td><td> 0.0125115848</td><td>-0.0069508804</td><td> 0.02602955</td><td>-0.2439024</td><td>9</td><td>2020</td></tr>\n",
       "\t<tr><th scope=row>6</th><td>3708</td><td>3</td><td>2020-09-09</td><td>WEN</td><td>WENDY'S CO</td><td>2847727</td><td>22.495</td><td>22.61</td><td>21.8322</td><td>22.00</td><td>14</td><td>5812</td><td> 0.0295194508</td><td> 0.0068649886</td><td>-0.17197260</td><td>-0.1478529</td><td>9</td><td>2020</td></tr>\n",
       "</tbody>\n",
       "</table>\n"
      ],
      "text/latex": [
       "A data.frame: 6 × 18\n",
       "\\begin{tabular}{r|llllllllllllllllll}\n",
       "  & GVKEY & iid & datadate & tic & conm & cshtrd & prccd & prchd & prcld & prcod & exchg & sic & retd & retov & volch & mfv & mon & yr\\\\\n",
       "  & <int> & <int> & <date> & <chr> & <chr> & <int> & <dbl> & <dbl> & <dbl> & <dbl> & <int> & <int> & <dbl> & <dbl> & <dbl> & <dbl> & <dbl> & <dbl>\\\\\n",
       "\\hline\n",
       "\t1 & 3708 & 3 & 2020-09-01 & WEN & WENDY'S CO & 2929911 & 20.950 & 21.16 & 20.7400 & 20.94 & 14 & 5812 &            NA &            NA &          NA & -0.5000000 & 9 & 2020\\\\\n",
       "\t2 & 3708 & 3 & 2020-09-02 & WEN & WENDY'S CO & 3814903 & 21.970 & 22.08 & 21.0100 & 21.01 & 14 & 5812 &  0.0486873508 &  0.0028639618 &  0.30205423 & -0.1028037 & 9 & 2020\\\\\n",
       "\t3 & 3708 & 3 & 2020-09-03 & WEN & WENDY'S CO & 4280982 & 21.950 & 22.48 & 21.6450 & 21.95 & 14 & 5812 & -0.0009103323 & -0.0009103323 &  0.12217322 & -0.6347305 & 9 & 2020\\\\\n",
       "\t4 & 3708 & 3 & 2020-09-04 & WEN & WENDY'S CO & 3351921 & 21.580 & 22.38 & 21.4050 & 22.20 & 14 & 5812 & -0.0168564920 &  0.0113895216 & -0.21702053 & -0.8205128 & 9 & 2020\\\\\n",
       "\t5 & 3708 & 3 & 2020-09-08 & WEN & WENDY'S CO & 3439170 & 21.850 & 22.05 & 21.2300 & 21.43 & 14 & 5812 &  0.0125115848 & -0.0069508804 &  0.02602955 & -0.2439024 & 9 & 2020\\\\\n",
       "\t6 & 3708 & 3 & 2020-09-09 & WEN & WENDY'S CO & 2847727 & 22.495 & 22.61 & 21.8322 & 22.00 & 14 & 5812 &  0.0295194508 &  0.0068649886 & -0.17197260 & -0.1478529 & 9 & 2020\\\\\n",
       "\\end{tabular}\n"
      ],
      "text/markdown": [
       "\n",
       "A data.frame: 6 × 18\n",
       "\n",
       "| <!--/--> | GVKEY &lt;int&gt; | iid &lt;int&gt; | datadate &lt;date&gt; | tic &lt;chr&gt; | conm &lt;chr&gt; | cshtrd &lt;int&gt; | prccd &lt;dbl&gt; | prchd &lt;dbl&gt; | prcld &lt;dbl&gt; | prcod &lt;dbl&gt; | exchg &lt;int&gt; | sic &lt;int&gt; | retd &lt;dbl&gt; | retov &lt;dbl&gt; | volch &lt;dbl&gt; | mfv &lt;dbl&gt; | mon &lt;dbl&gt; | yr &lt;dbl&gt; |\n",
       "|---|---|---|---|---|---|---|---|---|---|---|---|---|---|---|---|---|---|---|\n",
       "| 1 | 3708 | 3 | 2020-09-01 | WEN | WENDY'S CO | 2929911 | 20.950 | 21.16 | 20.7400 | 20.94 | 14 | 5812 |            NA |            NA |          NA | -0.5000000 | 9 | 2020 |\n",
       "| 2 | 3708 | 3 | 2020-09-02 | WEN | WENDY'S CO | 3814903 | 21.970 | 22.08 | 21.0100 | 21.01 | 14 | 5812 |  0.0486873508 |  0.0028639618 |  0.30205423 | -0.1028037 | 9 | 2020 |\n",
       "| 3 | 3708 | 3 | 2020-09-03 | WEN | WENDY'S CO | 4280982 | 21.950 | 22.48 | 21.6450 | 21.95 | 14 | 5812 | -0.0009103323 | -0.0009103323 |  0.12217322 | -0.6347305 | 9 | 2020 |\n",
       "| 4 | 3708 | 3 | 2020-09-04 | WEN | WENDY'S CO | 3351921 | 21.580 | 22.38 | 21.4050 | 22.20 | 14 | 5812 | -0.0168564920 |  0.0113895216 | -0.21702053 | -0.8205128 | 9 | 2020 |\n",
       "| 5 | 3708 | 3 | 2020-09-08 | WEN | WENDY'S CO | 3439170 | 21.850 | 22.05 | 21.2300 | 21.43 | 14 | 5812 |  0.0125115848 | -0.0069508804 |  0.02602955 | -0.2439024 | 9 | 2020 |\n",
       "| 6 | 3708 | 3 | 2020-09-09 | WEN | WENDY'S CO | 2847727 | 22.495 | 22.61 | 21.8322 | 22.00 | 14 | 5812 |  0.0295194508 |  0.0068649886 | -0.17197260 | -0.1478529 | 9 | 2020 |\n",
       "\n"
      ],
      "text/plain": [
       "  GVKEY iid datadate   tic conm       cshtrd  prccd  prchd prcld   prcod exchg\n",
       "1 3708  3   2020-09-01 WEN WENDY'S CO 2929911 20.950 21.16 20.7400 20.94 14   \n",
       "2 3708  3   2020-09-02 WEN WENDY'S CO 3814903 21.970 22.08 21.0100 21.01 14   \n",
       "3 3708  3   2020-09-03 WEN WENDY'S CO 4280982 21.950 22.48 21.6450 21.95 14   \n",
       "4 3708  3   2020-09-04 WEN WENDY'S CO 3351921 21.580 22.38 21.4050 22.20 14   \n",
       "5 3708  3   2020-09-08 WEN WENDY'S CO 3439170 21.850 22.05 21.2300 21.43 14   \n",
       "6 3708  3   2020-09-09 WEN WENDY'S CO 2847727 22.495 22.61 21.8322 22.00 14   \n",
       "  sic  retd          retov         volch       mfv        mon yr  \n",
       "1 5812            NA            NA          NA -0.5000000 9   2020\n",
       "2 5812  0.0486873508  0.0028639618  0.30205423 -0.1028037 9   2020\n",
       "3 5812 -0.0009103323 -0.0009103323  0.12217322 -0.6347305 9   2020\n",
       "4 5812 -0.0168564920  0.0113895216 -0.21702053 -0.8205128 9   2020\n",
       "5 5812  0.0125115848 -0.0069508804  0.02602955 -0.2439024 9   2020\n",
       "6 5812  0.0295194508  0.0068649886 -0.17197260 -0.1478529 9   2020"
      ]
     },
     "metadata": {},
     "output_type": "display_data"
    },
    {
     "data": {
      "text/html": [
       "'7. TOTAL TRADING VOLUME JUNE 2023'"
      ],
      "text/latex": [
       "'7. TOTAL TRADING VOLUME JUNE 2023'"
      ],
      "text/markdown": [
       "'7. TOTAL TRADING VOLUME JUNE 2023'"
      ],
      "text/plain": [
       "[1] \"7. TOTAL TRADING VOLUME JUNE 2023\""
      ]
     },
     "metadata": {},
     "output_type": "display_data"
    },
    {
     "data": {
      "text/html": [
       "54557454"
      ],
      "text/latex": [
       "54557454"
      ],
      "text/markdown": [
       "54557454"
      ],
      "text/plain": [
       "[1] 54557454"
      ]
     },
     "metadata": {},
     "output_type": "display_data"
    },
    {
     "data": {
      "text/html": [
       "'8. MEAN DAILY RETURN'"
      ],
      "text/latex": [
       "'8. MEAN DAILY RETURN'"
      ],
      "text/markdown": [
       "'8. MEAN DAILY RETURN'"
      ],
      "text/plain": [
       "[1] \"8. MEAN DAILY RETURN\""
      ]
     },
     "metadata": {},
     "output_type": "display_data"
    },
    {
     "data": {
      "text/html": [
       "0.000116474712706265"
      ],
      "text/latex": [
       "0.000116474712706265"
      ],
      "text/markdown": [
       "0.000116474712706265"
      ],
      "text/plain": [
       "[1] 0.0001164747"
      ]
     },
     "metadata": {},
     "output_type": "display_data"
    },
    {
     "data": {
      "text/html": [
       "'9. DATE with LARGEST HIGH PRICE'"
      ],
      "text/latex": [
       "'9. DATE with LARGEST HIGH PRICE'"
      ],
      "text/markdown": [
       "'9. DATE with LARGEST HIGH PRICE'"
      ],
      "text/plain": [
       "[1] \"9. DATE with LARGEST HIGH PRICE\""
      ]
     },
     "metadata": {},
     "output_type": "display_data"
    },
    {
     "data": {
      "text/html": [
       "<time datetime=\"2021-06-08\">2021-06-08</time>"
      ],
      "text/latex": [
       "2021-06-08"
      ],
      "text/markdown": [
       "2021-06-08"
      ],
      "text/plain": [
       "[1] \"2021-06-08\""
      ]
     },
     "metadata": {},
     "output_type": "display_data"
    },
    {
     "data": {
      "text/html": [
       "'^PRICE'"
      ],
      "text/latex": [
       "'\\textasciicircum{}PRICE'"
      ],
      "text/markdown": [
       "'^PRICE'"
      ],
      "text/plain": [
       "[1] \"^PRICE\""
      ]
     },
     "metadata": {},
     "output_type": "display_data"
    },
    {
     "name": "stdout",
     "output_type": "stream",
     "text": [
      "[1] 29.46\n"
     ]
    },
    {
     "data": {
      "text/html": [
       "'10. DATE with LARGEST DAILY RETURN'"
      ],
      "text/latex": [
       "'10. DATE with LARGEST DAILY RETURN'"
      ],
      "text/markdown": [
       "'10. DATE with LARGEST DAILY RETURN'"
      ],
      "text/plain": [
       "[1] \"10. DATE with LARGEST DAILY RETURN\""
      ]
     },
     "metadata": {},
     "output_type": "display_data"
    },
    {
     "data": {
      "text/html": [
       "<time datetime=\"2021-06-08\">2021-06-08</time>"
      ],
      "text/latex": [
       "2021-06-08"
      ],
      "text/markdown": [
       "2021-06-08"
      ],
      "text/plain": [
       "[1] \"2021-06-08\""
      ]
     },
     "metadata": {},
     "output_type": "display_data"
    },
    {
     "data": {
      "text/html": [
       "'^RETURN'"
      ],
      "text/latex": [
       "'\\textasciicircum{}RETURN'"
      ],
      "text/markdown": [
       "'^RETURN'"
      ],
      "text/plain": [
       "[1] \"^RETURN\""
      ]
     },
     "metadata": {},
     "output_type": "display_data"
    },
    {
     "name": "stdout",
     "output_type": "stream",
     "text": [
      "[1] 0.2585004\n"
     ]
    }
   ],
   "source": [
    "# Add column that indicate the month and year\n",
    "\"5., 6. MONTH & YEAR\"\n",
    "stock_data_wen$mon = 0\n",
    "stock_data_wen$yr = 0\n",
    "head(stock_data_wen <- mutate(stock_data_wen,\n",
    "    mon = month(datadate),\n",
    "    yr = year(datadate)\n",
    "))\n",
    "\n",
    "# Calculate the total trading volume, in June 2023.\n",
    "\"7. TOTAL TRADING VOLUME JUNE 2023\"\n",
    "tv0623 = sum(stock_data_wen$cshtrd[\n",
    "    stock_data_wen$mon == 6 & stock_data_wen$yr==2023\n",
    "    ])\n",
    "tv0623\n",
    "\n",
    "# Calculate the mean daily return, over the entire period.\n",
    "\"8. MEAN DAILY RETURN\"\n",
    "return_daily_mean = mean(stock_data_wen$retd, na.rm = TRUE)\n",
    "return_daily_mean\n",
    "\n",
    "# Calculate the date that saw the largest positive high price.\n",
    "\"9. DATE with LARGEST HIGH PRICE\"\n",
    "date_highest_high = stock_data_wen$datadate[\n",
    "    which.max(stock_data_wen$prchd)\n",
    "    ]\n",
    "date_highest_high\n",
    "\n",
    "# Said price is how much?\n",
    "\n",
    "\"^PRICE\"\n",
    "print(stock_data_wen$prchd[which.max(stock_data_wen$prchd)])\n",
    "\n",
    "# Calculate the date that saw the largest positive daily return.\n",
    "\"10. DATE with LARGEST DAILY RETURN\"\n",
    "date_highest_daily_return = stock_data_wen$datadate[\n",
    "    which.max(stock_data_wen$retd)\n",
    "    ]\n",
    "date_highest_daily_return\n",
    "\n",
    "# Said return is how much?\n",
    "\"^RETURN\"\n",
    "print(stock_data_wen$retd[which.max(stock_data_wen$retd)])\n"
   ]
  }
 ],
 "metadata": {
  "kernelspec": {
   "display_name": "R",
   "language": "R",
   "name": "ir"
  },
  "language_info": {
   "codemirror_mode": "r",
   "file_extension": ".r",
   "mimetype": "text/x-r-source",
   "name": "R",
   "pygments_lexer": "r",
   "version": "4.3.3"
  }
 },
 "nbformat": 4,
 "nbformat_minor": 5
}
