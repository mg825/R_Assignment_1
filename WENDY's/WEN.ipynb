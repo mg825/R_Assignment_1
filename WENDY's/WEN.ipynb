{
 "cells": [
  {
   "cell_type": "markdown",
   "id": "5f0ec753",
   "metadata": {},
   "source": [
    "---\n",
    "title: \"Assignment 1 - Wendy's (WEN) Stock Data Analysis\"\n",
    "\"authors\": \"Maxim\" \n",
    "format: pdf\n",
    "---\n",
    "\n",
    "\\newpage\n",
    "\\tableofcontents\n",
    "\\listoffigures\n",
    "\\listoftables\n",
    "\\newpage"
   ]
  },
  {
   "cell_type": "markdown",
   "id": "43f681d4",
   "metadata": {},
   "source": [
    "# Preparations\n",
    "Before messing around with the stock data, the environment should install and load the dplyr and lubridate packages to perform easier data analysis."
   ]
  },
  {
   "cell_type": "code",
   "execution_count": null,
   "id": "f5cfde30",
   "metadata": {
    "vscode": {
     "languageId": "r"
    }
   },
   "outputs": [],
   "source": [
    "# installation\n",
    "install.packages(\"dplyr\")\n",
    "install.packages(\"lubridate\")\n",
    "install.packages(\"knitr\")\n",
    "install.packages(\"kableExtra\")"
   ]
  },
  {
   "cell_type": "markdown",
   "id": "0e0a8cb1",
   "metadata": {},
   "source": [
    "After installing them, the packages are loaded in."
   ]
  },
  {
   "cell_type": "code",
   "execution_count": 41,
   "id": "5af1eb8d",
   "metadata": {
    "vscode": {
     "languageId": "r"
    }
   },
   "outputs": [
    {
     "name": "stderr",
     "output_type": "stream",
     "text": [
      "\n",
      "Attaching package: ‘kableExtra’\n",
      "\n",
      "\n",
      "The following object is masked from ‘package:dplyr’:\n",
      "\n",
      "    group_rows\n",
      "\n",
      "\n"
     ]
    }
   ],
   "source": [
    "#| warning: false\n",
    "library(dplyr)\n",
    "library(lubridate)\n",
    "library(knitr)\n",
    "library(kableExtra)"
   ]
  },
  {
   "cell_type": "markdown",
   "id": "aa3b6228",
   "metadata": {},
   "source": [
    "# Data Analysis\n",
    "Now let's start actually processing and transforming the stock data.\n",
    "First of all, the data must be *read* into existence, so that it becomes a workable dataframe. Columns irrelevant to this exercise are removed for illustration purposes.\n",
    "<br> But to ensure correct formatting, the `datadate` variable is adjusted to the standard date format. "
   ]
  },
  {
   "cell_type": "code",
   "execution_count": 42,
   "id": "591552c5",
   "metadata": {
    "vscode": {
     "languageId": "r"
    }
   },
   "outputs": [],
   "source": [
    "# load csv file as stock_data but clean the date format\n",
    "data = read.csv(\"compustat_food_bev.csv\")\n",
    "stock_data = data[, -c(1, 2, 5)]\n",
    "stock_data$datadate = as.Date(stock_data$datadate, format = \"%d/%m/%Y\")"
   ]
  },
  {
   "cell_type": "markdown",
   "id": "8ffefda1",
   "metadata": {},
   "source": [
    "With the stock data in place, only the relevant data set gets filtered out, here: Wendy's (ticker: WEN) "
   ]
  },
  {
   "cell_type": "code",
   "execution_count": 43,
   "id": "57f7b8b5",
   "metadata": {
    "vscode": {
     "languageId": "r"
    }
   },
   "outputs": [],
   "source": [
    "# construct new data table with stock data exclusively tied to Wendy's\n",
    "stock_data_wen = filter(stock_data, tic==\"WEN\")"
   ]
  },
  {
   "cell_type": "markdown",
   "id": "5b1a210b",
   "metadata": {},
   "source": [
    "Inbefore tackling the tasks, some new columns must be created.\n",
    "<br> These are going to be loaded with metrics such as the daily returns, overnight returns, volume change and MFV of our stock data."
   ]
  },
  {
   "cell_type": "code",
   "execution_count": 44,
   "id": "27d0e889",
   "metadata": {
    "vscode": {
     "languageId": "r"
    }
   },
   "outputs": [],
   "source": [
    "# create new empty columns \n",
    "stock_data_wen$retd = 0\n",
    "stock_data_wen$retov = 0\n",
    "stock_data_wen$volch = 0\n",
    "stock_data_wen$mfv = 0"
   ]
  },
  {
   "cell_type": "markdown",
   "id": "bc9acb77",
   "metadata": {},
   "source": [
    "Next, we can actually perform the calculations for these metrics.\n",
    "\\newpage"
   ]
  },
  {
   "cell_type": "markdown",
   "id": "fa06d75a",
   "metadata": {},
   "source": [
    "## (1) Daily Returns"
   ]
  },
  {
   "cell_type": "code",
   "execution_count": null,
   "id": "ec373d2e",
   "metadata": {
    "vscode": {
     "languageId": "r"
    }
   },
   "outputs": [],
   "source": [
    "# calculate daily returns as: (closing price_t/closing price_t-1)-1\n",
    "head(stock_data_wen <- mutate(stock_data_wen, retd = round((prccd/lag(prccd))-1, 2)))"
   ]
  },
  {
   "cell_type": "markdown",
   "id": "c7d782fb",
   "metadata": {},
   "source": [
    "## (2) Overnight Returns"
   ]
  },
  {
   "cell_type": "code",
   "execution_count": null,
   "id": "83c604b8",
   "metadata": {
    "vscode": {
     "languageId": "r"
    }
   },
   "outputs": [],
   "source": [
    "# calculate overnight returns as: (operning price_t/closing price_t-1)-1\n",
    "head(stock_data_wen <- mutate(stock_data_wen, retov = round((prcod/lag(prccd))-1, 2)))"
   ]
  },
  {
   "cell_type": "markdown",
   "id": "c54b53bd",
   "metadata": {},
   "source": [
    "## (3) Volume Change"
   ]
  },
  {
   "cell_type": "code",
   "execution_count": null,
   "id": "d6bdbf56",
   "metadata": {
    "vscode": {
     "languageId": "r"
    }
   },
   "outputs": [],
   "source": [
    "# calculate volume change as: (volume_t/volume_t-1)-1\n",
    "head(stock_data_wen <- mutate(stock_data_wen, volch = round((cshtrd/lag(cshtrd))-1, 2)))"
   ]
  },
  {
   "cell_type": "markdown",
   "id": "83b9497b",
   "metadata": {},
   "source": [
    "## (4) Money Flow Volume Indicator (MFV)"
   ]
  },
  {
   "cell_type": "code",
   "execution_count": null,
   "id": "043ca6bf",
   "metadata": {
    "vscode": {
     "languageId": "r"
    }
   },
   "outputs": [],
   "source": [
    "# calculate mfv\n",
    "head(stock_data_wen <- mutate(stock_data_wen, \n",
    "    mfv = round((\n",
    "        ((prccd-prcld)-(prchd-prcld))/(prchd-prcld)\n",
    "        ), 2)\n",
    "))"
   ]
  },
  {
   "cell_type": "markdown",
   "id": "1e83100e",
   "metadata": {},
   "source": [
    "\\newpage\n",
    "# More features, metrics and dates\n",
    "After completing the initial analysis, the next part will cover various kinds of data manipulation and appending new variables to the dataframe."
   ]
  },
  {
   "cell_type": "markdown",
   "id": "455b8a68",
   "metadata": {},
   "source": [
    "## (5) Month & (6) Year\n",
    "Once more, first a few more columns are added to hold the data, after which the `month()` and `year()` functions help identifying the respective data points."
   ]
  },
  {
   "cell_type": "code",
   "execution_count": null,
   "id": "c7ead1ca",
   "metadata": {
    "vscode": {
     "languageId": "r"
    }
   },
   "outputs": [],
   "source": [
    "# Add column that indicate the month and year\n",
    "stock_data_wen$mon = 0\n",
    "stock_data_wen$yr = 0\n",
    "head(stock_data_wen <- mutate(stock_data_wen,\n",
    "    mon = month(datadate),\n",
    "    yr = year(datadate)\n",
    "))"
   ]
  },
  {
   "cell_type": "markdown",
   "id": "c768b00c",
   "metadata": {},
   "source": [
    "## (7) Total Trading Volume in June 2023\n",
    "By employing a method innate to R, the `sum()` function, together with a condition tied to the `mon` and `yr` variables lends a quick result to the task. "
   ]
  },
  {
   "cell_type": "code",
   "execution_count": 50,
   "id": "02b1b28f",
   "metadata": {
    "vscode": {
     "languageId": "r"
    }
   },
   "outputs": [
    {
     "data": {
      "text/html": [
       "54557454"
      ],
      "text/latex": [
       "54557454"
      ],
      "text/markdown": [
       "54557454"
      ],
      "text/plain": [
       "[1] 54557454"
      ]
     },
     "metadata": {},
     "output_type": "display_data"
    }
   ],
   "source": [
    "# Calculate the total trading volume, in June 2023.\n",
    "tv0623 = sum(stock_data_wen$cshtrd[\n",
    "    stock_data_wen$mon == 6 & stock_data_wen$yr==2023\n",
    "    ])\n",
    "tv0623"
   ]
  },
  {
   "cell_type": "markdown",
   "id": "3c71a690",
   "metadata": {},
   "source": [
    "## (8) Mean Daily Return\n",
    "Another method of R, the `mean()` function, produces an even quicker result to this task."
   ]
  },
  {
   "cell_type": "code",
   "execution_count": 51,
   "id": "64edd703",
   "metadata": {
    "vscode": {
     "languageId": "r"
    }
   },
   "outputs": [
    {
     "name": "stdout",
     "output_type": "stream",
     "text": [
      "[1] \"0.02%\"\n"
     ]
    }
   ],
   "source": [
    "# Calculate the mean daily return, over the entire period.\n",
    "return_daily_mean = mean(stock_data_wen$retd, na.rm = TRUE)*100\n",
    "print(paste0(round(return_daily_mean, 2), \"%\"))\n"
   ]
  },
  {
   "cell_type": "markdown",
   "id": "31f4e1ca",
   "metadata": {},
   "source": [
    "## (9) Date with the largest High Price\n",
    "The desired date relates to the maximum value across the `prchd` variable, thereby hinting at applying the `which.max()` function for indexing. Note that applying just the `max()` function does not give the desired result, since it returns the actual price instead of the row index."
   ]
  },
  {
   "cell_type": "code",
   "execution_count": 52,
   "id": "605a82a1",
   "metadata": {
    "vscode": {
     "languageId": "r"
    }
   },
   "outputs": [
    {
     "data": {
      "text/html": [
       "<time datetime=\"2021-06-08\">2021-06-08</time>"
      ],
      "text/latex": [
       "2021-06-08"
      ],
      "text/markdown": [
       "2021-06-08"
      ],
      "text/plain": [
       "[1] \"2021-06-08\""
      ]
     },
     "metadata": {},
     "output_type": "display_data"
    }
   ],
   "source": [
    "# Calculate the date that saw the largest positive high price.\n",
    "date_highest_high = stock_data_wen$datadate[\n",
    "    which.max(stock_data_wen$prchd)\n",
    "    ]\n",
    "date_highest_high"
   ]
  },
  {
   "cell_type": "markdown",
   "id": "256e736d",
   "metadata": {},
   "source": [
    "But it's still interesting to see the price."
   ]
  },
  {
   "cell_type": "code",
   "execution_count": 53,
   "id": "dc178cdd",
   "metadata": {
    "vscode": {
     "languageId": "r"
    }
   },
   "outputs": [
    {
     "data": {
      "text/html": [
       "29.46"
      ],
      "text/latex": [
       "29.46"
      ],
      "text/markdown": [
       "29.46"
      ],
      "text/plain": [
       "[1] 29.46"
      ]
     },
     "metadata": {},
     "output_type": "display_data"
    }
   ],
   "source": [
    "# Said price is how much?\n",
    "price_highest = stock_data_wen$prchd[which.max(stock_data_wen$prchd)]\n",
    "price_highest"
   ]
  },
  {
   "cell_type": "markdown",
   "id": "2b66c529",
   "metadata": {},
   "source": [
    "## (10) Date with the largest Daily Return\n",
    "This desired date relates to the maximum value across the `retd` variable, again hinting at the `which.max()` function."
   ]
  },
  {
   "cell_type": "code",
   "execution_count": 54,
   "id": "e5790a93",
   "metadata": {
    "vscode": {
     "languageId": "r"
    }
   },
   "outputs": [
    {
     "data": {
      "text/html": [
       "<time datetime=\"2021-06-08\">2021-06-08</time>"
      ],
      "text/latex": [
       "2021-06-08"
      ],
      "text/markdown": [
       "2021-06-08"
      ],
      "text/plain": [
       "[1] \"2021-06-08\""
      ]
     },
     "metadata": {},
     "output_type": "display_data"
    }
   ],
   "source": [
    "# Calculate the date that saw the largest positive daily return.\n",
    "date_highest_daily_return = stock_data_wen$datadate[\n",
    "    which.max(stock_data_wen$retd)\n",
    "    ]\n",
    "date_highest_daily_return"
   ]
  },
  {
   "cell_type": "markdown",
   "id": "9132836b",
   "metadata": {},
   "source": [
    "The return is.."
   ]
  },
  {
   "cell_type": "code",
   "execution_count": null,
   "id": "8cbf2ade",
   "metadata": {
    "vscode": {
     "languageId": "r"
    }
   },
   "outputs": [
    {
     "name": "stdout",
     "output_type": "stream",
     "text": [
      "[1] \"26%\"\n"
     ]
    }
   ],
   "source": [
    "# Said return is how much?\n",
    "retd_highest_p = stock_data_wen$retd[which.max(stock_data_wen$retd)]*100\n",
    "print(paste0(round(retd_highest_p, 2), \"%\"))\n"
   ]
  }
 ],
 "metadata": {
  "kernelspec": {
   "display_name": "R",
   "language": "R",
   "name": "ir"
  },
  "language_info": {
   "codemirror_mode": "r",
   "file_extension": ".r",
   "mimetype": "text/x-r-source",
   "name": "R",
   "pygments_lexer": "r",
   "version": "4.3.3"
  }
 },
 "nbformat": 4,
 "nbformat_minor": 5
}
