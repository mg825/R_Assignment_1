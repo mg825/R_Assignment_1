{
 "cells": [
  {
   "cell_type": "markdown",
   "id": "5f0ec753",
   "metadata": {},
   "source": [
    "---\n",
    "title: \"Assignment 1 - Wendy's (WEN) Stock Data Analysis\"\n",
    "author: \"Maxim\"\n",
    "format: pdf\n",
    "---\n",
    "\n",
    "\\newpage\n",
    "\\tableofcontents\n",
    "\\listoffigures\n",
    "\\listoftables\n",
    "\\newpage"
   ]
  },
  {
   "cell_type": "markdown",
   "id": "43f681d4",
   "metadata": {},
   "source": [
    "## Exercise Warm Up\n",
    "Some explanation here.\n"
   ]
  },
  {
   "cell_type": "code",
   "execution_count": 11,
   "id": "f5cfde30",
   "metadata": {
    "vscode": {
     "languageId": "r"
    }
   },
   "outputs": [
    {
     "data": {
      "text/html": [
       "4"
      ],
      "text/latex": [
       "4"
      ],
      "text/markdown": [
       "4"
      ],
      "text/plain": [
       "[1] 4"
      ]
     },
     "metadata": {},
     "output_type": "display_data"
    }
   ],
   "source": [
    "2+2"
   ]
  }
 ],
 "metadata": {
  "kernelspec": {
   "display_name": "R",
   "language": "R",
   "name": "ir"
  },
  "language_info": {
   "codemirror_mode": "r",
   "file_extension": ".r",
   "mimetype": "text/x-r-source",
   "name": "R",
   "pygments_lexer": "r",
   "version": "4.3.3"
  }
 },
 "nbformat": 4,
 "nbformat_minor": 5
}
