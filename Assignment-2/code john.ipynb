{
 "cells": [
  {
   "cell_type": "markdown",
   "id": "b12b5a56",
   "metadata": {},
   "source": [
    "---\n",
    "title: \"Assignment 2 - Stock Data Analysis\"\n",
    "author: \"Barry, Bella, Emma, Maxim, Robin\"\n",
    "affiliation: \"Group 1\"\n",
    "date: today\n",
    "format:\n",
    "  pdf:\n",
    "    geometry:\n",
    "      - top=2.5cm\n",
    "      - bottom=2.5cm\n",
    "      - left=2.5cm\n",
    "      - right=2.5cm\n",
    "    fontsize: 11pt\n",
    "    colorlinks: true\n",
    "    code-block-bg: \"#BFD0D5\" \n",
    "    code-block-border-left: \"#5EC7C0\"\n",
    "    highlight-style: tango\n",
    "    \n",
    "---\n",
    "\n",
    "\\newpage\n",
    "\\tableofcontents\n",
    "\\listoffigures\n",
    "\\listoftables\n",
    "\\newpage"
   ]
  },
  {
   "cell_type": "markdown",
   "id": "09dfd891",
   "metadata": {},
   "source": [
    "Before messing around with the stock data, the environment should install and load the dplyr and lubridate packages as well as others to perform easier data analysis. Additionally, we disable any warning messages for cleaner output. We also remove any rows with NA values in the prcod column."
   ]
  },
  {
   "cell_type": "code",
   "execution_count": 2,
   "id": "09757b85",
   "metadata": {
    "vscode": {
     "languageId": "r"
    }
   },
   "outputs": [
    {
     "name": "stderr",
     "output_type": "stream",
     "text": [
      "\n",
      "Attaching package: ‘dplyr’\n",
      "\n",
      "\n",
      "The following objects are masked from ‘package:stats’:\n",
      "\n",
      "    filter, lag\n",
      "\n",
      "\n",
      "The following objects are masked from ‘package:base’:\n",
      "\n",
      "    intersect, setdiff, setequal, union\n",
      "\n",
      "\n",
      "\n",
      "Attaching package: ‘data.table’\n",
      "\n",
      "\n",
      "The following objects are masked from ‘package:dplyr’:\n",
      "\n",
      "    between, first, last\n",
      "\n",
      "\n",
      "\n",
      "Attaching package: ‘lubridate’\n",
      "\n",
      "\n",
      "The following objects are masked from ‘package:data.table’:\n",
      "\n",
      "    hour, isoweek, mday, minute, month, quarter, second, wday, week,\n",
      "    yday, year\n",
      "\n",
      "\n",
      "The following objects are masked from ‘package:base’:\n",
      "\n",
      "    date, intersect, setdiff, union\n",
      "\n",
      "\n"
     ]
    }
   ],
   "source": [
    "#| warning: false\n",
    "library(dplyr)\n",
    "library(readr)\n",
    "library(data.table)\n",
    "library(lubridate)\n",
    "library(ggplot2)\n",
    "options(warn=-1)"
   ]
  },
  {
   "cell_type": "code",
   "execution_count": 38,
   "id": "fa6a2608",
   "metadata": {
    "vscode": {
     "languageId": "r"
    }
   },
   "outputs": [
    {
     "data": {
      "text/html": [
       "<table class=\"dataframe\">\n",
       "<caption>A data.table: 6 × 9</caption>\n",
       "<thead>\n",
       "\t<tr><th scope=col>tic</th><th scope=col>datadate</th><th scope=col>exchg</th><th scope=col>sic</th><th scope=col>cshtrd</th><th scope=col>prccd</th><th scope=col>prchd</th><th scope=col>prcld</th><th scope=col>prcod</th></tr>\n",
       "\t<tr><th scope=col>&lt;chr&gt;</th><th scope=col>&lt;date&gt;</th><th scope=col>&lt;int&gt;</th><th scope=col>&lt;int&gt;</th><th scope=col>&lt;dbl&gt;</th><th scope=col>&lt;dbl&gt;</th><th scope=col>&lt;dbl&gt;</th><th scope=col>&lt;dbl&gt;</th><th scope=col>&lt;dbl&gt;</th></tr>\n",
       "</thead>\n",
       "<tbody>\n",
       "\t<tr><td>PNW</td><td>2023-01-03</td><td>11</td><td>4911</td><td>1442534</td><td>74.63</td><td>76.4125</td><td>73.380</td><td>76.25</td></tr>\n",
       "\t<tr><td>PNW</td><td>2023-01-04</td><td>11</td><td>4911</td><td> 954218</td><td>75.39</td><td>76.0950</td><td>74.630</td><td>75.10</td></tr>\n",
       "\t<tr><td>PNW</td><td>2023-01-05</td><td>11</td><td>4911</td><td> 994775</td><td>73.65</td><td>75.0950</td><td>73.305</td><td>74.88</td></tr>\n",
       "\t<tr><td>PNW</td><td>2023-01-06</td><td>11</td><td>4911</td><td> 729808</td><td>75.46</td><td>76.0200</td><td>74.480</td><td>74.49</td></tr>\n",
       "\t<tr><td>PNW</td><td>2023-01-09</td><td>11</td><td>4911</td><td> 656127</td><td>75.55</td><td>76.4800</td><td>75.240</td><td>75.24</td></tr>\n",
       "\t<tr><td>PNW</td><td>2023-01-10</td><td>11</td><td>4911</td><td> 763254</td><td>75.65</td><td>75.6950</td><td>74.880</td><td>75.31</td></tr>\n",
       "</tbody>\n",
       "</table>\n"
      ],
      "text/latex": [
       "A data.table: 6 × 9\n",
       "\\begin{tabular}{lllllllll}\n",
       " tic & datadate & exchg & sic & cshtrd & prccd & prchd & prcld & prcod\\\\\n",
       " <chr> & <date> & <int> & <int> & <dbl> & <dbl> & <dbl> & <dbl> & <dbl>\\\\\n",
       "\\hline\n",
       "\t PNW & 2023-01-03 & 11 & 4911 & 1442534 & 74.63 & 76.4125 & 73.380 & 76.25\\\\\n",
       "\t PNW & 2023-01-04 & 11 & 4911 &  954218 & 75.39 & 76.0950 & 74.630 & 75.10\\\\\n",
       "\t PNW & 2023-01-05 & 11 & 4911 &  994775 & 73.65 & 75.0950 & 73.305 & 74.88\\\\\n",
       "\t PNW & 2023-01-06 & 11 & 4911 &  729808 & 75.46 & 76.0200 & 74.480 & 74.49\\\\\n",
       "\t PNW & 2023-01-09 & 11 & 4911 &  656127 & 75.55 & 76.4800 & 75.240 & 75.24\\\\\n",
       "\t PNW & 2023-01-10 & 11 & 4911 &  763254 & 75.65 & 75.6950 & 74.880 & 75.31\\\\\n",
       "\\end{tabular}\n"
      ],
      "text/markdown": [
       "\n",
       "A data.table: 6 × 9\n",
       "\n",
       "| tic &lt;chr&gt; | datadate &lt;date&gt; | exchg &lt;int&gt; | sic &lt;int&gt; | cshtrd &lt;dbl&gt; | prccd &lt;dbl&gt; | prchd &lt;dbl&gt; | prcld &lt;dbl&gt; | prcod &lt;dbl&gt; |\n",
       "|---|---|---|---|---|---|---|---|---|\n",
       "| PNW | 2023-01-03 | 11 | 4911 | 1442534 | 74.63 | 76.4125 | 73.380 | 76.25 |\n",
       "| PNW | 2023-01-04 | 11 | 4911 |  954218 | 75.39 | 76.0950 | 74.630 | 75.10 |\n",
       "| PNW | 2023-01-05 | 11 | 4911 |  994775 | 73.65 | 75.0950 | 73.305 | 74.88 |\n",
       "| PNW | 2023-01-06 | 11 | 4911 |  729808 | 75.46 | 76.0200 | 74.480 | 74.49 |\n",
       "| PNW | 2023-01-09 | 11 | 4911 |  656127 | 75.55 | 76.4800 | 75.240 | 75.24 |\n",
       "| PNW | 2023-01-10 | 11 | 4911 |  763254 | 75.65 | 75.6950 | 74.880 | 75.31 |\n",
       "\n"
      ],
      "text/plain": [
       "  tic datadate   exchg sic  cshtrd  prccd prchd   prcld  prcod\n",
       "1 PNW 2023-01-03 11    4911 1442534 74.63 76.4125 73.380 76.25\n",
       "2 PNW 2023-01-04 11    4911  954218 75.39 76.0950 74.630 75.10\n",
       "3 PNW 2023-01-05 11    4911  994775 73.65 75.0950 73.305 74.88\n",
       "4 PNW 2023-01-06 11    4911  729808 75.46 76.0200 74.480 74.49\n",
       "5 PNW 2023-01-09 11    4911  656127 75.55 76.4800 75.240 75.24\n",
       "6 PNW 2023-01-10 11    4911  763254 75.65 75.6950 74.880 75.31"
      ]
     },
     "metadata": {},
     "output_type": "display_data"
    }
   ],
   "source": [
    "#| tbl-cap: \"Compressed dataset\"\n",
    "data = fread(\"compressed_data.csv.gz\") %>% \n",
    "        mutate(datadate = as.Date(datadate, \"%d/%m/%Y\"))\n",
    "head(data |> select(-conm, -gvkey))"
   ]
  },
  {
   "cell_type": "markdown",
   "id": "c115e766",
   "metadata": {},
   "source": [
    "# Part 1 Questions & Answers\n",
    "## 1. How many unique tickers are in your data?"
   ]
  },
  {
   "cell_type": "code",
   "execution_count": 39,
   "id": "cf21ad3f",
   "metadata": {
    "vscode": {
     "languageId": "r"
    }
   },
   "outputs": [
    {
     "name": "stdout",
     "output_type": "stream",
     "text": [
      "1. There are 502 unique tickers."
     ]
    }
   ],
   "source": [
    "cat(\"1. There are\", length(unique(data$tic)), \"unique tickers.\")"
   ]
  },
  {
   "cell_type": "markdown",
   "id": "d3b85339",
   "metadata": {},
   "source": [
    "## 2. How many unique companies are in your data?"
   ]
  },
  {
   "cell_type": "code",
   "execution_count": 40,
   "id": "8ff4b6da",
   "metadata": {
    "vscode": {
     "languageId": "r"
    }
   },
   "outputs": [
    {
     "name": "stdout",
     "output_type": "stream",
     "text": [
      "\n",
      "2. There are 499 unique company names."
     ]
    }
   ],
   "source": [
    "cat(\"\\n2. There are\", length(unique(data$conm)), \"unique company names.\")"
   ]
  },
  {
   "cell_type": "markdown",
   "id": "174d8593",
   "metadata": {},
   "source": [
    "## 3. Display the top 5 companies by largest mean trading volume, in a table."
   ]
  },
  {
   "cell_type": "code",
   "execution_count": 41,
   "id": "d652c553",
   "metadata": {
    "vscode": {
     "languageId": "r"
    }
   },
   "outputs": [
    {
     "data": {
      "text/html": [
       "<table class=\"dataframe\">\n",
       "<caption>A tibble: 5 × 2</caption>\n",
       "<thead>\n",
       "\t<tr><th scope=col>tic</th><th scope=col>mean_trading_v</th></tr>\n",
       "\t<tr><th scope=col>&lt;chr&gt;</th><th scope=col>&lt;dbl&gt;</th></tr>\n",
       "</thead>\n",
       "<tbody>\n",
       "\t<tr><td>TSLA</td><td>115314383</td></tr>\n",
       "\t<tr><td>NVDA</td><td>113131835</td></tr>\n",
       "\t<tr><td>PLTR</td><td> 60056251</td></tr>\n",
       "\t<tr><td>AAPL</td><td> 57736403</td></tr>\n",
       "\t<tr><td>AMD </td><td> 57143415</td></tr>\n",
       "</tbody>\n",
       "</table>\n"
      ],
      "text/latex": [
       "A tibble: 5 × 2\n",
       "\\begin{tabular}{ll}\n",
       " tic & mean\\_trading\\_v\\\\\n",
       " <chr> & <dbl>\\\\\n",
       "\\hline\n",
       "\t TSLA & 115314383\\\\\n",
       "\t NVDA & 113131835\\\\\n",
       "\t PLTR &  60056251\\\\\n",
       "\t AAPL &  57736403\\\\\n",
       "\t AMD  &  57143415\\\\\n",
       "\\end{tabular}\n"
      ],
      "text/markdown": [
       "\n",
       "A tibble: 5 × 2\n",
       "\n",
       "| tic &lt;chr&gt; | mean_trading_v &lt;dbl&gt; |\n",
       "|---|---|\n",
       "| TSLA | 115314383 |\n",
       "| NVDA | 113131835 |\n",
       "| PLTR |  60056251 |\n",
       "| AAPL |  57736403 |\n",
       "| AMD  |  57143415 |\n",
       "\n"
      ],
      "text/plain": [
       "  tic  mean_trading_v\n",
       "1 TSLA 115314383     \n",
       "2 NVDA 113131835     \n",
       "3 PLTR  60056251     \n",
       "4 AAPL  57736403     \n",
       "5 AMD   57143415     "
      ]
     },
     "metadata": {},
     "output_type": "display_data"
    }
   ],
   "source": [
    "#| tbl-cap: \"Top 5 companies by largest mean trading volume\"\n",
    "data_3 = data %>%\n",
    "    group_by(tic) %>%\n",
    "    summarise(mean_trading_v = mean(cshtrd, na.rm = TRUE)) %>%\n",
    "    ungroup() %>%\n",
    "        arrange(desc(mean_trading_v))\n",
    "data_3[1:5,]"
   ]
  },
  {
   "cell_type": "markdown",
   "id": "746096dc",
   "metadata": {},
   "source": [
    "## 4. Display the total trading volume of the top 3 exchanges (table)."
   ]
  },
  {
   "cell_type": "code",
   "execution_count": 42,
   "id": "2e52c382",
   "metadata": {
    "vscode": {
     "languageId": "r"
    }
   },
   "outputs": [
    {
     "data": {
      "text/html": [
       "<table class=\"dataframe\">\n",
       "<caption>A tibble: 3 × 2</caption>\n",
       "<thead>\n",
       "\t<tr><th scope=col>exchg</th><th scope=col>total_trading_v</th></tr>\n",
       "\t<tr><th scope=col>&lt;int&gt;</th><th scope=col>&lt;dbl&gt;</th></tr>\n",
       "</thead>\n",
       "<tbody>\n",
       "\t<tr><td>11</td><td>681415756062</td></tr>\n",
       "\t<tr><td>14</td><td>570830885382</td></tr>\n",
       "\t<tr><td>21</td><td>   385399362</td></tr>\n",
       "</tbody>\n",
       "</table>\n"
      ],
      "text/latex": [
       "A tibble: 3 × 2\n",
       "\\begin{tabular}{ll}\n",
       " exchg & total\\_trading\\_v\\\\\n",
       " <int> & <dbl>\\\\\n",
       "\\hline\n",
       "\t 11 & 681415756062\\\\\n",
       "\t 14 & 570830885382\\\\\n",
       "\t 21 &    385399362\\\\\n",
       "\\end{tabular}\n"
      ],
      "text/markdown": [
       "\n",
       "A tibble: 3 × 2\n",
       "\n",
       "| exchg &lt;int&gt; | total_trading_v &lt;dbl&gt; |\n",
       "|---|---|\n",
       "| 11 | 681415756062 |\n",
       "| 14 | 570830885382 |\n",
       "| 21 |    385399362 |\n",
       "\n"
      ],
      "text/plain": [
       "  exchg total_trading_v\n",
       "1 11    681415756062   \n",
       "2 14    570830885382   \n",
       "3 21       385399362   "
      ]
     },
     "metadata": {},
     "output_type": "display_data"
    }
   ],
   "source": [
    "#| tbl-cap: \"Total trading volume of the top 3 exchanges\"\n",
    "data_4 = data %>%\n",
    "    group_by(exchg) %>%\n",
    "    summarise(total_trading_v = sum(cshtrd, na.rm = TRUE)) %>%\n",
    "    ungroup() %>%\n",
    "        arrange(desc(total_trading_v))\n",
    "data_4[1:3,]"
   ]
  },
  {
   "cell_type": "markdown",
   "id": "73ed417f",
   "metadata": {},
   "source": [
    "## 5. Visualise the total trading volume of the top 3 exchanges (bar plot)."
   ]
  },
  {
   "cell_type": "code",
   "execution_count": 43,
   "id": "49fe0776",
   "metadata": {
    "vscode": {
     "languageId": "r"
    }
   },
   "outputs": [
    {
     "data": {
      "image/png": "[encoded data removed]",
      "text/plain": [
       "plot without title"
      ]
     },
     "metadata": {
      "image/png": {
       "height": 420,
       "width": 420
      }
     },
     "output_type": "display_data"
    }
   ],
   "source": [
    "#| fig-cap: \"Total Trading Volume of the Top 3 Exchanges\"\n",
    "ggplot(data_4, aes(x = as.character(exchg), y = total_trading_v/1000000)) +\n",
    "  geom_bar(stat = \"identity\", color = \"darkblue\", fill = \"darkblue\") +\n",
    "  geom_text(aes(label = round(total_trading_v/1000000)),\n",
    "            vjust = -0.3,              # position above the bar\n",
    "            size = 5) +               # text size\n",
    "  labs(title = \"Total Trading Volume of the Top 3 Exchanges\",\n",
    "  x= \"exchange\", y=\"Total Trading Volume in illions\") +\n",
    "  theme(plot.title = element_text(hjust = 0.5))"
   ]
  },
  {
   "cell_type": "markdown",
   "id": "e62ec4a2",
   "metadata": {},
   "source": [
    "## 6. How many companies have more than one ticker?"
   ]
  },
  {
   "cell_type": "code",
   "execution_count": 44,
   "id": "38088dd8",
   "metadata": {
    "vscode": {
     "languageId": "r"
    }
   },
   "outputs": [
    {
     "data": {
      "text/html": [
       "<table class=\"dataframe\">\n",
       "<caption>A tibble: 4 × 2</caption>\n",
       "<thead>\n",
       "\t<tr><th scope=col>conm</th><th scope=col>no_of_tickers</th></tr>\n",
       "\t<tr><th scope=col>&lt;chr&gt;</th><th scope=col>&lt;int&gt;</th></tr>\n",
       "</thead>\n",
       "<tbody>\n",
       "\t<tr><td>ALPHABET INC</td><td> 2</td></tr>\n",
       "\t<tr><td>FOX CORP    </td><td> 2</td></tr>\n",
       "\t<tr><td>NEWS CORP   </td><td> 2</td></tr>\n",
       "\t<tr><td>NA          </td><td>NA</td></tr>\n",
       "</tbody>\n",
       "</table>\n"
      ],
      "text/latex": [
       "A tibble: 4 × 2\n",
       "\\begin{tabular}{ll}\n",
       " conm & no\\_of\\_tickers\\\\\n",
       " <chr> & <int>\\\\\n",
       "\\hline\n",
       "\t ALPHABET INC &  2\\\\\n",
       "\t FOX CORP     &  2\\\\\n",
       "\t NEWS CORP    &  2\\\\\n",
       "\t NA           & NA\\\\\n",
       "\\end{tabular}\n"
      ],
      "text/markdown": [
       "\n",
       "A tibble: 4 × 2\n",
       "\n",
       "| conm &lt;chr&gt; | no_of_tickers &lt;int&gt; |\n",
       "|---|---|\n",
       "| ALPHABET INC |  2 |\n",
       "| FOX CORP     |  2 |\n",
       "| NEWS CORP    |  2 |\n",
       "| NA           | NA |\n",
       "\n"
      ],
      "text/plain": [
       "  conm         no_of_tickers\n",
       "1 ALPHABET INC  2           \n",
       "2 FOX CORP      2           \n",
       "3 NEWS CORP     2           \n",
       "4 NA           NA           "
      ]
     },
     "metadata": {},
     "output_type": "display_data"
    },
    {
     "name": "stdout",
     "output_type": "stream",
     "text": [
      "6. There are 3 companies with more than one ticker."
     ]
    }
   ],
   "source": [
    "#| tbl-cap: \"Companies with more than one ticker\"\n",
    "data_6 = data %>%\n",
    "    group_by(conm) %>%\n",
    "    summarise(no_of_tickers = n_distinct(tic)) %>%\n",
    "    ungroup() %>% \n",
    "    filter(!no_of_tickers == 1)\n",
    "data_6[1:4,]\n",
    "nr_companies = nrow(data_6)\n",
    "cat(\"6. There are\", nr_companies, \"companies with more than one ticker.\")"
   ]
  },
  {
   "cell_type": "markdown",
   "id": "94ed247f",
   "metadata": {},
   "source": [
    "## 7. Which ticker has the largest positive mean return (simple daily return)?"
   ]
  },
  {
   "cell_type": "code",
   "execution_count": 45,
   "id": "39713343",
   "metadata": {
    "vscode": {
     "languageId": "r"
    }
   },
   "outputs": [
    {
     "name": "stdout",
     "output_type": "stream",
     "text": [
      "7. The PLTR ticker had the highest mean daily return.\n",
      "-> The return was 0.58 %."
     ]
    }
   ],
   "source": [
    "# 7. Which ticker has the largest positive mean return (simple daily return)?\n",
    "data = data %>% \n",
    "    group_by(tic) %>% \n",
    "    mutate(return = prccd/lag(prccd)-1) %>% \n",
    "    ungroup()\n",
    "\n",
    "data_7 = data %>% \n",
    "    group_by(tic) %>% \n",
    "    summarise(mean_return = mean(return, na.rm = TRUE)) %>% \n",
    "    ungroup() %>% \n",
    "        arrange(desc(mean_return))\n",
    "\n",
    "highest_mean_return = max(data_7$mean_return)\n",
    "\n",
    "highest_mean_return_ticker = data_7$tic[\n",
    "    which.max(data_7$mean_return)\n",
    "]\n",
    "cat(\"7. The\", highest_mean_return_ticker, \n",
    "\"ticker had the highest mean daily return.\")\n",
    "cat(\"\\n-> The return was\", round(highest_mean_return, 4)*100,\"%.\")"
   ]
  },
  {
   "cell_type": "markdown",
   "id": "0c7cc560",
   "metadata": {},
   "source": [
    "## 8. Which company has the largest positive mean return (simple daily return)?"
   ]
  },
  {
   "cell_type": "code",
   "execution_count": 46,
   "id": "a9f54da1",
   "metadata": {
    "vscode": {
     "languageId": "r"
    }
   },
   "outputs": [
    {
     "name": "stdout",
     "output_type": "stream",
     "text": [
      "8. The PALANTIR TECHNOLOG INC company had the highest mean daily return."
     ]
    }
   ],
   "source": [
    "highest_mean_return_company = data$conm[\n",
    "    which(data$tic == highest_mean_return_ticker)[1]\n",
    "] \n",
    "cat(\"8. The\", highest_mean_return_company,\n",
    "\"company had the highest mean daily return.\")"
   ]
  },
  {
   "cell_type": "markdown",
   "id": "cffab725",
   "metadata": {},
   "source": [
    "## 9. Which industry is represented by the most companies?"
   ]
  },
  {
   "cell_type": "code",
   "execution_count": 47,
   "id": "317902db",
   "metadata": {
    "vscode": {
     "languageId": "r"
    }
   },
   "outputs": [
    {
     "name": "stdout",
     "output_type": "stream",
     "text": [
      "9. The 6798 SIC industry has the most companies."
     ]
    },
    {
     "name": "stdout",
     "output_type": "stream",
     "text": [
      "\n",
      "-> There are 28 companies in that industry."
     ]
    }
   ],
   "source": [
    "data_9 = data %>%\n",
    "    group_by(sic) %>%\n",
    "    summarise(no_companies = n_distinct(conm)) %>%\n",
    "    ungroup() %>% \n",
    "    arrange(desc(no_companies))\n",
    "most_represented_industry = data_9$sic[\n",
    "    which.max(data_9$no_companies)\n",
    "]\n",
    "no_companies_in_most_represented_industry = max(data_9$no_companies)\n",
    "\n",
    "cat(\"9. The\", most_represented_industry,\n",
    "\"SIC industry has the most companies.\")\n",
    "cat(\"\\n-> There are\", no_companies_in_most_represented_industry,\n",
    "\"companies in that industry.\")\n"
   ]
  },
  {
   "cell_type": "markdown",
   "id": "e3a2615b",
   "metadata": {},
   "source": [
    "# Part 2 Extended Analysis\n",
    "After preparing the data we carry out the following analysis."
   ]
  },
  {
   "cell_type": "markdown",
   "id": "8ea39c20",
   "metadata": {},
   "source": [
    "## 1. Calculate simple weekly returns for each ticker in the full dataset"
   ]
  },
  {
   "cell_type": "code",
   "execution_count": null,
   "id": "b86d6ca2",
   "metadata": {
    "vscode": {
     "languageId": "r"
    }
   },
   "outputs": [
    {
     "name": "stderr",
     "output_type": "stream",
     "text": [
      "\u001b[1m\u001b[22m`summarise()` has grouped output by 'tic'. You can override using the `.groups`\n",
      "argument.\n"
     ]
    },
    {
     "data": {
      "text/html": [
       "<table class=\"dataframe\">\n",
       "<caption>A tibble: 6 × 4</caption>\n",
       "<thead>\n",
       "\t<tr><th scope=col>tic</th><th scope=col>week</th><th scope=col>weekly_close</th><th scope=col>weekly_return</th></tr>\n",
       "\t<tr><th scope=col>&lt;chr&gt;</th><th scope=col>&lt;date&gt;</th><th scope=col>&lt;dbl&gt;</th><th scope=col>&lt;dbl&gt;</th></tr>\n",
       "</thead>\n",
       "<tbody>\n",
       "\t<tr><td>A</td><td>2023-01-01</td><td>147.67</td><td>          NA</td></tr>\n",
       "\t<tr><td>A</td><td>2023-01-08</td><td>156.92</td><td> 0.062639670</td></tr>\n",
       "\t<tr><td>A</td><td>2023-01-15</td><td>155.92</td><td>-0.006372674</td></tr>\n",
       "\t<tr><td>A</td><td>2023-01-22</td><td>155.69</td><td>-0.001475115</td></tr>\n",
       "\t<tr><td>A</td><td>2023-01-29</td><td>154.55</td><td>-0.007322243</td></tr>\n",
       "\t<tr><td>A</td><td>2023-02-05</td><td>152.55</td><td>-0.012940796</td></tr>\n",
       "</tbody>\n",
       "</table>\n"
      ],
      "text/latex": [
       "A tibble: 6 × 4\n",
       "\\begin{tabular}{llll}\n",
       " tic & week & weekly\\_close & weekly\\_return\\\\\n",
       " <chr> & <date> & <dbl> & <dbl>\\\\\n",
       "\\hline\n",
       "\t A & 2023-01-01 & 147.67 &           NA\\\\\n",
       "\t A & 2023-01-08 & 156.92 &  0.062639670\\\\\n",
       "\t A & 2023-01-15 & 155.92 & -0.006372674\\\\\n",
       "\t A & 2023-01-22 & 155.69 & -0.001475115\\\\\n",
       "\t A & 2023-01-29 & 154.55 & -0.007322243\\\\\n",
       "\t A & 2023-02-05 & 152.55 & -0.012940796\\\\\n",
       "\\end{tabular}\n"
      ],
      "text/markdown": [
       "\n",
       "A tibble: 6 × 4\n",
       "\n",
       "| tic &lt;chr&gt; | week &lt;date&gt; | weekly_close &lt;dbl&gt; | weekly_return &lt;dbl&gt; |\n",
       "|---|---|---|---|\n",
       "| A | 2023-01-01 | 147.67 |           NA |\n",
       "| A | 2023-01-08 | 156.92 |  0.062639670 |\n",
       "| A | 2023-01-15 | 155.92 | -0.006372674 |\n",
       "| A | 2023-01-22 | 155.69 | -0.001475115 |\n",
       "| A | 2023-01-29 | 154.55 | -0.007322243 |\n",
       "| A | 2023-02-05 | 152.55 | -0.012940796 |\n",
       "\n"
      ],
      "text/plain": [
       "  tic week       weekly_close weekly_return\n",
       "1 A   2023-01-01 147.67                 NA \n",
       "2 A   2023-01-08 156.92        0.062639670 \n",
       "3 A   2023-01-15 155.92       -0.006372674 \n",
       "4 A   2023-01-22 155.69       -0.001475115 \n",
       "5 A   2023-01-29 154.55       -0.007322243 \n",
       "6 A   2023-02-05 152.55       -0.012940796 "
      ]
     },
     "metadata": {},
     "output_type": "display_data"
    }
   ],
   "source": [
    "#| tbl-cap: \"Simple weekly returns for each ticker\"\n",
    "data_weekly = data %>% \n",
    "    group_by(tic, week = floor_date(datadate, \"week\")) %>%\n",
    "    summarise(weekly_close = last(prccd)) %>%\n",
    "    arrange(tic, week) %>%\n",
    "    group_by(tic) %>%\n",
    "    mutate(weekly_return = (weekly_close / lag(weekly_close)) - 1) %>%\n",
    "    ungroup()\n",
    "\n",
    "    \n",
    "head(data_weekly)"
   ]
  },
  {
   "cell_type": "markdown",
   "id": "bc70a3e4",
   "metadata": {},
   "source": [
    "## 2. Categorise your data into decile groups\n",
    "(We do not remove zero returns from the data)."
   ]
  },
  {
   "cell_type": "code",
   "execution_count": 63,
   "id": "5521c905",
   "metadata": {
    "vscode": {
     "languageId": "r"
    }
   },
   "outputs": [
    {
     "name": "stdout",
     "output_type": "stream",
     "text": [
      " [1] 0.0 0.1 0.2 0.3 0.4 0.5 0.6 0.7 0.8 0.9\n",
      "[1] \"10%\" \"20%\" \"30%\" \"40%\" \"50%\" \"60%\" \"70%\" \"80%\" \"90%\"\n"
     ]
    },
    {
     "data": {
      "text/html": [
       "<table class=\"dataframe\">\n",
       "<caption>A tibble: 6 × 5</caption>\n",
       "<thead>\n",
       "\t<tr><th scope=col>tic</th><th scope=col>week</th><th scope=col>weekly_close</th><th scope=col>weekly_return</th><th scope=col>quantiles</th></tr>\n",
       "\t<tr><th scope=col>&lt;chr&gt;</th><th scope=col>&lt;date&gt;</th><th scope=col>&lt;dbl&gt;</th><th scope=col>&lt;dbl&gt;</th><th scope=col>&lt;fct&gt;</th></tr>\n",
       "</thead>\n",
       "<tbody>\n",
       "\t<tr><td>A</td><td>2023-01-01</td><td>147.67</td><td>          NA</td><td>NA </td></tr>\n",
       "\t<tr><td>A</td><td>2023-01-08</td><td>156.92</td><td> 0.062639670</td><td>90%</td></tr>\n",
       "\t<tr><td>A</td><td>2023-01-15</td><td>155.92</td><td>-0.006372674</td><td>30%</td></tr>\n",
       "\t<tr><td>A</td><td>2023-01-22</td><td>155.69</td><td>-0.001475115</td><td>40%</td></tr>\n",
       "\t<tr><td>A</td><td>2023-01-29</td><td>154.55</td><td>-0.007322243</td><td>30%</td></tr>\n",
       "\t<tr><td>A</td><td>2023-02-05</td><td>152.55</td><td>-0.012940796</td><td>30%</td></tr>\n",
       "</tbody>\n",
       "</table>\n"
      ],
      "text/latex": [
       "A tibble: 6 × 5\n",
       "\\begin{tabular}{lllll}\n",
       " tic & week & weekly\\_close & weekly\\_return & quantiles\\\\\n",
       " <chr> & <date> & <dbl> & <dbl> & <fct>\\\\\n",
       "\\hline\n",
       "\t A & 2023-01-01 & 147.67 &           NA & NA \\\\\n",
       "\t A & 2023-01-08 & 156.92 &  0.062639670 & 90\\%\\\\\n",
       "\t A & 2023-01-15 & 155.92 & -0.006372674 & 30\\%\\\\\n",
       "\t A & 2023-01-22 & 155.69 & -0.001475115 & 40\\%\\\\\n",
       "\t A & 2023-01-29 & 154.55 & -0.007322243 & 30\\%\\\\\n",
       "\t A & 2023-02-05 & 152.55 & -0.012940796 & 30\\%\\\\\n",
       "\\end{tabular}\n"
      ],
      "text/markdown": [
       "\n",
       "A tibble: 6 × 5\n",
       "\n",
       "| tic &lt;chr&gt; | week &lt;date&gt; | weekly_close &lt;dbl&gt; | weekly_return &lt;dbl&gt; | quantiles &lt;fct&gt; |\n",
       "|---|---|---|---|---|\n",
       "| A | 2023-01-01 | 147.67 |           NA | NA  |\n",
       "| A | 2023-01-08 | 156.92 |  0.062639670 | 90% |\n",
       "| A | 2023-01-15 | 155.92 | -0.006372674 | 30% |\n",
       "| A | 2023-01-22 | 155.69 | -0.001475115 | 40% |\n",
       "| A | 2023-01-29 | 154.55 | -0.007322243 | 30% |\n",
       "| A | 2023-02-05 | 152.55 | -0.012940796 | 30% |\n",
       "\n"
      ],
      "text/plain": [
       "  tic week       weekly_close weekly_return quantiles\n",
       "1 A   2023-01-01 147.67                 NA  NA       \n",
       "2 A   2023-01-08 156.92        0.062639670  90%      \n",
       "3 A   2023-01-15 155.92       -0.006372674  30%      \n",
       "4 A   2023-01-22 155.69       -0.001475115  40%      \n",
       "5 A   2023-01-29 154.55       -0.007322243  30%      \n",
       "6 A   2023-02-05 152.55       -0.012940796  30%      "
      ]
     },
     "metadata": {},
     "output_type": "display_data"
    }
   ],
   "source": [
    "#| tbl-cap: \"Data categorized by decile groups\"\n",
    "c_breaks = seq(0, 0.9, by = 0.1)\n",
    "print(c_breaks)\n",
    "\n",
    "c_labels <- paste0((1:(length(c_breaks) - 1)) * 10, \"%\")\n",
    "print(c_labels)\n",
    "\n",
    "data_weekly_deciles <- data_weekly %>%\n",
    "  mutate(\n",
    "    quantiles = cut(\n",
    "      weekly_return,\n",
    "      breaks = quantile(\n",
    "        weekly_return, \n",
    "        probs = c(0, 0.1, 0.2, 0.3, 0.4, 0.5, 0.6, 0.7, 0.8, 0.9, 1),\n",
    "        na.rm = TRUE\n",
    "      ),\n",
    "      include.lowest = TRUE,\n",
    "      labels = c(\"0%\",\"10%\", \"20%\", \"30%\", \"40%\",\"50%\", \"60%\", \"70%\", \"80%\", \"90%\")\n",
    "    )\n",
    "  )\n",
    "\n",
    "head(data_weekly_deciles)"
   ]
  },
  {
   "cell_type": "markdown",
   "id": "ee99c854",
   "metadata": {},
   "source": [
    "## 3. Display a table showing the top ticker in each decile group"
   ]
  },
  {
   "cell_type": "code",
   "execution_count": 61,
   "id": "9aecbf63",
   "metadata": {
    "vscode": {
     "languageId": "r"
    }
   },
   "outputs": [
    {
     "name": "stdout",
     "output_type": "stream",
     "text": [
      "\u001b[90m# A tibble: 513 × 3\u001b[39m\n",
      "\u001b[90m# Groups:   quantiles [11]\u001b[39m\n",
      "   quantiles tic   weekly_return\n",
      "   \u001b[3m\u001b[90m<fct>\u001b[39m\u001b[23m     \u001b[3m\u001b[90m<chr>\u001b[39m\u001b[23m         \u001b[3m\u001b[90m<dbl>\u001b[39m\u001b[23m\n",
      "\u001b[90m 1\u001b[39m 0%        WBD        -\u001b[31m0\u001b[39m\u001b[31m.\u001b[39m\u001b[31m0\u001b[39m\u001b[31m41\u001b[4m5\u001b[24m\u001b[39m \n",
      "\u001b[90m 2\u001b[39m 10%       FANG       -\u001b[31m0\u001b[39m\u001b[31m.\u001b[39m\u001b[31m0\u001b[39m\u001b[31m24\u001b[4m8\u001b[24m\u001b[39m \n",
      "\u001b[90m 3\u001b[39m 20%       IPG        -\u001b[31m0\u001b[39m\u001b[31m.\u001b[39m\u001b[31m0\u001b[39m\u001b[31m14\u001b[4m1\u001b[24m\u001b[39m \n",
      "\u001b[90m 4\u001b[39m 30%       GLW        -\u001b[31m0\u001b[39m\u001b[31m.\u001b[39m\u001b[31m00\u001b[39m\u001b[31m5\u001b[4m4\u001b[24m\u001b[4m4\u001b[24m\u001b[39m\n",
      "\u001b[90m 5\u001b[39m 30%       PPL        -\u001b[31m0\u001b[39m\u001b[31m.\u001b[39m\u001b[31m00\u001b[39m\u001b[31m5\u001b[4m4\u001b[24m\u001b[4m4\u001b[24m\u001b[39m\n",
      "\u001b[90m 6\u001b[39m 40%       BEN         0.002\u001b[4m2\u001b[24m\u001b[4m8\u001b[24m\n",
      "\u001b[90m 7\u001b[39m 50%       SOLV        0.010\u001b[4m1\u001b[24m \n",
      "\u001b[90m 8\u001b[39m 60%       HLT         0.018\u001b[4m5\u001b[24m \n",
      "\u001b[90m 9\u001b[39m 70%       RL          0.029\u001b[4m2\u001b[24m \n",
      "\u001b[90m10\u001b[39m 80%       SJM         0.047\u001b[4m0\u001b[24m \n",
      "\u001b[90m# ℹ 503 more rows\u001b[39m\n"
     ]
    },
    {
     "data": {
      "text/html": [
       "<table class=\"dataframe\">\n",
       "<caption>A grouped_df: 11 × 3</caption>\n",
       "<thead>\n",
       "\t<tr><th scope=col>quantiles</th><th scope=col>tic</th><th scope=col>weekly_return</th></tr>\n",
       "\t<tr><th scope=col>&lt;fct&gt;</th><th scope=col>&lt;chr&gt;</th><th scope=col>&lt;dbl&gt;</th></tr>\n",
       "</thead>\n",
       "<tbody>\n",
       "\t<tr><td>0% </td><td>WBD </td><td>-0.041522491</td></tr>\n",
       "\t<tr><td>10%</td><td>FANG</td><td>-0.024778495</td></tr>\n",
       "\t<tr><td>20%</td><td>IPG </td><td>-0.014084507</td></tr>\n",
       "\t<tr><td>30%</td><td>GLW </td><td>-0.005441607</td></tr>\n",
       "\t<tr><td>30%</td><td>PPL </td><td>-0.005441607</td></tr>\n",
       "\t<tr><td>40%</td><td>BEN </td><td> 0.002281022</td></tr>\n",
       "\t<tr><td>50%</td><td>SOLV</td><td> 0.010124164</td></tr>\n",
       "\t<tr><td>60%</td><td>HLT </td><td> 0.018477517</td></tr>\n",
       "\t<tr><td>70%</td><td>RL  </td><td> 0.029158383</td></tr>\n",
       "\t<tr><td>80%</td><td>SJM </td><td> 0.046984764</td></tr>\n",
       "\t<tr><td>90%</td><td>SMCI</td><td> 0.784176534</td></tr>\n",
       "</tbody>\n",
       "</table>\n"
      ],
      "text/latex": [
       "A grouped\\_df: 11 × 3\n",
       "\\begin{tabular}{lll}\n",
       " quantiles & tic & weekly\\_return\\\\\n",
       " <fct> & <chr> & <dbl>\\\\\n",
       "\\hline\n",
       "\t 0\\%  & WBD  & -0.041522491\\\\\n",
       "\t 10\\% & FANG & -0.024778495\\\\\n",
       "\t 20\\% & IPG  & -0.014084507\\\\\n",
       "\t 30\\% & GLW  & -0.005441607\\\\\n",
       "\t 30\\% & PPL  & -0.005441607\\\\\n",
       "\t 40\\% & BEN  &  0.002281022\\\\\n",
       "\t 50\\% & SOLV &  0.010124164\\\\\n",
       "\t 60\\% & HLT  &  0.018477517\\\\\n",
       "\t 70\\% & RL   &  0.029158383\\\\\n",
       "\t 80\\% & SJM  &  0.046984764\\\\\n",
       "\t 90\\% & SMCI &  0.784176534\\\\\n",
       "\\end{tabular}\n"
      ],
      "text/markdown": [
       "\n",
       "A grouped_df: 11 × 3\n",
       "\n",
       "| quantiles &lt;fct&gt; | tic &lt;chr&gt; | weekly_return &lt;dbl&gt; |\n",
       "|---|---|---|\n",
       "| 0%  | WBD  | -0.041522491 |\n",
       "| 10% | FANG | -0.024778495 |\n",
       "| 20% | IPG  | -0.014084507 |\n",
       "| 30% | GLW  | -0.005441607 |\n",
       "| 30% | PPL  | -0.005441607 |\n",
       "| 40% | BEN  |  0.002281022 |\n",
       "| 50% | SOLV |  0.010124164 |\n",
       "| 60% | HLT  |  0.018477517 |\n",
       "| 70% | RL   |  0.029158383 |\n",
       "| 80% | SJM  |  0.046984764 |\n",
       "| 90% | SMCI |  0.784176534 |\n",
       "\n"
      ],
      "text/plain": [
       "   quantiles tic  weekly_return\n",
       "1  0%        WBD  -0.041522491 \n",
       "2  10%       FANG -0.024778495 \n",
       "3  20%       IPG  -0.014084507 \n",
       "4  30%       GLW  -0.005441607 \n",
       "5  30%       PPL  -0.005441607 \n",
       "6  40%       BEN   0.002281022 \n",
       "7  50%       SOLV  0.010124164 \n",
       "8  60%       HLT   0.018477517 \n",
       "9  70%       RL    0.029158383 \n",
       "10 80%       SJM   0.046984764 \n",
       "11 90%       SMCI  0.784176534 "
      ]
     },
     "metadata": {},
     "output_type": "display_data"
    }
   ],
   "source": [
    "#| tbl-cap: \"Top tickers by decile group\"\n",
    "df_top_ticker = data_weekly_deciles %>% \n",
    "    group_by(quantiles) %>%\n",
    "    slice_max(order_by = weekly_return, n = 1) %>%\n",
    "    select(quantiles, tic, weekly_return) %>%\n",
    "    arrange(quantiles)\n",
    "\n",
    "\n",
    "print(df_top_ticker)\n",
    "df_top_ticker[1:11,]\n",
    "    "
   ]
  },
  {
   "cell_type": "markdown",
   "id": "77a5b13d",
   "metadata": {},
   "source": [
    "## 4. Select the top ticker from the 60% decile group\n",
    "We use this ticker for the rest of the assignment, including in Part 3."
   ]
  },
  {
   "cell_type": "code",
   "execution_count": 51,
   "id": "40534458",
   "metadata": {
    "vscode": {
     "languageId": "r"
    }
   },
   "outputs": [
    {
     "name": "stderr",
     "output_type": "stream",
     "text": [
      "\u001b[1m\u001b[22mAdding missing grouping variables: `deciles`\n"
     ]
    },
    {
     "name": "stdout",
     "output_type": "stream",
     "text": [
      "4.  7 HLT"
     ]
    }
   ],
   "source": [
    "top_ticker_60d = as.character(df_top_ticker %>% \n",
    "    filter(deciles == \"60%\") %>% \n",
    "    select(tic)\n",
    "    )\n",
    "cat(\"4. \", top_ticker_60d)"
   ]
  },
  {
   "cell_type": "markdown",
   "id": "92e62ac1",
   "metadata": {},
   "source": [
    "## 5. Plot the autocorrelation function for this ticker's entire set of weekly returns"
   ]
  },
  {
   "cell_type": "code",
   "execution_count": 52,
   "id": "8e2b9970",
   "metadata": {
    "vscode": {
     "languageId": "r"
    }
   },
   "outputs": [
    {
     "data": {
      "image/png": "[encoded data removed]",
      "text/plain": [
       "Plot with title “Autocorrelation Function”"
      ]
     },
     "metadata": {
      "image/png": {
       "height": 420,
       "width": 420
      }
     },
     "output_type": "display_data"
    }
   ],
   "source": [
    "#| fig-cap: \"Autocorrelation Function\"\n",
    "# Filter and remove NA values\n",
    "csco_data = data_weekly %>% \n",
    "    filter(tic == top_ticker_60d) %>% \n",
    "        na.omit()\n",
    "\n",
    "acf(csco_data$simple_w_r, main = \"Autocorrelation Function\")"
   ]
  },
  {
   "cell_type": "markdown",
   "id": "f83b0b0e",
   "metadata": {},
   "source": [
    "# Part 3 Regression - Fama-French 3 Factor Model\n",
    "## 1. Load and clean the weekly Fama-French 3 factor data"
   ]
  },
  {
   "cell_type": "code",
   "execution_count": 53,
   "id": "9fd799a0",
   "metadata": {
    "vscode": {
     "languageId": "r"
    }
   },
   "outputs": [
    {
     "data": {
      "text/html": [
       "<table class=\"dataframe\">\n",
       "<caption>A data.frame: 6 × 5</caption>\n",
       "<thead>\n",
       "\t<tr><th></th><th scope=col>date</th><th scope=col>mktrf</th><th scope=col>smb</th><th scope=col>hml</th><th scope=col>rf</th></tr>\n",
       "\t<tr><th></th><th scope=col>&lt;date&gt;</th><th scope=col>&lt;dbl&gt;</th><th scope=col>&lt;dbl&gt;</th><th scope=col>&lt;dbl&gt;</th><th scope=col>&lt;dbl&gt;</th></tr>\n",
       "</thead>\n",
       "<tbody>\n",
       "\t<tr><th scope=row>1</th><td>1926-07-02</td><td> 0.0158</td><td>-0.0062</td><td>-0.0086</td><td>6e-04</td></tr>\n",
       "\t<tr><th scope=row>2</th><td>1926-07-10</td><td> 0.0037</td><td>-0.0090</td><td> 0.0031</td><td>6e-04</td></tr>\n",
       "\t<tr><th scope=row>3</th><td>1926-07-17</td><td> 0.0098</td><td> 0.0059</td><td>-0.0144</td><td>6e-04</td></tr>\n",
       "\t<tr><th scope=row>4</th><td>1926-07-24</td><td>-0.0203</td><td> 0.0002</td><td>-0.0017</td><td>6e-04</td></tr>\n",
       "\t<tr><th scope=row>5</th><td>1926-07-31</td><td> 0.0306</td><td>-0.0189</td><td>-0.0085</td><td>6e-04</td></tr>\n",
       "\t<tr><th scope=row>6</th><td>1926-08-07</td><td> 0.0204</td><td> 0.0016</td><td> 0.0055</td><td>6e-04</td></tr>\n",
       "</tbody>\n",
       "</table>\n"
      ],
      "text/latex": [
       "A data.frame: 6 × 5\n",
       "\\begin{tabular}{r|lllll}\n",
       "  & date & mktrf & smb & hml & rf\\\\\n",
       "  & <date> & <dbl> & <dbl> & <dbl> & <dbl>\\\\\n",
       "\\hline\n",
       "\t1 & 1926-07-02 &  0.0158 & -0.0062 & -0.0086 & 6e-04\\\\\n",
       "\t2 & 1926-07-10 &  0.0037 & -0.0090 &  0.0031 & 6e-04\\\\\n",
       "\t3 & 1926-07-17 &  0.0098 &  0.0059 & -0.0144 & 6e-04\\\\\n",
       "\t4 & 1926-07-24 & -0.0203 &  0.0002 & -0.0017 & 6e-04\\\\\n",
       "\t5 & 1926-07-31 &  0.0306 & -0.0189 & -0.0085 & 6e-04\\\\\n",
       "\t6 & 1926-08-07 &  0.0204 &  0.0016 &  0.0055 & 6e-04\\\\\n",
       "\\end{tabular}\n"
      ],
      "text/markdown": [
       "\n",
       "A data.frame: 6 × 5\n",
       "\n",
       "| <!--/--> | date &lt;date&gt; | mktrf &lt;dbl&gt; | smb &lt;dbl&gt; | hml &lt;dbl&gt; | rf &lt;dbl&gt; |\n",
       "|---|---|---|---|---|---|\n",
       "| 1 | 1926-07-02 |  0.0158 | -0.0062 | -0.0086 | 6e-04 |\n",
       "| 2 | 1926-07-10 |  0.0037 | -0.0090 |  0.0031 | 6e-04 |\n",
       "| 3 | 1926-07-17 |  0.0098 |  0.0059 | -0.0144 | 6e-04 |\n",
       "| 4 | 1926-07-24 | -0.0203 |  0.0002 | -0.0017 | 6e-04 |\n",
       "| 5 | 1926-07-31 |  0.0306 | -0.0189 | -0.0085 | 6e-04 |\n",
       "| 6 | 1926-08-07 |  0.0204 |  0.0016 |  0.0055 | 6e-04 |\n",
       "\n"
      ],
      "text/plain": [
       "  date       mktrf   smb     hml     rf   \n",
       "1 1926-07-02  0.0158 -0.0062 -0.0086 6e-04\n",
       "2 1926-07-10  0.0037 -0.0090  0.0031 6e-04\n",
       "3 1926-07-17  0.0098  0.0059 -0.0144 6e-04\n",
       "4 1926-07-24 -0.0203  0.0002 -0.0017 6e-04\n",
       "5 1926-07-31  0.0306 -0.0189 -0.0085 6e-04\n",
       "6 1926-08-07  0.0204  0.0016  0.0055 6e-04"
      ]
     },
     "metadata": {},
     "output_type": "display_data"
    }
   ],
   "source": [
    "#| tbl-cap: \"Fama-French 3 Factor Model\"\n",
    "ff <- read.csv(\"fama_french_weekly.csv\", skip = 4) %>%\n",
    "  rename(x = X,             \n",
    "         mktrf = Mkt.RF,    \n",
    "         smb   = SMB,\n",
    "         hml   = HML,\n",
    "         rf    = RF) %>%\n",
    "  mutate(\n",
    "    date  = ymd(as.character(x)),\n",
    "    mktrf = mktrf / 100,\n",
    "    smb   = smb / 100,\n",
    "    hml   = hml / 100,\n",
    "    rf    = rf / 100\n",
    "  ) %>%\n",
    "  transmute(date, mktrf, smb, hml, rf) %>%\n",
    "  filter(!is.na(date)) %>%\n",
    "  arrange(date)\n",
    "\n",
    "head(ff)"
   ]
  },
  {
   "cell_type": "markdown",
   "id": "9d7b9e84",
   "metadata": {},
   "source": [
    "## 2. Fit the Fama-French 3 factor model to the weekly returns of the stock in Part 2"
   ]
  },
  {
   "cell_type": "code",
   "execution_count": 54,
   "id": "7b302690",
   "metadata": {
    "vscode": {
     "languageId": "r"
    }
   },
   "outputs": [
    {
     "ename": "ERROR",
     "evalue": "\u001b[1m\u001b[33mError\u001b[39m in `select()`:\u001b[22m\n\u001b[33m!\u001b[39m Can't select columns that don't exist.\n\u001b[31m✖\u001b[39m Column `datadate` doesn't exist.\n",
     "output_type": "error",
     "traceback": [
      "\u001b[1m\u001b[33mError\u001b[39m in `select()`:\u001b[22m\n\u001b[33m!\u001b[39m Can't select columns that don't exist.\n\u001b[31m✖\u001b[39m Column `datadate` doesn't exist.\nTraceback:\n",
      "1. filter(., !is.na(simple_w_r))",
      "2. select(., datadate, simple_w_r)",
      "3. select.data.frame(., datadate, simple_w_r)",
      "4. tidyselect::eval_select(expr(c(...)), data = .data, error_call = error_call)",
      "5. eval_select_impl(data, names(data), as_quosure(expr, env), include = include, \n .     exclude = exclude, strict = strict, name_spec = name_spec, \n .     allow_rename = allow_rename, allow_empty = allow_empty, allow_predicates = allow_predicates, \n .     error_call = error_call, )",
      "6. with_subscript_errors(out <- vars_select_eval(vars, expr, strict = strict, \n .     data = x, name_spec = name_spec, uniquely_named = uniquely_named, \n .     allow_rename = allow_rename, allow_empty = allow_empty, allow_predicates = allow_predicates, \n .     type = type, error_call = error_call), type = type)",
      "7. withCallingHandlers(expr, vctrs_error_subscript = function(cnd) {\n .     cnd$subscript_action <- subscript_action(type)\n .     cnd$subscript_elt <- \"column\"\n .     cnd_signal(cnd)\n . })",
      "8. vars_select_eval(vars, expr, strict = strict, data = x, name_spec = name_spec, \n .     uniquely_named = uniquely_named, allow_rename = allow_rename, \n .     allow_empty = allow_empty, allow_predicates = allow_predicates, \n .     type = type, error_call = error_call)",
      "9. walk_data_tree(expr, data_mask, context_mask)",
      "10. eval_c(expr, data_mask, context_mask)",
      "11. reduce_sels(node, data_mask, context_mask, init = init)",
      "12. walk_data_tree(new, data_mask, context_mask)",
      "13. as_indices_sel_impl(out, vars = vars, strict = strict, data = data, \n  .     allow_predicates = allow_predicates, call = error_call, arg = as_label(expr))",
      "14. as_indices_impl(x, vars, call = call, arg = arg, strict = strict)",
      "15. chr_as_locations(x, vars, call = call, arg = arg)",
      "16. vctrs::vec_as_location(x, n = length(vars), names = vars, call = call, \n  .     arg = arg)",
      "17. (function () \n  . stop_subscript_oob(i = i, subscript_type = subscript_type, names = names, \n  .     subscript_action = subscript_action, subscript_arg = subscript_arg, \n  .     call = call))()",
      "18. stop_subscript_oob(i = i, subscript_type = subscript_type, names = names, \n  .     subscript_action = subscript_action, subscript_arg = subscript_arg, \n  .     call = call)",
      "19. stop_subscript(class = \"vctrs_error_subscript_oob\", i = i, subscript_type = subscript_type, \n  .     ..., call = call)",
      "20. abort(class = c(class, \"vctrs_error_subscript\"), i = i, ..., \n  .     call = call)",
      "21. signal_abort(cnd, .file)",
      "22. signalCondition(cnd)",
      "23. (function (cnd) \n  . {\n  .     cnd$subscript_action <- subscript_action(type)\n  .     cnd$subscript_elt <- \"column\"\n  .     cnd_signal(cnd)\n  . })(structure(list(message = \"\", trace = structure(list(call = list(\n  .     IRkernel::main(), kernel$run(), handle_shell(), executor$execute(msg), \n  .     tryCatch(evaluate(request$content$code, envir = .GlobalEnv, \n  .         output_handler = oh, stop_on_error = 1L), interrupt = function(cond) {\n  .         log_debug(\"Interrupt during execution\")\n  .         interrupted <<- TRUE\n  .     }, error = .self$handle_error), tryCatchList(expr, classes, \n  .         parentenv, handlers), tryCatchOne(tryCatchList(expr, \n  .         names[-nh], parentenv, handlers[-nh]), names[nh], parentenv, \n  .         handlers[[nh]]), doTryCatch(return(expr), name, parentenv, \n  .         handler), tryCatchList(expr, names[-nh], parentenv, handlers[-nh]), \n  .     tryCatchOne(expr, names, parentenv, handlers[[1L]]), doTryCatch(return(expr), \n  .         name, parentenv, handler), evaluate(request$content$code, \n  .         envir = .GlobalEnv, output_handler = oh, stop_on_error = 1L), \n  .     withRestarts(with_handlers({\n  .         for (expr in tle$exprs) {\n  .             ev <- withVisible(eval(expr, envir))\n  .             watcher$capture_plot_and_output()\n  .             watcher$print_value(ev$value, ev$visible, envir)\n  .         }\n  .         TRUE\n  .     }, handlers), eval_continue = function() TRUE, eval_stop = function() FALSE), \n  .     withRestartList(expr, restarts), withOneRestart(withRestartList(expr, \n  .         restarts[-nr]), restarts[[nr]]), doWithOneRestart(return(expr), \n  .         restart), withRestartList(expr, restarts[-nr]), withOneRestart(expr, \n  .         restarts[[1L]]), doWithOneRestart(return(expr), restart), \n  .     with_handlers({\n  .         for (expr in tle$exprs) {\n  .             ev <- withVisible(eval(expr, envir))\n  .             watcher$capture_plot_and_output()\n  .             watcher$print_value(ev$value, ev$visible, envir)\n  .         }\n  .         TRUE\n  .     }, handlers), eval(call), eval(call), withCallingHandlers(code, \n  .         message = `<fn>`, warning = `<fn>`, error = `<fn>`), \n  .     withVisible(eval(expr, envir)), eval(expr, envir), eval(expr, \n  .         envir), data_weekly %>% filter(tic == top_ticker_60d) %>% \n  .         select(datadate, simple_w_r) %>% filter(!is.na(simple_w_r)), \n  .     filter(., !is.na(simple_w_r)), select(., datadate, simple_w_r), \n  .     select.data.frame(., datadate, simple_w_r), tidyselect::eval_select(expr(c(...)), \n  .         data = .data, error_call = error_call), eval_select_impl(data, \n  .         names(data), as_quosure(expr, env), include = include, \n  .         exclude = exclude, strict = strict, name_spec = name_spec, \n  .         allow_rename = allow_rename, allow_empty = allow_empty, \n  .         allow_predicates = allow_predicates, error_call = error_call, \n  .         ), with_subscript_errors(out <- vars_select_eval(vars, \n  .         expr, strict = strict, data = x, name_spec = name_spec, \n  .         uniquely_named = uniquely_named, allow_rename = allow_rename, \n  .         allow_empty = allow_empty, allow_predicates = allow_predicates, \n  .         type = type, error_call = error_call), type = type), \n  .     withCallingHandlers(expr, vctrs_error_subscript = function(cnd) {\n  .         cnd$subscript_action <- subscript_action(type)\n  .         cnd$subscript_elt <- \"column\"\n  .         cnd_signal(cnd)\n  .     }), vars_select_eval(vars, expr, strict = strict, data = x, \n  .         name_spec = name_spec, uniquely_named = uniquely_named, \n  .         allow_rename = allow_rename, allow_empty = allow_empty, \n  .         allow_predicates = allow_predicates, type = type, error_call = error_call), \n  .     walk_data_tree(expr, data_mask, context_mask), eval_c(expr, \n  .         data_mask, context_mask), reduce_sels(node, data_mask, \n  .         context_mask, init = init), walk_data_tree(new, data_mask, \n  .         context_mask), as_indices_sel_impl(out, vars = vars, \n  .         strict = strict, data = data, allow_predicates = allow_predicates, \n  .         call = error_call, arg = as_label(expr)), as_indices_impl(x, \n  .         vars, call = call, arg = arg, strict = strict), chr_as_locations(x, \n  .         vars, call = call, arg = arg), vctrs::vec_as_location(x, \n  .         n = length(vars), names = vars, call = call, arg = arg), \n  .     `<fn>`(), stop_subscript_oob(i = i, subscript_type = subscript_type, \n  .         names = names, subscript_action = subscript_action, subscript_arg = subscript_arg, \n  .         call = call), stop_subscript(class = \"vctrs_error_subscript_oob\", \n  .         i = i, subscript_type = subscript_type, ..., call = call), \n  .     abort(class = c(class, \"vctrs_error_subscript\"), i = i, ..., \n  .         call = call)), parent = c(0L, 1L, 2L, 3L, 4L, 5L, 6L, \n  . 7L, 6L, 9L, 10L, 4L, 12L, 13L, 14L, 15L, 14L, 17L, 18L, 12L, \n  . 20L, 21L, 20L, 12L, 12L, 25L, 0L, 0L, 0L, 0L, 30L, 31L, 32L, \n  . 33L, 32L, 35L, 36L, 37L, 38L, 39L, 40L, 41L, 42L, 0L, 44L, 45L, \n  . 46L), visible = c(TRUE, TRUE, TRUE, TRUE, TRUE, TRUE, TRUE, TRUE, \n  . TRUE, TRUE, TRUE, TRUE, TRUE, TRUE, TRUE, TRUE, TRUE, TRUE, TRUE, \n  . TRUE, TRUE, TRUE, TRUE, TRUE, TRUE, TRUE, TRUE, TRUE, TRUE, TRUE, \n  . FALSE, FALSE, FALSE, FALSE, FALSE, FALSE, FALSE, FALSE, FALSE, \n  . FALSE, FALSE, FALSE, FALSE, FALSE, FALSE, FALSE, FALSE), namespace = c(\"IRkernel\", \n  . NA, \"IRkernel\", NA, \"base\", \"base\", \"base\", \"base\", \"base\", \"base\", \n  . \"base\", \"evaluate\", \"base\", \"base\", \"base\", \"base\", \"base\", \"base\", \n  . \"base\", \"evaluate\", \"base\", \"base\", \"base\", \"base\", \"base\", \"base\", \n  . NA, \"dplyr\", \"dplyr\", \"dplyr\", \"tidyselect\", \"tidyselect\", \"tidyselect\", \n  . \"base\", \"tidyselect\", \"tidyselect\", \"tidyselect\", \"tidyselect\", \n  . \"tidyselect\", \"tidyselect\", \"tidyselect\", \"tidyselect\", \"vctrs\", \n  . \"vctrs\", \"vctrs\", \"vctrs\", \"rlang\"), scope = c(\"::\", NA, \"local\", \n  . NA, \"::\", \"local\", \"local\", \"local\", \"local\", \"local\", \"local\", \n  . \"::\", \"::\", \"local\", \"local\", \"local\", \"local\", \"local\", \"local\", \n  . \":::\", \"::\", \"::\", \"::\", \"::\", \"::\", \"::\", NA, \"::\", \"::\", \":::\", \n  . \"::\", \":::\", \":::\", \"::\", \":::\", \":::\", \":::\", \":::\", \":::\", \n  . \":::\", \":::\", \":::\", \"::\", \"local\", \":::\", \":::\", \"::\"), error_frame = c(FALSE, \n  . FALSE, FALSE, FALSE, FALSE, FALSE, FALSE, FALSE, FALSE, FALSE, \n  . FALSE, FALSE, FALSE, FALSE, FALSE, FALSE, FALSE, FALSE, FALSE, \n  . FALSE, FALSE, FALSE, FALSE, FALSE, FALSE, FALSE, FALSE, FALSE, \n  . FALSE, TRUE, FALSE, FALSE, FALSE, FALSE, FALSE, FALSE, FALSE, \n  . FALSE, FALSE, FALSE, FALSE, FALSE, FALSE, FALSE, FALSE, FALSE, \n  . FALSE)), row.names = c(NA, -47L), version = 2L, class = c(\"rlang_trace\", \n  . \"rlib_trace\", \"tbl\", \"data.frame\")), parent = NULL, i = \"datadate\", \n  .     subscript_type = \"character\", names = c(\"tic\", \"conm\", \"week\", \n  .     \"weekly_close\", \"simple_w_r\"), subscript_action = NULL, subscript_arg = \"datadate\", \n  .     rlang = list(inherit = TRUE), call = select(., datadate, \n  .         simple_w_r)), class = c(\"vctrs_error_subscript_oob\", \n  . \"vctrs_error_subscript\", \"rlang_error\", \"error\", \"condition\")))",
      "24. cnd_signal(cnd)",
      "25. signal_abort(cnd)",
      "26. signalCondition(cnd)"
     ]
    }
   ],
   "source": [
    "# 1) Get the chosen stock's weekly returns\n",
    "ticker_data <- data_weekly %>%\n",
    "  filter(tic == top_ticker_60d) %>%\n",
    "  select(datadate, simple_w_r) %>%\n",
    "  filter(!is.na(simple_w_r))\n",
    "\n",
    "# 2) Join with Fama–French factors (align on week end)\n",
    "ff_weekly <- ff %>% rename(datadate = date)\n",
    "\n",
    "merged <- ticker_data %>%\n",
    "  inner_join(ff_weekly, by = \"datadate\") %>%\n",
    "  mutate(excess_return = simple_w_r - rf)\n",
    "\n",
    "# 3) Fit FF3: excess_return ~ Mkt.RF + SMB + HML\n",
    "ff3_model <- lm(excess_return ~ mktrf + smb + hml, data = merged)\n",
    "\n",
    "# 4) Show results\n",
    "summary(ff3_model)"
   ]
  },
  {
   "cell_type": "markdown",
   "id": "3bd4fb91",
   "metadata": {},
   "source": [
    "# Analysis Summary\n",
    "\n",
    "BEWARE: THIS IS NOT FINAL, ADJUST FOR PROPER TICKER AND DATA\n",
    "\n",
    "CNC showed a moderate positive weekly return of about 1.85%, placing it in the 60% performance decile.\n",
    "The autocorrelation results indicated no meaningful serial correlation, meaning CNC’s returns are largely random\n",
    "and past movements do not predict future ones.\n",
    "\n",
    "The Fama–French 3-factor regression showed a weak positive link with the overall market, a negative relationship\n",
    "with company size, and a mild positive relationship with value characteristics. However, none were statistically\n",
    "significant, and the low R² (≈0.05) suggests that most of CNC’s return variation cannot be explained by common\n",
    "market factors.\n",
    "\n",
    "This implies CNC’s performance is mainly driven by firm-specific or idiosyncratic factors rather than broad market effects."
   ]
  }
 ],
 "metadata": {
  "kernelspec": {
   "display_name": "R",
   "language": "R",
   "name": "ir"
  },
  "language_info": {
   "codemirror_mode": "r",
   "file_extension": ".r",
   "mimetype": "text/x-r-source",
   "name": "R",
   "pygments_lexer": "r",
   "version": "4.3.3"
  }
 },
 "nbformat": 4,
 "nbformat_minor": 5
}
