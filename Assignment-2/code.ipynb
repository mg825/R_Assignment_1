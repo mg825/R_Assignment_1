{
 "cells": [
  {
   "cell_type": "code",
   "execution_count": null,
   "id": "09757b85",
   "metadata": {
    "vscode": {
     "languageId": "r"
    }
   },
   "outputs": [],
   "source": [
    "library(dplyr)\n",
    "library(data.table)\n",
    "library(lubridate)\n",
    "library(ggplot2)"
   ]
  },
  {
   "cell_type": "code",
   "execution_count": 5,
   "id": "fa6a2608",
   "metadata": {
    "vscode": {
     "languageId": "r"
    }
   },
   "outputs": [
    {
     "data": {
      "text/html": [
       "<table class=\"dataframe\">\n",
       "<caption>A data.table: 6 × 11</caption>\n",
       "<thead>\n",
       "\t<tr><th scope=col>tic</th><th scope=col>datadate</th><th scope=col>conm</th><th scope=col>exchg</th><th scope=col>sic</th><th scope=col>cshtrd</th><th scope=col>prccd</th><th scope=col>prchd</th><th scope=col>prcld</th><th scope=col>prcod</th><th scope=col>gvkey</th></tr>\n",
       "\t<tr><th scope=col>&lt;chr&gt;</th><th scope=col>&lt;date&gt;</th><th scope=col>&lt;chr&gt;</th><th scope=col>&lt;int&gt;</th><th scope=col>&lt;int&gt;</th><th scope=col>&lt;dbl&gt;</th><th scope=col>&lt;dbl&gt;</th><th scope=col>&lt;dbl&gt;</th><th scope=col>&lt;dbl&gt;</th><th scope=col>&lt;dbl&gt;</th><th scope=col>&lt;int&gt;</th></tr>\n",
       "</thead>\n",
       "<tbody>\n",
       "\t<tr><td>PNW</td><td>2023-01-03</td><td>PINNACLE WEST CAPITAL CORP</td><td>11</td><td>4911</td><td>1442534</td><td>74.63</td><td>76.4125</td><td>73.380</td><td>76.25</td><td>1075</td></tr>\n",
       "\t<tr><td>PNW</td><td>2023-01-04</td><td>PINNACLE WEST CAPITAL CORP</td><td>11</td><td>4911</td><td> 954218</td><td>75.39</td><td>76.0950</td><td>74.630</td><td>75.10</td><td>1075</td></tr>\n",
       "\t<tr><td>PNW</td><td>2023-01-05</td><td>PINNACLE WEST CAPITAL CORP</td><td>11</td><td>4911</td><td> 994775</td><td>73.65</td><td>75.0950</td><td>73.305</td><td>74.88</td><td>1075</td></tr>\n",
       "\t<tr><td>PNW</td><td>2023-01-06</td><td>PINNACLE WEST CAPITAL CORP</td><td>11</td><td>4911</td><td> 729808</td><td>75.46</td><td>76.0200</td><td>74.480</td><td>74.49</td><td>1075</td></tr>\n",
       "\t<tr><td>PNW</td><td>2023-01-09</td><td>PINNACLE WEST CAPITAL CORP</td><td>11</td><td>4911</td><td> 656127</td><td>75.55</td><td>76.4800</td><td>75.240</td><td>75.24</td><td>1075</td></tr>\n",
       "\t<tr><td>PNW</td><td>2023-01-10</td><td>PINNACLE WEST CAPITAL CORP</td><td>11</td><td>4911</td><td> 763254</td><td>75.65</td><td>75.6950</td><td>74.880</td><td>75.31</td><td>1075</td></tr>\n",
       "</tbody>\n",
       "</table>\n"
      ],
      "text/latex": [
       "A data.table: 6 × 11\n",
       "\\begin{tabular}{lllllllllll}\n",
       " tic & datadate & conm & exchg & sic & cshtrd & prccd & prchd & prcld & prcod & gvkey\\\\\n",
       " <chr> & <date> & <chr> & <int> & <int> & <dbl> & <dbl> & <dbl> & <dbl> & <dbl> & <int>\\\\\n",
       "\\hline\n",
       "\t PNW & 2023-01-03 & PINNACLE WEST CAPITAL CORP & 11 & 4911 & 1442534 & 74.63 & 76.4125 & 73.380 & 76.25 & 1075\\\\\n",
       "\t PNW & 2023-01-04 & PINNACLE WEST CAPITAL CORP & 11 & 4911 &  954218 & 75.39 & 76.0950 & 74.630 & 75.10 & 1075\\\\\n",
       "\t PNW & 2023-01-05 & PINNACLE WEST CAPITAL CORP & 11 & 4911 &  994775 & 73.65 & 75.0950 & 73.305 & 74.88 & 1075\\\\\n",
       "\t PNW & 2023-01-06 & PINNACLE WEST CAPITAL CORP & 11 & 4911 &  729808 & 75.46 & 76.0200 & 74.480 & 74.49 & 1075\\\\\n",
       "\t PNW & 2023-01-09 & PINNACLE WEST CAPITAL CORP & 11 & 4911 &  656127 & 75.55 & 76.4800 & 75.240 & 75.24 & 1075\\\\\n",
       "\t PNW & 2023-01-10 & PINNACLE WEST CAPITAL CORP & 11 & 4911 &  763254 & 75.65 & 75.6950 & 74.880 & 75.31 & 1075\\\\\n",
       "\\end{tabular}\n"
      ],
      "text/markdown": [
       "\n",
       "A data.table: 6 × 11\n",
       "\n",
       "| tic &lt;chr&gt; | datadate &lt;date&gt; | conm &lt;chr&gt; | exchg &lt;int&gt; | sic &lt;int&gt; | cshtrd &lt;dbl&gt; | prccd &lt;dbl&gt; | prchd &lt;dbl&gt; | prcld &lt;dbl&gt; | prcod &lt;dbl&gt; | gvkey &lt;int&gt; |\n",
       "|---|---|---|---|---|---|---|---|---|---|---|\n",
       "| PNW | 2023-01-03 | PINNACLE WEST CAPITAL CORP | 11 | 4911 | 1442534 | 74.63 | 76.4125 | 73.380 | 76.25 | 1075 |\n",
       "| PNW | 2023-01-04 | PINNACLE WEST CAPITAL CORP | 11 | 4911 |  954218 | 75.39 | 76.0950 | 74.630 | 75.10 | 1075 |\n",
       "| PNW | 2023-01-05 | PINNACLE WEST CAPITAL CORP | 11 | 4911 |  994775 | 73.65 | 75.0950 | 73.305 | 74.88 | 1075 |\n",
       "| PNW | 2023-01-06 | PINNACLE WEST CAPITAL CORP | 11 | 4911 |  729808 | 75.46 | 76.0200 | 74.480 | 74.49 | 1075 |\n",
       "| PNW | 2023-01-09 | PINNACLE WEST CAPITAL CORP | 11 | 4911 |  656127 | 75.55 | 76.4800 | 75.240 | 75.24 | 1075 |\n",
       "| PNW | 2023-01-10 | PINNACLE WEST CAPITAL CORP | 11 | 4911 |  763254 | 75.65 | 75.6950 | 74.880 | 75.31 | 1075 |\n",
       "\n"
      ],
      "text/plain": [
       "  tic datadate   conm                       exchg sic  cshtrd  prccd prchd  \n",
       "1 PNW 2023-01-03 PINNACLE WEST CAPITAL CORP 11    4911 1442534 74.63 76.4125\n",
       "2 PNW 2023-01-04 PINNACLE WEST CAPITAL CORP 11    4911  954218 75.39 76.0950\n",
       "3 PNW 2023-01-05 PINNACLE WEST CAPITAL CORP 11    4911  994775 73.65 75.0950\n",
       "4 PNW 2023-01-06 PINNACLE WEST CAPITAL CORP 11    4911  729808 75.46 76.0200\n",
       "5 PNW 2023-01-09 PINNACLE WEST CAPITAL CORP 11    4911  656127 75.55 76.4800\n",
       "6 PNW 2023-01-10 PINNACLE WEST CAPITAL CORP 11    4911  763254 75.65 75.6950\n",
       "  prcld  prcod gvkey\n",
       "1 73.380 76.25 1075 \n",
       "2 74.630 75.10 1075 \n",
       "3 73.305 74.88 1075 \n",
       "4 74.480 74.49 1075 \n",
       "5 75.240 75.24 1075 \n",
       "6 74.880 75.31 1075 "
      ]
     },
     "metadata": {},
     "output_type": "display_data"
    }
   ],
   "source": [
    "data = fread(\"compressed_data.csv.gz\") %>% \n",
    "    filter(!is.na(prcod)) %>% \n",
    "        mutate(datadate = as.Date(datadate, \"%d/%m/%Y\"))\n",
    "head(data)\n",
    "\n"
   ]
  },
  {
   "cell_type": "markdown",
   "id": "c115e766",
   "metadata": {},
   "source": [
    "## A1 Analysis"
   ]
  },
  {
   "cell_type": "code",
   "execution_count": null,
   "id": "a9f54da1",
   "metadata": {
    "vscode": {
     "languageId": "r"
    }
   },
   "outputs": [
    {
     "data": {
      "text/html": [
       "'There are 502 unique tickers.'"
      ],
      "text/latex": [
       "'There are 502 unique tickers.'"
      ],
      "text/markdown": [
       "'There are 502 unique tickers.'"
      ],
      "text/plain": [
       "[1] \"There are 502 unique tickers.\""
      ]
     },
     "metadata": {},
     "output_type": "display_data"
    },
    {
     "data": {
      "text/html": [
       "'There are 499 unique company names.'"
      ],
      "text/latex": [
       "'There are 499 unique company names.'"
      ],
      "text/markdown": [
       "'There are 499 unique company names.'"
      ],
      "text/plain": [
       "[1] \"There are 499 unique company names.\""
      ]
     },
     "metadata": {},
     "output_type": "display_data"
    },
    {
     "data": {
      "text/html": [
       "<table class=\"dataframe\">\n",
       "<caption>A tibble: 5 × 2</caption>\n",
       "<thead>\n",
       "\t<tr><th scope=col>tic</th><th scope=col>mean_trading_v</th></tr>\n",
       "\t<tr><th scope=col>&lt;chr&gt;</th><th scope=col>&lt;dbl&gt;</th></tr>\n",
       "</thead>\n",
       "<tbody>\n",
       "\t<tr><td>TSLA</td><td>115314383</td></tr>\n",
       "\t<tr><td>NVDA</td><td>113131835</td></tr>\n",
       "\t<tr><td>PLTR</td><td> 60056251</td></tr>\n",
       "\t<tr><td>AAPL</td><td> 57736403</td></tr>\n",
       "\t<tr><td>AMD </td><td> 57143415</td></tr>\n",
       "</tbody>\n",
       "</table>\n"
      ],
      "text/latex": [
       "A tibble: 5 × 2\n",
       "\\begin{tabular}{ll}\n",
       " tic & mean\\_trading\\_v\\\\\n",
       " <chr> & <dbl>\\\\\n",
       "\\hline\n",
       "\t TSLA & 115314383\\\\\n",
       "\t NVDA & 113131835\\\\\n",
       "\t PLTR &  60056251\\\\\n",
       "\t AAPL &  57736403\\\\\n",
       "\t AMD  &  57143415\\\\\n",
       "\\end{tabular}\n"
      ],
      "text/markdown": [
       "\n",
       "A tibble: 5 × 2\n",
       "\n",
       "| tic &lt;chr&gt; | mean_trading_v &lt;dbl&gt; |\n",
       "|---|---|\n",
       "| TSLA | 115314383 |\n",
       "| NVDA | 113131835 |\n",
       "| PLTR |  60056251 |\n",
       "| AAPL |  57736403 |\n",
       "| AMD  |  57143415 |\n",
       "\n"
      ],
      "text/plain": [
       "  tic  mean_trading_v\n",
       "1 TSLA 115314383     \n",
       "2 NVDA 113131835     \n",
       "3 PLTR  60056251     \n",
       "4 AAPL  57736403     \n",
       "5 AMD   57143415     "
      ]
     },
     "metadata": {},
     "output_type": "display_data"
    },
    {
     "data": {
      "text/html": [
       "<table class=\"dataframe\">\n",
       "<caption>A tibble: 3 × 2</caption>\n",
       "<thead>\n",
       "\t<tr><th scope=col>exchg</th><th scope=col>total_trading_v</th></tr>\n",
       "\t<tr><th scope=col>&lt;int&gt;</th><th scope=col>&lt;dbl&gt;</th></tr>\n",
       "</thead>\n",
       "<tbody>\n",
       "\t<tr><td>11</td><td>681415756062</td></tr>\n",
       "\t<tr><td>14</td><td>570830885382</td></tr>\n",
       "\t<tr><td>21</td><td>   385399362</td></tr>\n",
       "</tbody>\n",
       "</table>\n"
      ],
      "text/latex": [
       "A tibble: 3 × 2\n",
       "\\begin{tabular}{ll}\n",
       " exchg & total\\_trading\\_v\\\\\n",
       " <int> & <dbl>\\\\\n",
       "\\hline\n",
       "\t 11 & 681415756062\\\\\n",
       "\t 14 & 570830885382\\\\\n",
       "\t 21 &    385399362\\\\\n",
       "\\end{tabular}\n"
      ],
      "text/markdown": [
       "\n",
       "A tibble: 3 × 2\n",
       "\n",
       "| exchg &lt;int&gt; | total_trading_v &lt;dbl&gt; |\n",
       "|---|---|\n",
       "| 11 | 681415756062 |\n",
       "| 14 | 570830885382 |\n",
       "| 21 |    385399362 |\n",
       "\n"
      ],
      "text/plain": [
       "  exchg total_trading_v\n",
       "1 11    681415756062   \n",
       "2 14    570830885382   \n",
       "3 21       385399362   "
      ]
     },
     "metadata": {},
     "output_type": "display_data"
    },
    {
     "data": {
      "text/html": [
       "<table class=\"dataframe\">\n",
       "<caption>A tibble: 4 × 2</caption>\n",
       "<thead>\n",
       "\t<tr><th scope=col>conm</th><th scope=col>tickers</th></tr>\n",
       "\t<tr><th scope=col>&lt;chr&gt;</th><th scope=col>&lt;int&gt;</th></tr>\n",
       "</thead>\n",
       "<tbody>\n",
       "\t<tr><td>ALPHABET INC</td><td> 2</td></tr>\n",
       "\t<tr><td>FOX CORP    </td><td> 2</td></tr>\n",
       "\t<tr><td>NEWS CORP   </td><td> 2</td></tr>\n",
       "\t<tr><td>NA          </td><td>NA</td></tr>\n",
       "</tbody>\n",
       "</table>\n"
      ],
      "text/latex": [
       "A tibble: 4 × 2\n",
       "\\begin{tabular}{ll}\n",
       " conm & tickers\\\\\n",
       " <chr> & <int>\\\\\n",
       "\\hline\n",
       "\t ALPHABET INC &  2\\\\\n",
       "\t FOX CORP     &  2\\\\\n",
       "\t NEWS CORP    &  2\\\\\n",
       "\t NA           & NA\\\\\n",
       "\\end{tabular}\n"
      ],
      "text/markdown": [
       "\n",
       "A tibble: 4 × 2\n",
       "\n",
       "| conm &lt;chr&gt; | tickers &lt;int&gt; |\n",
       "|---|---|\n",
       "| ALPHABET INC |  2 |\n",
       "| FOX CORP     |  2 |\n",
       "| NEWS CORP    |  2 |\n",
       "| NA           | NA |\n",
       "\n"
      ],
      "text/plain": [
       "  conm         tickers\n",
       "1 ALPHABET INC  2     \n",
       "2 FOX CORP      2     \n",
       "3 NEWS CORP     2     \n",
       "4 NA           NA     "
      ]
     },
     "metadata": {},
     "output_type": "display_data"
    },
    {
     "data": {
      "text/html": [
       "<table class=\"dataframe\">\n",
       "<caption>A tibble: 6 × 12</caption>\n",
       "<thead>\n",
       "\t<tr><th scope=col>tic</th><th scope=col>datadate</th><th scope=col>conm</th><th scope=col>exchg</th><th scope=col>sic</th><th scope=col>cshtrd</th><th scope=col>prccd</th><th scope=col>prchd</th><th scope=col>prcld</th><th scope=col>prcod</th><th scope=col>gvkey</th><th scope=col>return</th></tr>\n",
       "\t<tr><th scope=col>&lt;chr&gt;</th><th scope=col>&lt;date&gt;</th><th scope=col>&lt;chr&gt;</th><th scope=col>&lt;int&gt;</th><th scope=col>&lt;int&gt;</th><th scope=col>&lt;dbl&gt;</th><th scope=col>&lt;dbl&gt;</th><th scope=col>&lt;dbl&gt;</th><th scope=col>&lt;dbl&gt;</th><th scope=col>&lt;dbl&gt;</th><th scope=col>&lt;int&gt;</th><th scope=col>&lt;dbl&gt;</th></tr>\n",
       "</thead>\n",
       "<tbody>\n",
       "\t<tr><td>PNW</td><td>2023-01-03</td><td>PINNACLE WEST CAPITAL CORP</td><td>11</td><td>4911</td><td>1442534</td><td>74.63</td><td>76.4125</td><td>73.380</td><td>76.25</td><td>1075</td><td>          NA</td></tr>\n",
       "\t<tr><td>PNW</td><td>2023-01-04</td><td>PINNACLE WEST CAPITAL CORP</td><td>11</td><td>4911</td><td> 954218</td><td>75.39</td><td>76.0950</td><td>74.630</td><td>75.10</td><td>1075</td><td> 0.010183572</td></tr>\n",
       "\t<tr><td>PNW</td><td>2023-01-05</td><td>PINNACLE WEST CAPITAL CORP</td><td>11</td><td>4911</td><td> 994775</td><td>73.65</td><td>75.0950</td><td>73.305</td><td>74.88</td><td>1075</td><td>-0.023079984</td></tr>\n",
       "\t<tr><td>PNW</td><td>2023-01-06</td><td>PINNACLE WEST CAPITAL CORP</td><td>11</td><td>4911</td><td> 729808</td><td>75.46</td><td>76.0200</td><td>74.480</td><td>74.49</td><td>1075</td><td> 0.024575696</td></tr>\n",
       "\t<tr><td>PNW</td><td>2023-01-09</td><td>PINNACLE WEST CAPITAL CORP</td><td>11</td><td>4911</td><td> 656127</td><td>75.55</td><td>76.4800</td><td>75.240</td><td>75.24</td><td>1075</td><td> 0.001192685</td></tr>\n",
       "\t<tr><td>PNW</td><td>2023-01-10</td><td>PINNACLE WEST CAPITAL CORP</td><td>11</td><td>4911</td><td> 763254</td><td>75.65</td><td>75.6950</td><td>74.880</td><td>75.31</td><td>1075</td><td> 0.001323627</td></tr>\n",
       "</tbody>\n",
       "</table>\n"
      ],
      "text/latex": [
       "A tibble: 6 × 12\n",
       "\\begin{tabular}{llllllllllll}\n",
       " tic & datadate & conm & exchg & sic & cshtrd & prccd & prchd & prcld & prcod & gvkey & return\\\\\n",
       " <chr> & <date> & <chr> & <int> & <int> & <dbl> & <dbl> & <dbl> & <dbl> & <dbl> & <int> & <dbl>\\\\\n",
       "\\hline\n",
       "\t PNW & 2023-01-03 & PINNACLE WEST CAPITAL CORP & 11 & 4911 & 1442534 & 74.63 & 76.4125 & 73.380 & 76.25 & 1075 &           NA\\\\\n",
       "\t PNW & 2023-01-04 & PINNACLE WEST CAPITAL CORP & 11 & 4911 &  954218 & 75.39 & 76.0950 & 74.630 & 75.10 & 1075 &  0.010183572\\\\\n",
       "\t PNW & 2023-01-05 & PINNACLE WEST CAPITAL CORP & 11 & 4911 &  994775 & 73.65 & 75.0950 & 73.305 & 74.88 & 1075 & -0.023079984\\\\\n",
       "\t PNW & 2023-01-06 & PINNACLE WEST CAPITAL CORP & 11 & 4911 &  729808 & 75.46 & 76.0200 & 74.480 & 74.49 & 1075 &  0.024575696\\\\\n",
       "\t PNW & 2023-01-09 & PINNACLE WEST CAPITAL CORP & 11 & 4911 &  656127 & 75.55 & 76.4800 & 75.240 & 75.24 & 1075 &  0.001192685\\\\\n",
       "\t PNW & 2023-01-10 & PINNACLE WEST CAPITAL CORP & 11 & 4911 &  763254 & 75.65 & 75.6950 & 74.880 & 75.31 & 1075 &  0.001323627\\\\\n",
       "\\end{tabular}\n"
      ],
      "text/markdown": [
       "\n",
       "A tibble: 6 × 12\n",
       "\n",
       "| tic &lt;chr&gt; | datadate &lt;date&gt; | conm &lt;chr&gt; | exchg &lt;int&gt; | sic &lt;int&gt; | cshtrd &lt;dbl&gt; | prccd &lt;dbl&gt; | prchd &lt;dbl&gt; | prcld &lt;dbl&gt; | prcod &lt;dbl&gt; | gvkey &lt;int&gt; | return &lt;dbl&gt; |\n",
       "|---|---|---|---|---|---|---|---|---|---|---|---|\n",
       "| PNW | 2023-01-03 | PINNACLE WEST CAPITAL CORP | 11 | 4911 | 1442534 | 74.63 | 76.4125 | 73.380 | 76.25 | 1075 |           NA |\n",
       "| PNW | 2023-01-04 | PINNACLE WEST CAPITAL CORP | 11 | 4911 |  954218 | 75.39 | 76.0950 | 74.630 | 75.10 | 1075 |  0.010183572 |\n",
       "| PNW | 2023-01-05 | PINNACLE WEST CAPITAL CORP | 11 | 4911 |  994775 | 73.65 | 75.0950 | 73.305 | 74.88 | 1075 | -0.023079984 |\n",
       "| PNW | 2023-01-06 | PINNACLE WEST CAPITAL CORP | 11 | 4911 |  729808 | 75.46 | 76.0200 | 74.480 | 74.49 | 1075 |  0.024575696 |\n",
       "| PNW | 2023-01-09 | PINNACLE WEST CAPITAL CORP | 11 | 4911 |  656127 | 75.55 | 76.4800 | 75.240 | 75.24 | 1075 |  0.001192685 |\n",
       "| PNW | 2023-01-10 | PINNACLE WEST CAPITAL CORP | 11 | 4911 |  763254 | 75.65 | 75.6950 | 74.880 | 75.31 | 1075 |  0.001323627 |\n",
       "\n"
      ],
      "text/plain": [
       "  tic datadate   conm                       exchg sic  cshtrd  prccd prchd  \n",
       "1 PNW 2023-01-03 PINNACLE WEST CAPITAL CORP 11    4911 1442534 74.63 76.4125\n",
       "2 PNW 2023-01-04 PINNACLE WEST CAPITAL CORP 11    4911  954218 75.39 76.0950\n",
       "3 PNW 2023-01-05 PINNACLE WEST CAPITAL CORP 11    4911  994775 73.65 75.0950\n",
       "4 PNW 2023-01-06 PINNACLE WEST CAPITAL CORP 11    4911  729808 75.46 76.0200\n",
       "5 PNW 2023-01-09 PINNACLE WEST CAPITAL CORP 11    4911  656127 75.55 76.4800\n",
       "6 PNW 2023-01-10 PINNACLE WEST CAPITAL CORP 11    4911  763254 75.65 75.6950\n",
       "  prcld  prcod gvkey return      \n",
       "1 73.380 76.25 1075            NA\n",
       "2 74.630 75.10 1075   0.010183572\n",
       "3 73.305 74.88 1075  -0.023079984\n",
       "4 74.480 74.49 1075   0.024575696\n",
       "5 75.240 75.24 1075   0.001192685\n",
       "6 74.880 75.31 1075   0.001323627"
      ]
     },
     "metadata": {},
     "output_type": "display_data"
    },
    {
     "data": {
      "text/html": [
       "<table class=\"dataframe\">\n",
       "<caption>A tibble: 6 × 2</caption>\n",
       "<thead>\n",
       "\t<tr><th scope=col>tic</th><th scope=col>mean_return</th></tr>\n",
       "\t<tr><th scope=col>&lt;chr&gt;</th><th scope=col>&lt;dbl&gt;</th></tr>\n",
       "</thead>\n",
       "<tbody>\n",
       "\t<tr><td>PLTR</td><td>0.005785119</td></tr>\n",
       "\t<tr><td>COIN</td><td>0.005497913</td></tr>\n",
       "\t<tr><td>GEV </td><td>0.005246567</td></tr>\n",
       "\t<tr><td>VST </td><td>0.004044824</td></tr>\n",
       "\t<tr><td>META</td><td>0.003367155</td></tr>\n",
       "\t<tr><td>RCL </td><td>0.003353639</td></tr>\n",
       "</tbody>\n",
       "</table>\n"
      ],
      "text/latex": [
       "A tibble: 6 × 2\n",
       "\\begin{tabular}{ll}\n",
       " tic & mean\\_return\\\\\n",
       " <chr> & <dbl>\\\\\n",
       "\\hline\n",
       "\t PLTR & 0.005785119\\\\\n",
       "\t COIN & 0.005497913\\\\\n",
       "\t GEV  & 0.005246567\\\\\n",
       "\t VST  & 0.004044824\\\\\n",
       "\t META & 0.003367155\\\\\n",
       "\t RCL  & 0.003353639\\\\\n",
       "\\end{tabular}\n"
      ],
      "text/markdown": [
       "\n",
       "A tibble: 6 × 2\n",
       "\n",
       "| tic &lt;chr&gt; | mean_return &lt;dbl&gt; |\n",
       "|---|---|\n",
       "| PLTR | 0.005785119 |\n",
       "| COIN | 0.005497913 |\n",
       "| GEV  | 0.005246567 |\n",
       "| VST  | 0.004044824 |\n",
       "| META | 0.003367155 |\n",
       "| RCL  | 0.003353639 |\n",
       "\n"
      ],
      "text/plain": [
       "  tic  mean_return\n",
       "1 PLTR 0.005785119\n",
       "2 COIN 0.005497913\n",
       "3 GEV  0.005246567\n",
       "4 VST  0.004044824\n",
       "5 META 0.003367155\n",
       "6 RCL  0.003353639"
      ]
     },
     "metadata": {},
     "output_type": "display_data"
    },
    {
     "data": {
      "text/html": [
       "'The PLTR ticker had the higest mean daily return.'"
      ],
      "text/latex": [
       "'The PLTR ticker had the higest mean daily return.'"
      ],
      "text/markdown": [
       "'The PLTR ticker had the higest mean daily return.'"
      ],
      "text/plain": [
       "[1] \"The PLTR ticker had the higest mean daily return.\""
      ]
     },
     "metadata": {},
     "output_type": "display_data"
    },
    {
     "data": {
      "text/html": [
       "'The return was 0.58 %.'"
      ],
      "text/latex": [
       "'The return was 0.58 \\%.'"
      ],
      "text/markdown": [
       "'The return was 0.58 %.'"
      ],
      "text/plain": [
       "[1] \"The return was 0.58 %.\""
      ]
     },
     "metadata": {},
     "output_type": "display_data"
    },
    {
     "data": {
      "text/html": [
       "'The PLTR company had the higest mean daily return.'"
      ],
      "text/latex": [
       "'The PLTR company had the higest mean daily return.'"
      ],
      "text/markdown": [
       "'The PLTR company had the higest mean daily return.'"
      ],
      "text/plain": [
       "[1] \"The PLTR company had the higest mean daily return.\""
      ]
     },
     "metadata": {},
     "output_type": "display_data"
    },
    {
     "data": {
      "text/html": [
       "'The 6798 SIC industry has the most companies.'"
      ],
      "text/latex": [
       "'The 6798 SIC industry has the most companies.'"
      ],
      "text/markdown": [
       "'The 6798 SIC industry has the most companies.'"
      ],
      "text/plain": [
       "[1] \"The 6798 SIC industry has the most companies.\""
      ]
     },
     "metadata": {},
     "output_type": "display_data"
    },
    {
     "data": {
      "text/html": [
       "'There are 28 companies in the industry'"
      ],
      "text/latex": [
       "'There are 28 companies in the industry'"
      ],
      "text/markdown": [
       "'There are 28 companies in the industry'"
      ],
      "text/plain": [
       "[1] \"There are 28 companies in the industry\""
      ]
     },
     "metadata": {},
     "output_type": "display_data"
    },
    {
     "data": {
      "image/png": "[encoded data removed]",
      "text/plain": [
       "plot without title"
      ]
     },
     "metadata": {
      "image/png": {
       "height": 420,
       "width": 420
      }
     },
     "output_type": "display_data"
    }
   ],
   "source": [
    "# 1. How many unique tickers are in your data?\n",
    "unique_tic_n = length(unique(data$tic))\n",
    "paste(\"There are\", unique_tic_n, \"unique tickers.\")\n",
    "\n",
    "# 2. How many unique companies are in your data?\n",
    "unique_conm_n = length(unique(data$conm))\n",
    "paste(\"There are\", unique_conm_n, \"unique company names.\")\n",
    "\n",
    "# 3. Display the top 5 companies by largest mean trading volume, in a table.\n",
    "data_3 = data %>%\n",
    "    group_by(tic) %>%\n",
    "    summarise(mean_trading_v = mean(cshtrd, na.rm = TRUE)) %>%\n",
    "    ungroup() %>%\n",
    "        arrange(desc(mean_trading_v))\n",
    "data_3[1:5,]\n",
    "\n",
    "# 4. Display the total trading volume of the top 3 exchanges by largest total trading volume, in a table.\n",
    "data_4 = data %>%\n",
    "    group_by(exchg) %>%\n",
    "    summarise(total_trading_v = sum(cshtrd, na.rm = TRUE)) %>%\n",
    "    ungroup() %>%\n",
    "        arrange(desc(total_trading_v))\n",
    "data_4[1:3,]\n",
    "\n",
    "# 5. Visualise the total trading volume of the top 3 exchanges by largest total trading volume, in a bar plot.\n",
    "ggplot(data_4, aes(x = as.character(exchg), y = total_trading_v/1000000)) +\n",
    "  geom_bar(stat = \"identity\", color = \"darkblue\", fill = \"darkblue\") +\n",
    "  geom_text(aes(label = round(total_trading_v/1000000)),\n",
    "            vjust = -0.3,              # position above the bar\n",
    "            size = 5) +               # text size\n",
    "  labs(title = \"total trading volume of the top 3 exchanges\",\n",
    "  x= \"exchange\", y=\"total trading volume in millions\") +\n",
    "  theme(plot.title = element_text(hjust = 0.5))\n",
    "\n",
    "# 6. How many companies have more than one ticker?\n",
    "data_6 = data %>%\n",
    "    group_by(conm) %>%\n",
    "    summarise(tickers = n_distinct(tic)) %>%\n",
    "    ungroup() %>% \n",
    "    filter(!tickers == 1)\n",
    "data_6[1:4,]\n",
    "\n",
    "# 7. Which ticker has the largest positive mean return (simple daily return)?\n",
    "data = data %>% \n",
    "    group_by(tic) %>% \n",
    "    mutate(return = prccd/lag(prccd)-1) %>% \n",
    "    ungroup()\n",
    "head(data)\n",
    "\n",
    "data_7 = data %>% \n",
    "    group_by(tic) %>% \n",
    "    summarise(mean_return = mean(return, na.rm = TRUE)) %>% \n",
    "    ungroup() %>% \n",
    "        arrange(desc(mean_return))\n",
    "head(data_7)\n",
    "\n",
    "highest_mean_return = max(data_7$mean_return)\n",
    "\n",
    "highest_mean_return_ticker = data_7$tic[\n",
    "    which.max(data_7$mean_return)\n",
    "]\n",
    "paste(\"The\", highest_mean_return_ticker, \"ticker had the higest mean daily return.\")\n",
    "paste(\"The return was\", round(highest_mean_return, 4)*100,\"%.\")\n",
    "\n",
    "# 8. Which company has the largest positive mean return (simple daily return)?\n",
    "paste(\"The\", highest_mean_return_ticker, \"company had the higest mean daily return.\")\n",
    "\n",
    "# 9. Which industry is represented by the most companies?\n",
    "data_9 = data %>%\n",
    "    group_by(sic) %>%\n",
    "    summarise(no_companies = n_distinct(conm)) %>%\n",
    "    ungroup() %>% \n",
    "    arrange(desc(no_companies))\n",
    "most_represented_industry = data_9$sic[\n",
    "    which.max(data_9$no_companies)\n",
    "]\n",
    "no_companies_in_most_represented_industry = max(data_9$no_companies)\n",
    "\n",
    "paste(\"The\", most_represented_industry, \"SIC industry has the most companies.\")\n",
    "paste(\"There are\", no_companies_in_most_represented_industry, \"companies in that industry.\")\n"
   ]
  },
  {
   "cell_type": "markdown",
   "id": "e3a2615b",
   "metadata": {},
   "source": [
    "## A2 Analysis"
   ]
  },
  {
   "cell_type": "code",
   "execution_count": 65,
   "id": "5521c905",
   "metadata": {
    "vscode": {
     "languageId": "r"
    }
   },
   "outputs": [
    {
     "name": "stderr",
     "output_type": "stream",
     "text": [
      "Warning message:\n",
      "“\u001b[1m\u001b[22mReturning more (or less) than 1 row per `summarise()` group was deprecated in\n",
      "dplyr 1.1.0.\n",
      "\u001b[36mℹ\u001b[39m Please use `reframe()` instead.\n",
      "\u001b[36mℹ\u001b[39m When switching from `summarise()` to `reframe()`, remember that `reframe()`\n",
      "  always returns an ungrouped data frame and adjust accordingly.”\n",
      "\u001b[1m\u001b[22m`summarise()` has grouped output by 'datadate'. You can override using the\n",
      "`.groups` argument.\n"
     ]
    },
    {
     "data": {
      "text/html": [
       "<table class=\"dataframe\">\n",
       "<caption>A tibble: 6 × 2</caption>\n",
       "<thead>\n",
       "\t<tr><th scope=col>datadate</th><th scope=col>week</th></tr>\n",
       "\t<tr><th scope=col>&lt;date&gt;</th><th scope=col>&lt;dbl&gt;</th></tr>\n",
       "</thead>\n",
       "<tbody>\n",
       "\t<tr><td>2023-01-03</td><td>1</td></tr>\n",
       "\t<tr><td>2023-01-03</td><td>1</td></tr>\n",
       "\t<tr><td>2023-01-03</td><td>1</td></tr>\n",
       "\t<tr><td>2023-01-03</td><td>1</td></tr>\n",
       "\t<tr><td>2023-01-03</td><td>1</td></tr>\n",
       "\t<tr><td>2023-01-03</td><td>1</td></tr>\n",
       "</tbody>\n",
       "</table>\n"
      ],
      "text/latex": [
       "A tibble: 6 × 2\n",
       "\\begin{tabular}{ll}\n",
       " datadate & week\\\\\n",
       " <date> & <dbl>\\\\\n",
       "\\hline\n",
       "\t 2023-01-03 & 1\\\\\n",
       "\t 2023-01-03 & 1\\\\\n",
       "\t 2023-01-03 & 1\\\\\n",
       "\t 2023-01-03 & 1\\\\\n",
       "\t 2023-01-03 & 1\\\\\n",
       "\t 2023-01-03 & 1\\\\\n",
       "\\end{tabular}\n"
      ],
      "text/markdown": [
       "\n",
       "A tibble: 6 × 2\n",
       "\n",
       "| datadate &lt;date&gt; | week &lt;dbl&gt; |\n",
       "|---|---|\n",
       "| 2023-01-03 | 1 |\n",
       "| 2023-01-03 | 1 |\n",
       "| 2023-01-03 | 1 |\n",
       "| 2023-01-03 | 1 |\n",
       "| 2023-01-03 | 1 |\n",
       "| 2023-01-03 | 1 |\n",
       "\n"
      ],
      "text/plain": [
       "  datadate   week\n",
       "1 2023-01-03 1   \n",
       "2 2023-01-03 1   \n",
       "3 2023-01-03 1   \n",
       "4 2023-01-03 1   \n",
       "5 2023-01-03 1   \n",
       "6 2023-01-03 1   "
      ]
     },
     "metadata": {},
     "output_type": "display_data"
    }
   ],
   "source": [
    "# 1. Calculate simple weekly returns for each ticker in the full dataset using the following formula\n",
    "data_weeks = data %>% \n",
    "    group_by(datadate) %>% \n",
    "    summarise(week = week(datadate)) %>% \n",
    "    ungroup()\n",
    "data_weeks[5:10,]"
   ]
  }
 ],
 "metadata": {
  "kernelspec": {
   "display_name": "R",
   "language": "R",
   "name": "ir"
  },
  "language_info": {
   "codemirror_mode": "r",
   "file_extension": ".r",
   "mimetype": "text/x-r-source",
   "name": "R",
   "pygments_lexer": "r",
   "version": "4.3.3"
  }
 },
 "nbformat": 4,
 "nbformat_minor": 5
}
