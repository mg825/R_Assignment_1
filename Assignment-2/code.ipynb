{
 "cells": [
  {
   "cell_type": "code",
   "execution_count": null,
   "id": "09757b85",
   "metadata": {
    "vscode": {
     "languageId": "r"
    }
   },
   "outputs": [],
   "source": [
    "library(dplyr)\n",
    "library(data.table)"
   ]
  },
  {
   "cell_type": "code",
   "execution_count": 2,
   "id": "fa6a2608",
   "metadata": {
    "vscode": {
     "languageId": "r"
    }
   },
   "outputs": [
    {
     "data": {
      "text/html": [
       "<table class=\"dataframe\">\n",
       "<caption>A data.table: 6 × 11</caption>\n",
       "<thead>\n",
       "\t<tr><th scope=col>tic</th><th scope=col>datadate</th><th scope=col>conm</th><th scope=col>exchg</th><th scope=col>sic</th><th scope=col>cshtrd</th><th scope=col>prccd</th><th scope=col>prchd</th><th scope=col>prcld</th><th scope=col>prcod</th><th scope=col>gvkey</th></tr>\n",
       "\t<tr><th scope=col>&lt;chr&gt;</th><th scope=col>&lt;date&gt;</th><th scope=col>&lt;chr&gt;</th><th scope=col>&lt;int&gt;</th><th scope=col>&lt;int&gt;</th><th scope=col>&lt;dbl&gt;</th><th scope=col>&lt;dbl&gt;</th><th scope=col>&lt;dbl&gt;</th><th scope=col>&lt;dbl&gt;</th><th scope=col>&lt;dbl&gt;</th><th scope=col>&lt;int&gt;</th></tr>\n",
       "</thead>\n",
       "<tbody>\n",
       "\t<tr><td>PNW</td><td>2023-01-03</td><td>PINNACLE WEST CAPITAL CORP</td><td>11</td><td>4911</td><td>1442534</td><td>74.63</td><td>76.4125</td><td>73.380</td><td>76.25</td><td>1075</td></tr>\n",
       "\t<tr><td>PNW</td><td>2023-01-04</td><td>PINNACLE WEST CAPITAL CORP</td><td>11</td><td>4911</td><td> 954218</td><td>75.39</td><td>76.0950</td><td>74.630</td><td>75.10</td><td>1075</td></tr>\n",
       "\t<tr><td>PNW</td><td>2023-01-05</td><td>PINNACLE WEST CAPITAL CORP</td><td>11</td><td>4911</td><td> 994775</td><td>73.65</td><td>75.0950</td><td>73.305</td><td>74.88</td><td>1075</td></tr>\n",
       "\t<tr><td>PNW</td><td>2023-01-06</td><td>PINNACLE WEST CAPITAL CORP</td><td>11</td><td>4911</td><td> 729808</td><td>75.46</td><td>76.0200</td><td>74.480</td><td>74.49</td><td>1075</td></tr>\n",
       "\t<tr><td>PNW</td><td>2023-01-09</td><td>PINNACLE WEST CAPITAL CORP</td><td>11</td><td>4911</td><td> 656127</td><td>75.55</td><td>76.4800</td><td>75.240</td><td>75.24</td><td>1075</td></tr>\n",
       "\t<tr><td>PNW</td><td>2023-01-10</td><td>PINNACLE WEST CAPITAL CORP</td><td>11</td><td>4911</td><td> 763254</td><td>75.65</td><td>75.6950</td><td>74.880</td><td>75.31</td><td>1075</td></tr>\n",
       "</tbody>\n",
       "</table>\n"
      ],
      "text/latex": [
       "A data.table: 6 × 11\n",
       "\\begin{tabular}{lllllllllll}\n",
       " tic & datadate & conm & exchg & sic & cshtrd & prccd & prchd & prcld & prcod & gvkey\\\\\n",
       " <chr> & <date> & <chr> & <int> & <int> & <dbl> & <dbl> & <dbl> & <dbl> & <dbl> & <int>\\\\\n",
       "\\hline\n",
       "\t PNW & 2023-01-03 & PINNACLE WEST CAPITAL CORP & 11 & 4911 & 1442534 & 74.63 & 76.4125 & 73.380 & 76.25 & 1075\\\\\n",
       "\t PNW & 2023-01-04 & PINNACLE WEST CAPITAL CORP & 11 & 4911 &  954218 & 75.39 & 76.0950 & 74.630 & 75.10 & 1075\\\\\n",
       "\t PNW & 2023-01-05 & PINNACLE WEST CAPITAL CORP & 11 & 4911 &  994775 & 73.65 & 75.0950 & 73.305 & 74.88 & 1075\\\\\n",
       "\t PNW & 2023-01-06 & PINNACLE WEST CAPITAL CORP & 11 & 4911 &  729808 & 75.46 & 76.0200 & 74.480 & 74.49 & 1075\\\\\n",
       "\t PNW & 2023-01-09 & PINNACLE WEST CAPITAL CORP & 11 & 4911 &  656127 & 75.55 & 76.4800 & 75.240 & 75.24 & 1075\\\\\n",
       "\t PNW & 2023-01-10 & PINNACLE WEST CAPITAL CORP & 11 & 4911 &  763254 & 75.65 & 75.6950 & 74.880 & 75.31 & 1075\\\\\n",
       "\\end{tabular}\n"
      ],
      "text/markdown": [
       "\n",
       "A data.table: 6 × 11\n",
       "\n",
       "| tic &lt;chr&gt; | datadate &lt;date&gt; | conm &lt;chr&gt; | exchg &lt;int&gt; | sic &lt;int&gt; | cshtrd &lt;dbl&gt; | prccd &lt;dbl&gt; | prchd &lt;dbl&gt; | prcld &lt;dbl&gt; | prcod &lt;dbl&gt; | gvkey &lt;int&gt; |\n",
       "|---|---|---|---|---|---|---|---|---|---|---|\n",
       "| PNW | 2023-01-03 | PINNACLE WEST CAPITAL CORP | 11 | 4911 | 1442534 | 74.63 | 76.4125 | 73.380 | 76.25 | 1075 |\n",
       "| PNW | 2023-01-04 | PINNACLE WEST CAPITAL CORP | 11 | 4911 |  954218 | 75.39 | 76.0950 | 74.630 | 75.10 | 1075 |\n",
       "| PNW | 2023-01-05 | PINNACLE WEST CAPITAL CORP | 11 | 4911 |  994775 | 73.65 | 75.0950 | 73.305 | 74.88 | 1075 |\n",
       "| PNW | 2023-01-06 | PINNACLE WEST CAPITAL CORP | 11 | 4911 |  729808 | 75.46 | 76.0200 | 74.480 | 74.49 | 1075 |\n",
       "| PNW | 2023-01-09 | PINNACLE WEST CAPITAL CORP | 11 | 4911 |  656127 | 75.55 | 76.4800 | 75.240 | 75.24 | 1075 |\n",
       "| PNW | 2023-01-10 | PINNACLE WEST CAPITAL CORP | 11 | 4911 |  763254 | 75.65 | 75.6950 | 74.880 | 75.31 | 1075 |\n",
       "\n"
      ],
      "text/plain": [
       "  tic datadate   conm                       exchg sic  cshtrd  prccd prchd  \n",
       "1 PNW 2023-01-03 PINNACLE WEST CAPITAL CORP 11    4911 1442534 74.63 76.4125\n",
       "2 PNW 2023-01-04 PINNACLE WEST CAPITAL CORP 11    4911  954218 75.39 76.0950\n",
       "3 PNW 2023-01-05 PINNACLE WEST CAPITAL CORP 11    4911  994775 73.65 75.0950\n",
       "4 PNW 2023-01-06 PINNACLE WEST CAPITAL CORP 11    4911  729808 75.46 76.0200\n",
       "5 PNW 2023-01-09 PINNACLE WEST CAPITAL CORP 11    4911  656127 75.55 76.4800\n",
       "6 PNW 2023-01-10 PINNACLE WEST CAPITAL CORP 11    4911  763254 75.65 75.6950\n",
       "  prcld  prcod gvkey\n",
       "1 73.380 76.25 1075 \n",
       "2 74.630 75.10 1075 \n",
       "3 73.305 74.88 1075 \n",
       "4 74.480 74.49 1075 \n",
       "5 75.240 75.24 1075 \n",
       "6 74.880 75.31 1075 "
      ]
     },
     "metadata": {},
     "output_type": "display_data"
    }
   ],
   "source": [
    "data = fread(\"compressed_data.csv.gz\") %>% \n",
    "    filter(!is.na(prcod)) %>% \n",
    "        mutate(datadate = as.Date(datadate, \"%d/%m/%Y\"))\n",
    "head(data)\n",
    "\n"
   ]
  },
  {
   "cell_type": "code",
   "execution_count": 3,
   "id": "a9f54da1",
   "metadata": {
    "vscode": {
     "languageId": "r"
    }
   },
   "outputs": [
    {
     "data": {
      "text/html": [
       "'There are 502 unique tickers.'"
      ],
      "text/latex": [
       "'There are 502 unique tickers.'"
      ],
      "text/markdown": [
       "'There are 502 unique tickers.'"
      ],
      "text/plain": [
       "[1] \"There are 502 unique tickers.\""
      ]
     },
     "metadata": {},
     "output_type": "display_data"
    },
    {
     "data": {
      "text/html": [
       "'There are 499 unique company names.'"
      ],
      "text/latex": [
       "'There are 499 unique company names.'"
      ],
      "text/markdown": [
       "'There are 499 unique company names.'"
      ],
      "text/plain": [
       "[1] \"There are 499 unique company names.\""
      ]
     },
     "metadata": {},
     "output_type": "display_data"
    },
    {
     "data": {
      "text/html": [
       "<table class=\"dataframe\">\n",
       "<caption>A tibble: 5 × 2</caption>\n",
       "<thead>\n",
       "\t<tr><th scope=col>tic</th><th scope=col>mean_trading_v</th></tr>\n",
       "\t<tr><th scope=col>&lt;chr&gt;</th><th scope=col>&lt;dbl&gt;</th></tr>\n",
       "</thead>\n",
       "<tbody>\n",
       "\t<tr><td>TSLA</td><td>115314383</td></tr>\n",
       "\t<tr><td>NVDA</td><td>113131835</td></tr>\n",
       "\t<tr><td>PLTR</td><td> 60056251</td></tr>\n",
       "\t<tr><td>AAPL</td><td> 57736403</td></tr>\n",
       "\t<tr><td>AMD </td><td> 57143415</td></tr>\n",
       "</tbody>\n",
       "</table>\n"
      ],
      "text/latex": [
       "A tibble: 5 × 2\n",
       "\\begin{tabular}{ll}\n",
       " tic & mean\\_trading\\_v\\\\\n",
       " <chr> & <dbl>\\\\\n",
       "\\hline\n",
       "\t TSLA & 115314383\\\\\n",
       "\t NVDA & 113131835\\\\\n",
       "\t PLTR &  60056251\\\\\n",
       "\t AAPL &  57736403\\\\\n",
       "\t AMD  &  57143415\\\\\n",
       "\\end{tabular}\n"
      ],
      "text/markdown": [
       "\n",
       "A tibble: 5 × 2\n",
       "\n",
       "| tic &lt;chr&gt; | mean_trading_v &lt;dbl&gt; |\n",
       "|---|---|\n",
       "| TSLA | 115314383 |\n",
       "| NVDA | 113131835 |\n",
       "| PLTR |  60056251 |\n",
       "| AAPL |  57736403 |\n",
       "| AMD  |  57143415 |\n",
       "\n"
      ],
      "text/plain": [
       "  tic  mean_trading_v\n",
       "1 TSLA 115314383     \n",
       "2 NVDA 113131835     \n",
       "3 PLTR  60056251     \n",
       "4 AAPL  57736403     \n",
       "5 AMD   57143415     "
      ]
     },
     "metadata": {},
     "output_type": "display_data"
    }
   ],
   "source": [
    "# 1. How many unique tickers are in your data?\n",
    "unique_tic_n = length(unique(data$tic))\n",
    "paste(\"There are\", unique_tic_n, \"unique tickers.\")\n",
    "\n",
    "# 2. How many unique companies are in your data?\n",
    "unique_conm_n = length(unique(data$conm))\n",
    "paste(\"There are\", unique_conm_n, \"unique company names.\")\n",
    "\n",
    "# 3. Display the top 5 companies by largest mean trading volume, in a table.\n",
    "# calc mean trading vol by tic\n",
    "data_unique = data %>%\n",
    "    group_by(tic) %>%\n",
    "    summarise(mean_trading_v = mean(cshtrd, na.rm = TRUE)) %>%\n",
    "    ungroup() %>%\n",
    "        arrange(desc(mean_trading_v))\n",
    "data_unique[1:5,]"
   ]
  }
 ],
 "metadata": {
  "kernelspec": {
   "display_name": "R",
   "language": "R",
   "name": "ir"
  },
  "language_info": {
   "codemirror_mode": "r",
   "file_extension": ".r",
   "mimetype": "text/x-r-source",
   "name": "R",
   "pygments_lexer": "r",
   "version": "4.3.3"
  }
 },
 "nbformat": 4,
 "nbformat_minor": 5
}
