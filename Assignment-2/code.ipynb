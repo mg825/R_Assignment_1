{
 "cells": [
  {
   "cell_type": "code",
   "execution_count": 6,
   "id": "09757b85",
   "metadata": {
    "vscode": {
     "languageId": "r"
    }
   },
   "outputs": [],
   "source": [
    "#| warning: false\n",
    "library(dplyr)\n",
    "library(data.table)\n",
    "library(lubridate)\n",
    "library(ggplot2)"
   ]
  },
  {
   "cell_type": "code",
   "execution_count": 3,
   "id": "fa6a2608",
   "metadata": {
    "vscode": {
     "languageId": "r"
    }
   },
   "outputs": [
    {
     "data": {
      "text/html": [
       "<table class=\"dataframe\">\n",
       "<caption>A data.table: 6 × 11</caption>\n",
       "<thead>\n",
       "\t<tr><th scope=col>tic</th><th scope=col>datadate</th><th scope=col>conm</th><th scope=col>exchg</th><th scope=col>sic</th><th scope=col>cshtrd</th><th scope=col>prccd</th><th scope=col>prchd</th><th scope=col>prcld</th><th scope=col>prcod</th><th scope=col>gvkey</th></tr>\n",
       "\t<tr><th scope=col>&lt;chr&gt;</th><th scope=col>&lt;date&gt;</th><th scope=col>&lt;chr&gt;</th><th scope=col>&lt;int&gt;</th><th scope=col>&lt;int&gt;</th><th scope=col>&lt;dbl&gt;</th><th scope=col>&lt;dbl&gt;</th><th scope=col>&lt;dbl&gt;</th><th scope=col>&lt;dbl&gt;</th><th scope=col>&lt;dbl&gt;</th><th scope=col>&lt;int&gt;</th></tr>\n",
       "</thead>\n",
       "<tbody>\n",
       "\t<tr><td>PNW</td><td>2023-01-03</td><td>PINNACLE WEST CAPITAL CORP</td><td>11</td><td>4911</td><td>1442534</td><td>74.63</td><td>76.4125</td><td>73.380</td><td>76.25</td><td>1075</td></tr>\n",
       "\t<tr><td>PNW</td><td>2023-01-04</td><td>PINNACLE WEST CAPITAL CORP</td><td>11</td><td>4911</td><td> 954218</td><td>75.39</td><td>76.0950</td><td>74.630</td><td>75.10</td><td>1075</td></tr>\n",
       "\t<tr><td>PNW</td><td>2023-01-05</td><td>PINNACLE WEST CAPITAL CORP</td><td>11</td><td>4911</td><td> 994775</td><td>73.65</td><td>75.0950</td><td>73.305</td><td>74.88</td><td>1075</td></tr>\n",
       "\t<tr><td>PNW</td><td>2023-01-06</td><td>PINNACLE WEST CAPITAL CORP</td><td>11</td><td>4911</td><td> 729808</td><td>75.46</td><td>76.0200</td><td>74.480</td><td>74.49</td><td>1075</td></tr>\n",
       "\t<tr><td>PNW</td><td>2023-01-09</td><td>PINNACLE WEST CAPITAL CORP</td><td>11</td><td>4911</td><td> 656127</td><td>75.55</td><td>76.4800</td><td>75.240</td><td>75.24</td><td>1075</td></tr>\n",
       "\t<tr><td>PNW</td><td>2023-01-10</td><td>PINNACLE WEST CAPITAL CORP</td><td>11</td><td>4911</td><td> 763254</td><td>75.65</td><td>75.6950</td><td>74.880</td><td>75.31</td><td>1075</td></tr>\n",
       "</tbody>\n",
       "</table>\n"
      ],
      "text/latex": [
       "A data.table: 6 × 11\n",
       "\\begin{tabular}{lllllllllll}\n",
       " tic & datadate & conm & exchg & sic & cshtrd & prccd & prchd & prcld & prcod & gvkey\\\\\n",
       " <chr> & <date> & <chr> & <int> & <int> & <dbl> & <dbl> & <dbl> & <dbl> & <dbl> & <int>\\\\\n",
       "\\hline\n",
       "\t PNW & 2023-01-03 & PINNACLE WEST CAPITAL CORP & 11 & 4911 & 1442534 & 74.63 & 76.4125 & 73.380 & 76.25 & 1075\\\\\n",
       "\t PNW & 2023-01-04 & PINNACLE WEST CAPITAL CORP & 11 & 4911 &  954218 & 75.39 & 76.0950 & 74.630 & 75.10 & 1075\\\\\n",
       "\t PNW & 2023-01-05 & PINNACLE WEST CAPITAL CORP & 11 & 4911 &  994775 & 73.65 & 75.0950 & 73.305 & 74.88 & 1075\\\\\n",
       "\t PNW & 2023-01-06 & PINNACLE WEST CAPITAL CORP & 11 & 4911 &  729808 & 75.46 & 76.0200 & 74.480 & 74.49 & 1075\\\\\n",
       "\t PNW & 2023-01-09 & PINNACLE WEST CAPITAL CORP & 11 & 4911 &  656127 & 75.55 & 76.4800 & 75.240 & 75.24 & 1075\\\\\n",
       "\t PNW & 2023-01-10 & PINNACLE WEST CAPITAL CORP & 11 & 4911 &  763254 & 75.65 & 75.6950 & 74.880 & 75.31 & 1075\\\\\n",
       "\\end{tabular}\n"
      ],
      "text/markdown": [
       "\n",
       "A data.table: 6 × 11\n",
       "\n",
       "| tic &lt;chr&gt; | datadate &lt;date&gt; | conm &lt;chr&gt; | exchg &lt;int&gt; | sic &lt;int&gt; | cshtrd &lt;dbl&gt; | prccd &lt;dbl&gt; | prchd &lt;dbl&gt; | prcld &lt;dbl&gt; | prcod &lt;dbl&gt; | gvkey &lt;int&gt; |\n",
       "|---|---|---|---|---|---|---|---|---|---|---|\n",
       "| PNW | 2023-01-03 | PINNACLE WEST CAPITAL CORP | 11 | 4911 | 1442534 | 74.63 | 76.4125 | 73.380 | 76.25 | 1075 |\n",
       "| PNW | 2023-01-04 | PINNACLE WEST CAPITAL CORP | 11 | 4911 |  954218 | 75.39 | 76.0950 | 74.630 | 75.10 | 1075 |\n",
       "| PNW | 2023-01-05 | PINNACLE WEST CAPITAL CORP | 11 | 4911 |  994775 | 73.65 | 75.0950 | 73.305 | 74.88 | 1075 |\n",
       "| PNW | 2023-01-06 | PINNACLE WEST CAPITAL CORP | 11 | 4911 |  729808 | 75.46 | 76.0200 | 74.480 | 74.49 | 1075 |\n",
       "| PNW | 2023-01-09 | PINNACLE WEST CAPITAL CORP | 11 | 4911 |  656127 | 75.55 | 76.4800 | 75.240 | 75.24 | 1075 |\n",
       "| PNW | 2023-01-10 | PINNACLE WEST CAPITAL CORP | 11 | 4911 |  763254 | 75.65 | 75.6950 | 74.880 | 75.31 | 1075 |\n",
       "\n"
      ],
      "text/plain": [
       "  tic datadate   conm                       exchg sic  cshtrd  prccd prchd  \n",
       "1 PNW 2023-01-03 PINNACLE WEST CAPITAL CORP 11    4911 1442534 74.63 76.4125\n",
       "2 PNW 2023-01-04 PINNACLE WEST CAPITAL CORP 11    4911  954218 75.39 76.0950\n",
       "3 PNW 2023-01-05 PINNACLE WEST CAPITAL CORP 11    4911  994775 73.65 75.0950\n",
       "4 PNW 2023-01-06 PINNACLE WEST CAPITAL CORP 11    4911  729808 75.46 76.0200\n",
       "5 PNW 2023-01-09 PINNACLE WEST CAPITAL CORP 11    4911  656127 75.55 76.4800\n",
       "6 PNW 2023-01-10 PINNACLE WEST CAPITAL CORP 11    4911  763254 75.65 75.6950\n",
       "  prcld  prcod gvkey\n",
       "1 73.380 76.25 1075 \n",
       "2 74.630 75.10 1075 \n",
       "3 73.305 74.88 1075 \n",
       "4 74.480 74.49 1075 \n",
       "5 75.240 75.24 1075 \n",
       "6 74.880 75.31 1075 "
      ]
     },
     "metadata": {},
     "output_type": "display_data"
    }
   ],
   "source": [
    "data = fread(\"compressed_data.csv.gz\") %>% \n",
    "    filter(!is.na(prcod)) %>% \n",
    "        mutate(datadate = as.Date(datadate, \"%d/%m/%Y\"))\n",
    "head(data)\n",
    "\n"
   ]
  },
  {
   "cell_type": "markdown",
   "id": "c115e766",
   "metadata": {},
   "source": [
    "## A1 Analysis"
   ]
  },
  {
   "cell_type": "code",
   "execution_count": 4,
   "id": "a9f54da1",
   "metadata": {
    "vscode": {
     "languageId": "r"
    }
   },
   "outputs": [
    {
     "data": {
      "text/html": [
       "'There are 502 unique tickers.'"
      ],
      "text/latex": [
       "'There are 502 unique tickers.'"
      ],
      "text/markdown": [
       "'There are 502 unique tickers.'"
      ],
      "text/plain": [
       "[1] \"There are 502 unique tickers.\""
      ]
     },
     "metadata": {},
     "output_type": "display_data"
    },
    {
     "data": {
      "text/html": [
       "'There are 499 unique company names.'"
      ],
      "text/latex": [
       "'There are 499 unique company names.'"
      ],
      "text/markdown": [
       "'There are 499 unique company names.'"
      ],
      "text/plain": [
       "[1] \"There are 499 unique company names.\""
      ]
     },
     "metadata": {},
     "output_type": "display_data"
    },
    {
     "data": {
      "text/html": [
       "<table class=\"dataframe\">\n",
       "<caption>A tibble: 5 × 2</caption>\n",
       "<thead>\n",
       "\t<tr><th scope=col>tic</th><th scope=col>mean_trading_v</th></tr>\n",
       "\t<tr><th scope=col>&lt;chr&gt;</th><th scope=col>&lt;dbl&gt;</th></tr>\n",
       "</thead>\n",
       "<tbody>\n",
       "\t<tr><td>TSLA</td><td>115314383</td></tr>\n",
       "\t<tr><td>NVDA</td><td>113131835</td></tr>\n",
       "\t<tr><td>PLTR</td><td> 60056251</td></tr>\n",
       "\t<tr><td>AAPL</td><td> 57736403</td></tr>\n",
       "\t<tr><td>AMD </td><td> 57143415</td></tr>\n",
       "</tbody>\n",
       "</table>\n"
      ],
      "text/latex": [
       "A tibble: 5 × 2\n",
       "\\begin{tabular}{ll}\n",
       " tic & mean\\_trading\\_v\\\\\n",
       " <chr> & <dbl>\\\\\n",
       "\\hline\n",
       "\t TSLA & 115314383\\\\\n",
       "\t NVDA & 113131835\\\\\n",
       "\t PLTR &  60056251\\\\\n",
       "\t AAPL &  57736403\\\\\n",
       "\t AMD  &  57143415\\\\\n",
       "\\end{tabular}\n"
      ],
      "text/markdown": [
       "\n",
       "A tibble: 5 × 2\n",
       "\n",
       "| tic &lt;chr&gt; | mean_trading_v &lt;dbl&gt; |\n",
       "|---|---|\n",
       "| TSLA | 115314383 |\n",
       "| NVDA | 113131835 |\n",
       "| PLTR |  60056251 |\n",
       "| AAPL |  57736403 |\n",
       "| AMD  |  57143415 |\n",
       "\n"
      ],
      "text/plain": [
       "  tic  mean_trading_v\n",
       "1 TSLA 115314383     \n",
       "2 NVDA 113131835     \n",
       "3 PLTR  60056251     \n",
       "4 AAPL  57736403     \n",
       "5 AMD   57143415     "
      ]
     },
     "metadata": {},
     "output_type": "display_data"
    },
    {
     "data": {
      "text/html": [
       "<table class=\"dataframe\">\n",
       "<caption>A tibble: 3 × 2</caption>\n",
       "<thead>\n",
       "\t<tr><th scope=col>exchg</th><th scope=col>total_trading_v</th></tr>\n",
       "\t<tr><th scope=col>&lt;int&gt;</th><th scope=col>&lt;dbl&gt;</th></tr>\n",
       "</thead>\n",
       "<tbody>\n",
       "\t<tr><td>11</td><td>681415756062</td></tr>\n",
       "\t<tr><td>14</td><td>570830885382</td></tr>\n",
       "\t<tr><td>21</td><td>   385399362</td></tr>\n",
       "</tbody>\n",
       "</table>\n"
      ],
      "text/latex": [
       "A tibble: 3 × 2\n",
       "\\begin{tabular}{ll}\n",
       " exchg & total\\_trading\\_v\\\\\n",
       " <int> & <dbl>\\\\\n",
       "\\hline\n",
       "\t 11 & 681415756062\\\\\n",
       "\t 14 & 570830885382\\\\\n",
       "\t 21 &    385399362\\\\\n",
       "\\end{tabular}\n"
      ],
      "text/markdown": [
       "\n",
       "A tibble: 3 × 2\n",
       "\n",
       "| exchg &lt;int&gt; | total_trading_v &lt;dbl&gt; |\n",
       "|---|---|\n",
       "| 11 | 681415756062 |\n",
       "| 14 | 570830885382 |\n",
       "| 21 |    385399362 |\n",
       "\n"
      ],
      "text/plain": [
       "  exchg total_trading_v\n",
       "1 11    681415756062   \n",
       "2 14    570830885382   \n",
       "3 21       385399362   "
      ]
     },
     "metadata": {},
     "output_type": "display_data"
    },
    {
     "data": {
      "text/html": [
       "<table class=\"dataframe\">\n",
       "<caption>A tibble: 4 × 2</caption>\n",
       "<thead>\n",
       "\t<tr><th scope=col>conm</th><th scope=col>tickers</th></tr>\n",
       "\t<tr><th scope=col>&lt;chr&gt;</th><th scope=col>&lt;int&gt;</th></tr>\n",
       "</thead>\n",
       "<tbody>\n",
       "\t<tr><td>ALPHABET INC</td><td> 2</td></tr>\n",
       "\t<tr><td>FOX CORP    </td><td> 2</td></tr>\n",
       "\t<tr><td>NEWS CORP   </td><td> 2</td></tr>\n",
       "\t<tr><td>NA          </td><td>NA</td></tr>\n",
       "</tbody>\n",
       "</table>\n"
      ],
      "text/latex": [
       "A tibble: 4 × 2\n",
       "\\begin{tabular}{ll}\n",
       " conm & tickers\\\\\n",
       " <chr> & <int>\\\\\n",
       "\\hline\n",
       "\t ALPHABET INC &  2\\\\\n",
       "\t FOX CORP     &  2\\\\\n",
       "\t NEWS CORP    &  2\\\\\n",
       "\t NA           & NA\\\\\n",
       "\\end{tabular}\n"
      ],
      "text/markdown": [
       "\n",
       "A tibble: 4 × 2\n",
       "\n",
       "| conm &lt;chr&gt; | tickers &lt;int&gt; |\n",
       "|---|---|\n",
       "| ALPHABET INC |  2 |\n",
       "| FOX CORP     |  2 |\n",
       "| NEWS CORP    |  2 |\n",
       "| NA           | NA |\n",
       "\n"
      ],
      "text/plain": [
       "  conm         tickers\n",
       "1 ALPHABET INC  2     \n",
       "2 FOX CORP      2     \n",
       "3 NEWS CORP     2     \n",
       "4 NA           NA     "
      ]
     },
     "metadata": {},
     "output_type": "display_data"
    },
    {
     "data": {
      "text/html": [
       "<table class=\"dataframe\">\n",
       "<caption>A tibble: 6 × 12</caption>\n",
       "<thead>\n",
       "\t<tr><th scope=col>tic</th><th scope=col>datadate</th><th scope=col>conm</th><th scope=col>exchg</th><th scope=col>sic</th><th scope=col>cshtrd</th><th scope=col>prccd</th><th scope=col>prchd</th><th scope=col>prcld</th><th scope=col>prcod</th><th scope=col>gvkey</th><th scope=col>return</th></tr>\n",
       "\t<tr><th scope=col>&lt;chr&gt;</th><th scope=col>&lt;date&gt;</th><th scope=col>&lt;chr&gt;</th><th scope=col>&lt;int&gt;</th><th scope=col>&lt;int&gt;</th><th scope=col>&lt;dbl&gt;</th><th scope=col>&lt;dbl&gt;</th><th scope=col>&lt;dbl&gt;</th><th scope=col>&lt;dbl&gt;</th><th scope=col>&lt;dbl&gt;</th><th scope=col>&lt;int&gt;</th><th scope=col>&lt;dbl&gt;</th></tr>\n",
       "</thead>\n",
       "<tbody>\n",
       "\t<tr><td>PNW</td><td>2023-01-03</td><td>PINNACLE WEST CAPITAL CORP</td><td>11</td><td>4911</td><td>1442534</td><td>74.63</td><td>76.4125</td><td>73.380</td><td>76.25</td><td>1075</td><td>          NA</td></tr>\n",
       "\t<tr><td>PNW</td><td>2023-01-04</td><td>PINNACLE WEST CAPITAL CORP</td><td>11</td><td>4911</td><td> 954218</td><td>75.39</td><td>76.0950</td><td>74.630</td><td>75.10</td><td>1075</td><td> 0.010183572</td></tr>\n",
       "\t<tr><td>PNW</td><td>2023-01-05</td><td>PINNACLE WEST CAPITAL CORP</td><td>11</td><td>4911</td><td> 994775</td><td>73.65</td><td>75.0950</td><td>73.305</td><td>74.88</td><td>1075</td><td>-0.023079984</td></tr>\n",
       "\t<tr><td>PNW</td><td>2023-01-06</td><td>PINNACLE WEST CAPITAL CORP</td><td>11</td><td>4911</td><td> 729808</td><td>75.46</td><td>76.0200</td><td>74.480</td><td>74.49</td><td>1075</td><td> 0.024575696</td></tr>\n",
       "\t<tr><td>PNW</td><td>2023-01-09</td><td>PINNACLE WEST CAPITAL CORP</td><td>11</td><td>4911</td><td> 656127</td><td>75.55</td><td>76.4800</td><td>75.240</td><td>75.24</td><td>1075</td><td> 0.001192685</td></tr>\n",
       "\t<tr><td>PNW</td><td>2023-01-10</td><td>PINNACLE WEST CAPITAL CORP</td><td>11</td><td>4911</td><td> 763254</td><td>75.65</td><td>75.6950</td><td>74.880</td><td>75.31</td><td>1075</td><td> 0.001323627</td></tr>\n",
       "</tbody>\n",
       "</table>\n"
      ],
      "text/latex": [
       "A tibble: 6 × 12\n",
       "\\begin{tabular}{llllllllllll}\n",
       " tic & datadate & conm & exchg & sic & cshtrd & prccd & prchd & prcld & prcod & gvkey & return\\\\\n",
       " <chr> & <date> & <chr> & <int> & <int> & <dbl> & <dbl> & <dbl> & <dbl> & <dbl> & <int> & <dbl>\\\\\n",
       "\\hline\n",
       "\t PNW & 2023-01-03 & PINNACLE WEST CAPITAL CORP & 11 & 4911 & 1442534 & 74.63 & 76.4125 & 73.380 & 76.25 & 1075 &           NA\\\\\n",
       "\t PNW & 2023-01-04 & PINNACLE WEST CAPITAL CORP & 11 & 4911 &  954218 & 75.39 & 76.0950 & 74.630 & 75.10 & 1075 &  0.010183572\\\\\n",
       "\t PNW & 2023-01-05 & PINNACLE WEST CAPITAL CORP & 11 & 4911 &  994775 & 73.65 & 75.0950 & 73.305 & 74.88 & 1075 & -0.023079984\\\\\n",
       "\t PNW & 2023-01-06 & PINNACLE WEST CAPITAL CORP & 11 & 4911 &  729808 & 75.46 & 76.0200 & 74.480 & 74.49 & 1075 &  0.024575696\\\\\n",
       "\t PNW & 2023-01-09 & PINNACLE WEST CAPITAL CORP & 11 & 4911 &  656127 & 75.55 & 76.4800 & 75.240 & 75.24 & 1075 &  0.001192685\\\\\n",
       "\t PNW & 2023-01-10 & PINNACLE WEST CAPITAL CORP & 11 & 4911 &  763254 & 75.65 & 75.6950 & 74.880 & 75.31 & 1075 &  0.001323627\\\\\n",
       "\\end{tabular}\n"
      ],
      "text/markdown": [
       "\n",
       "A tibble: 6 × 12\n",
       "\n",
       "| tic &lt;chr&gt; | datadate &lt;date&gt; | conm &lt;chr&gt; | exchg &lt;int&gt; | sic &lt;int&gt; | cshtrd &lt;dbl&gt; | prccd &lt;dbl&gt; | prchd &lt;dbl&gt; | prcld &lt;dbl&gt; | prcod &lt;dbl&gt; | gvkey &lt;int&gt; | return &lt;dbl&gt; |\n",
       "|---|---|---|---|---|---|---|---|---|---|---|---|\n",
       "| PNW | 2023-01-03 | PINNACLE WEST CAPITAL CORP | 11 | 4911 | 1442534 | 74.63 | 76.4125 | 73.380 | 76.25 | 1075 |           NA |\n",
       "| PNW | 2023-01-04 | PINNACLE WEST CAPITAL CORP | 11 | 4911 |  954218 | 75.39 | 76.0950 | 74.630 | 75.10 | 1075 |  0.010183572 |\n",
       "| PNW | 2023-01-05 | PINNACLE WEST CAPITAL CORP | 11 | 4911 |  994775 | 73.65 | 75.0950 | 73.305 | 74.88 | 1075 | -0.023079984 |\n",
       "| PNW | 2023-01-06 | PINNACLE WEST CAPITAL CORP | 11 | 4911 |  729808 | 75.46 | 76.0200 | 74.480 | 74.49 | 1075 |  0.024575696 |\n",
       "| PNW | 2023-01-09 | PINNACLE WEST CAPITAL CORP | 11 | 4911 |  656127 | 75.55 | 76.4800 | 75.240 | 75.24 | 1075 |  0.001192685 |\n",
       "| PNW | 2023-01-10 | PINNACLE WEST CAPITAL CORP | 11 | 4911 |  763254 | 75.65 | 75.6950 | 74.880 | 75.31 | 1075 |  0.001323627 |\n",
       "\n"
      ],
      "text/plain": [
       "  tic datadate   conm                       exchg sic  cshtrd  prccd prchd  \n",
       "1 PNW 2023-01-03 PINNACLE WEST CAPITAL CORP 11    4911 1442534 74.63 76.4125\n",
       "2 PNW 2023-01-04 PINNACLE WEST CAPITAL CORP 11    4911  954218 75.39 76.0950\n",
       "3 PNW 2023-01-05 PINNACLE WEST CAPITAL CORP 11    4911  994775 73.65 75.0950\n",
       "4 PNW 2023-01-06 PINNACLE WEST CAPITAL CORP 11    4911  729808 75.46 76.0200\n",
       "5 PNW 2023-01-09 PINNACLE WEST CAPITAL CORP 11    4911  656127 75.55 76.4800\n",
       "6 PNW 2023-01-10 PINNACLE WEST CAPITAL CORP 11    4911  763254 75.65 75.6950\n",
       "  prcld  prcod gvkey return      \n",
       "1 73.380 76.25 1075            NA\n",
       "2 74.630 75.10 1075   0.010183572\n",
       "3 73.305 74.88 1075  -0.023079984\n",
       "4 74.480 74.49 1075   0.024575696\n",
       "5 75.240 75.24 1075   0.001192685\n",
       "6 74.880 75.31 1075   0.001323627"
      ]
     },
     "metadata": {},
     "output_type": "display_data"
    },
    {
     "data": {
      "text/html": [
       "<table class=\"dataframe\">\n",
       "<caption>A tibble: 6 × 2</caption>\n",
       "<thead>\n",
       "\t<tr><th scope=col>tic</th><th scope=col>mean_return</th></tr>\n",
       "\t<tr><th scope=col>&lt;chr&gt;</th><th scope=col>&lt;dbl&gt;</th></tr>\n",
       "</thead>\n",
       "<tbody>\n",
       "\t<tr><td>PLTR</td><td>0.005785119</td></tr>\n",
       "\t<tr><td>COIN</td><td>0.005497913</td></tr>\n",
       "\t<tr><td>GEV </td><td>0.005246567</td></tr>\n",
       "\t<tr><td>VST </td><td>0.004044824</td></tr>\n",
       "\t<tr><td>META</td><td>0.003367155</td></tr>\n",
       "\t<tr><td>RCL </td><td>0.003353639</td></tr>\n",
       "</tbody>\n",
       "</table>\n"
      ],
      "text/latex": [
       "A tibble: 6 × 2\n",
       "\\begin{tabular}{ll}\n",
       " tic & mean\\_return\\\\\n",
       " <chr> & <dbl>\\\\\n",
       "\\hline\n",
       "\t PLTR & 0.005785119\\\\\n",
       "\t COIN & 0.005497913\\\\\n",
       "\t GEV  & 0.005246567\\\\\n",
       "\t VST  & 0.004044824\\\\\n",
       "\t META & 0.003367155\\\\\n",
       "\t RCL  & 0.003353639\\\\\n",
       "\\end{tabular}\n"
      ],
      "text/markdown": [
       "\n",
       "A tibble: 6 × 2\n",
       "\n",
       "| tic &lt;chr&gt; | mean_return &lt;dbl&gt; |\n",
       "|---|---|\n",
       "| PLTR | 0.005785119 |\n",
       "| COIN | 0.005497913 |\n",
       "| GEV  | 0.005246567 |\n",
       "| VST  | 0.004044824 |\n",
       "| META | 0.003367155 |\n",
       "| RCL  | 0.003353639 |\n",
       "\n"
      ],
      "text/plain": [
       "  tic  mean_return\n",
       "1 PLTR 0.005785119\n",
       "2 COIN 0.005497913\n",
       "3 GEV  0.005246567\n",
       "4 VST  0.004044824\n",
       "5 META 0.003367155\n",
       "6 RCL  0.003353639"
      ]
     },
     "metadata": {},
     "output_type": "display_data"
    },
    {
     "data": {
      "text/html": [
       "'The PLTR ticker had the higest mean daily return.'"
      ],
      "text/latex": [
       "'The PLTR ticker had the higest mean daily return.'"
      ],
      "text/markdown": [
       "'The PLTR ticker had the higest mean daily return.'"
      ],
      "text/plain": [
       "[1] \"The PLTR ticker had the higest mean daily return.\""
      ]
     },
     "metadata": {},
     "output_type": "display_data"
    },
    {
     "data": {
      "text/html": [
       "'The return was 0.58 %.'"
      ],
      "text/latex": [
       "'The return was 0.58 \\%.'"
      ],
      "text/markdown": [
       "'The return was 0.58 %.'"
      ],
      "text/plain": [
       "[1] \"The return was 0.58 %.\""
      ]
     },
     "metadata": {},
     "output_type": "display_data"
    },
    {
     "data": {
      "text/html": [
       "'The PLTR company had the higest mean daily return.'"
      ],
      "text/latex": [
       "'The PLTR company had the higest mean daily return.'"
      ],
      "text/markdown": [
       "'The PLTR company had the higest mean daily return.'"
      ],
      "text/plain": [
       "[1] \"The PLTR company had the higest mean daily return.\""
      ]
     },
     "metadata": {},
     "output_type": "display_data"
    },
    {
     "data": {
      "text/html": [
       "'The 6798 SIC industry has the most companies.'"
      ],
      "text/latex": [
       "'The 6798 SIC industry has the most companies.'"
      ],
      "text/markdown": [
       "'The 6798 SIC industry has the most companies.'"
      ],
      "text/plain": [
       "[1] \"The 6798 SIC industry has the most companies.\""
      ]
     },
     "metadata": {},
     "output_type": "display_data"
    },
    {
     "data": {
      "text/html": [
       "'There are 28 companies in that industry.'"
      ],
      "text/latex": [
       "'There are 28 companies in that industry.'"
      ],
      "text/markdown": [
       "'There are 28 companies in that industry.'"
      ],
      "text/plain": [
       "[1] \"There are 28 companies in that industry.\""
      ]
     },
     "metadata": {},
     "output_type": "display_data"
    },
    {
     "data": {
      "image/png": "[encoded data removed]",
      "text/plain": [
       "plot without title"
      ]
     },
     "metadata": {
      "image/png": {
       "height": 420,
       "width": 420
      }
     },
     "output_type": "display_data"
    }
   ],
   "source": [
    "# 1. How many unique tickers are in your data?\n",
    "unique_tic_n = length(unique(data$tic))\n",
    "paste(\"There are\", unique_tic_n, \"unique tickers.\")\n",
    "\n",
    "# 2. How many unique companies are in your data?\n",
    "unique_conm_n = length(unique(data$conm))\n",
    "paste(\"There are\", unique_conm_n, \"unique company names.\")\n",
    "\n",
    "# 3. Display the top 5 companies by largest mean trading volume, in a table.\n",
    "data_3 = data %>%\n",
    "    group_by(tic) %>%\n",
    "    summarise(mean_trading_v = mean(cshtrd, na.rm = TRUE)) %>%\n",
    "    ungroup() %>%\n",
    "        arrange(desc(mean_trading_v))\n",
    "data_3[1:5,]\n",
    "\n",
    "# 4. Display the total trading volume of the top 3 exchanges by largest total trading volume, in a table.\n",
    "data_4 = data %>%\n",
    "    group_by(exchg) %>%\n",
    "    summarise(total_trading_v = sum(cshtrd, na.rm = TRUE)) %>%\n",
    "    ungroup() %>%\n",
    "        arrange(desc(total_trading_v))\n",
    "data_4[1:3,]\n",
    "\n",
    "# 5. Visualise the total trading volume of the top 3 exchanges by largest total trading volume, in a bar plot.\n",
    "ggplot(data_4, aes(x = as.character(exchg), y = total_trading_v/1000000)) +\n",
    "  geom_bar(stat = \"identity\", color = \"darkblue\", fill = \"darkblue\") +\n",
    "  geom_text(aes(label = round(total_trading_v/1000000)),\n",
    "            vjust = -0.3,              # position above the bar\n",
    "            size = 5) +               # text size\n",
    "  labs(title = \"total trading volume of the top 3 exchanges\",\n",
    "  x= \"exchange\", y=\"total trading volume in millions\") +\n",
    "  theme(plot.title = element_text(hjust = 0.5))\n",
    "\n",
    "# 6. How many companies have more than one ticker?\n",
    "data_6 = data %>%\n",
    "    group_by(conm) %>%\n",
    "    summarise(tickers = n_distinct(tic)) %>%\n",
    "    ungroup() %>% \n",
    "    filter(!tickers == 1)\n",
    "data_6[1:4,]\n",
    "\n",
    "# 7. Which ticker has the largest positive mean return (simple daily return)?\n",
    "data = data %>% \n",
    "    group_by(tic) %>% \n",
    "    mutate(return = prccd/lag(prccd)-1) %>% \n",
    "    ungroup()\n",
    "head(data)\n",
    "\n",
    "data_7 = data %>% \n",
    "    group_by(tic) %>% \n",
    "    summarise(mean_return = mean(return, na.rm = TRUE)) %>% \n",
    "    ungroup() %>% \n",
    "        arrange(desc(mean_return))\n",
    "head(data_7)\n",
    "\n",
    "highest_mean_return = max(data_7$mean_return)\n",
    "\n",
    "highest_mean_return_ticker = data_7$tic[\n",
    "    which.max(data_7$mean_return)\n",
    "]\n",
    "paste(\"The\", highest_mean_return_ticker, \"ticker had the higest mean daily return.\")\n",
    "paste(\"The return was\", round(highest_mean_return, 4)*100,\"%.\")\n",
    "\n",
    "# 8. Which company has the largest positive mean return (simple daily return)?\n",
    "paste(\"The\", highest_mean_return_ticker, \"company had the higest mean daily return.\")\n",
    "\n",
    "# 9. Which industry is represented by the most companies?\n",
    "data_9 = data %>%\n",
    "    group_by(sic) %>%\n",
    "    summarise(no_companies = n_distinct(conm)) %>%\n",
    "    ungroup() %>% \n",
    "    arrange(desc(no_companies))\n",
    "most_represented_industry = data_9$sic[\n",
    "    which.max(data_9$no_companies)\n",
    "]\n",
    "no_companies_in_most_represented_industry = max(data_9$no_companies)\n",
    "\n",
    "paste(\"The\", most_represented_industry, \"SIC industry has the most companies.\")\n",
    "paste(\"There are\", no_companies_in_most_represented_industry, \"companies in that industry.\")\n"
   ]
  },
  {
   "cell_type": "markdown",
   "id": "e3a2615b",
   "metadata": {},
   "source": [
    "## A2 Analysis"
   ]
  },
  {
   "cell_type": "code",
   "execution_count": 147,
   "id": "5521c905",
   "metadata": {
    "vscode": {
     "languageId": "r"
    }
   },
   "outputs": [
    {
     "data": {
      "text/html": [
       "<table class=\"dataframe\">\n",
       "<caption>A tibble: 6 × 12</caption>\n",
       "<thead>\n",
       "\t<tr><th scope=col>tic</th><th scope=col>datadate</th><th scope=col>conm</th><th scope=col>exchg</th><th scope=col>sic</th><th scope=col>cshtrd</th><th scope=col>prccd</th><th scope=col>prchd</th><th scope=col>prcld</th><th scope=col>prcod</th><th scope=col>gvkey</th><th scope=col>return</th></tr>\n",
       "\t<tr><th scope=col>&lt;chr&gt;</th><th scope=col>&lt;date&gt;</th><th scope=col>&lt;chr&gt;</th><th scope=col>&lt;int&gt;</th><th scope=col>&lt;int&gt;</th><th scope=col>&lt;dbl&gt;</th><th scope=col>&lt;dbl&gt;</th><th scope=col>&lt;dbl&gt;</th><th scope=col>&lt;dbl&gt;</th><th scope=col>&lt;dbl&gt;</th><th scope=col>&lt;int&gt;</th><th scope=col>&lt;dbl&gt;</th></tr>\n",
       "</thead>\n",
       "<tbody>\n",
       "\t<tr><td>A</td><td>2023-01-03</td><td>AGILENT TECHNOLOGIES INC</td><td>11</td><td>3826</td><td>1414284</td><td>150.04</td><td>153.13</td><td>148.470</td><td>151.96</td><td>126554</td><td>          NA</td></tr>\n",
       "\t<tr><td>A</td><td>2023-01-04</td><td>AGILENT TECHNOLOGIES INC</td><td>11</td><td>3826</td><td>1247420</td><td>151.67</td><td>153.04</td><td>150.240</td><td>151.65</td><td>126554</td><td> 0.010863770</td></tr>\n",
       "\t<tr><td>A</td><td>2023-01-05</td><td>AGILENT TECHNOLOGIES INC</td><td>11</td><td>3826</td><td>1714635</td><td>152.11</td><td>153.07</td><td>148.770</td><td>150.00</td><td>126554</td><td> 0.002901035</td></tr>\n",
       "\t<tr><td>A</td><td>2023-01-06</td><td>AGILENT TECHNOLOGIES INC</td><td>11</td><td>3826</td><td>2444397</td><td>147.67</td><td>154.64</td><td>143.010</td><td>154.36</td><td>126554</td><td>-0.029189402</td></tr>\n",
       "\t<tr><td>A</td><td>2023-01-09</td><td>AGILENT TECHNOLOGIES INC</td><td>11</td><td>3826</td><td>1269488</td><td>147.47</td><td>151.28</td><td>147.198</td><td>149.69</td><td>126554</td><td>-0.001354371</td></tr>\n",
       "\t<tr><td>A</td><td>2023-01-10</td><td>AGILENT TECHNOLOGIES INC</td><td>11</td><td>3826</td><td>1565745</td><td>155.23</td><td>155.55</td><td>148.750</td><td>150.18</td><td>126554</td><td> 0.052620872</td></tr>\n",
       "</tbody>\n",
       "</table>\n"
      ],
      "text/latex": [
       "A tibble: 6 × 12\n",
       "\\begin{tabular}{llllllllllll}\n",
       " tic & datadate & conm & exchg & sic & cshtrd & prccd & prchd & prcld & prcod & gvkey & return\\\\\n",
       " <chr> & <date> & <chr> & <int> & <int> & <dbl> & <dbl> & <dbl> & <dbl> & <dbl> & <int> & <dbl>\\\\\n",
       "\\hline\n",
       "\t A & 2023-01-03 & AGILENT TECHNOLOGIES INC & 11 & 3826 & 1414284 & 150.04 & 153.13 & 148.470 & 151.96 & 126554 &           NA\\\\\n",
       "\t A & 2023-01-04 & AGILENT TECHNOLOGIES INC & 11 & 3826 & 1247420 & 151.67 & 153.04 & 150.240 & 151.65 & 126554 &  0.010863770\\\\\n",
       "\t A & 2023-01-05 & AGILENT TECHNOLOGIES INC & 11 & 3826 & 1714635 & 152.11 & 153.07 & 148.770 & 150.00 & 126554 &  0.002901035\\\\\n",
       "\t A & 2023-01-06 & AGILENT TECHNOLOGIES INC & 11 & 3826 & 2444397 & 147.67 & 154.64 & 143.010 & 154.36 & 126554 & -0.029189402\\\\\n",
       "\t A & 2023-01-09 & AGILENT TECHNOLOGIES INC & 11 & 3826 & 1269488 & 147.47 & 151.28 & 147.198 & 149.69 & 126554 & -0.001354371\\\\\n",
       "\t A & 2023-01-10 & AGILENT TECHNOLOGIES INC & 11 & 3826 & 1565745 & 155.23 & 155.55 & 148.750 & 150.18 & 126554 &  0.052620872\\\\\n",
       "\\end{tabular}\n"
      ],
      "text/markdown": [
       "\n",
       "A tibble: 6 × 12\n",
       "\n",
       "| tic &lt;chr&gt; | datadate &lt;date&gt; | conm &lt;chr&gt; | exchg &lt;int&gt; | sic &lt;int&gt; | cshtrd &lt;dbl&gt; | prccd &lt;dbl&gt; | prchd &lt;dbl&gt; | prcld &lt;dbl&gt; | prcod &lt;dbl&gt; | gvkey &lt;int&gt; | return &lt;dbl&gt; |\n",
       "|---|---|---|---|---|---|---|---|---|---|---|---|\n",
       "| A | 2023-01-03 | AGILENT TECHNOLOGIES INC | 11 | 3826 | 1414284 | 150.04 | 153.13 | 148.470 | 151.96 | 126554 |           NA |\n",
       "| A | 2023-01-04 | AGILENT TECHNOLOGIES INC | 11 | 3826 | 1247420 | 151.67 | 153.04 | 150.240 | 151.65 | 126554 |  0.010863770 |\n",
       "| A | 2023-01-05 | AGILENT TECHNOLOGIES INC | 11 | 3826 | 1714635 | 152.11 | 153.07 | 148.770 | 150.00 | 126554 |  0.002901035 |\n",
       "| A | 2023-01-06 | AGILENT TECHNOLOGIES INC | 11 | 3826 | 2444397 | 147.67 | 154.64 | 143.010 | 154.36 | 126554 | -0.029189402 |\n",
       "| A | 2023-01-09 | AGILENT TECHNOLOGIES INC | 11 | 3826 | 1269488 | 147.47 | 151.28 | 147.198 | 149.69 | 126554 | -0.001354371 |\n",
       "| A | 2023-01-10 | AGILENT TECHNOLOGIES INC | 11 | 3826 | 1565745 | 155.23 | 155.55 | 148.750 | 150.18 | 126554 |  0.052620872 |\n",
       "\n"
      ],
      "text/plain": [
       "  tic datadate   conm                     exchg sic  cshtrd  prccd  prchd \n",
       "1 A   2023-01-03 AGILENT TECHNOLOGIES INC 11    3826 1414284 150.04 153.13\n",
       "2 A   2023-01-04 AGILENT TECHNOLOGIES INC 11    3826 1247420 151.67 153.04\n",
       "3 A   2023-01-05 AGILENT TECHNOLOGIES INC 11    3826 1714635 152.11 153.07\n",
       "4 A   2023-01-06 AGILENT TECHNOLOGIES INC 11    3826 2444397 147.67 154.64\n",
       "5 A   2023-01-09 AGILENT TECHNOLOGIES INC 11    3826 1269488 147.47 151.28\n",
       "6 A   2023-01-10 AGILENT TECHNOLOGIES INC 11    3826 1565745 155.23 155.55\n",
       "  prcld   prcod  gvkey  return      \n",
       "1 148.470 151.96 126554           NA\n",
       "2 150.240 151.65 126554  0.010863770\n",
       "3 148.770 150.00 126554  0.002901035\n",
       "4 143.010 154.36 126554 -0.029189402\n",
       "5 147.198 149.69 126554 -0.001354371\n",
       "6 148.750 150.18 126554  0.052620872"
      ]
     },
     "metadata": {},
     "output_type": "display_data"
    },
    {
     "data": {
      "text/html": [
       "<table class=\"dataframe\">\n",
       "<caption>A tibble: 6 × 6</caption>\n",
       "<thead>\n",
       "\t<tr><th scope=col>tic</th><th scope=col>conm</th><th scope=col>friday</th><th scope=col>datadate</th><th scope=col>prccd</th><th scope=col>simple_weekly_return</th></tr>\n",
       "\t<tr><th scope=col>&lt;chr&gt;</th><th scope=col>&lt;chr&gt;</th><th scope=col>&lt;date&gt;</th><th scope=col>&lt;date&gt;</th><th scope=col>&lt;dbl&gt;</th><th scope=col>&lt;dbl&gt;</th></tr>\n",
       "</thead>\n",
       "<tbody>\n",
       "\t<tr><td>A</td><td>AGILENT TECHNOLOGIES INC</td><td>2023-01-06</td><td>2023-01-06</td><td>147.67</td><td>          NA</td></tr>\n",
       "\t<tr><td>A</td><td>AGILENT TECHNOLOGIES INC</td><td>2023-01-13</td><td>2023-01-13</td><td>156.92</td><td> 0.062639670</td></tr>\n",
       "\t<tr><td>A</td><td>AGILENT TECHNOLOGIES INC</td><td>2023-01-20</td><td>2023-01-20</td><td>155.92</td><td>-0.006372674</td></tr>\n",
       "\t<tr><td>A</td><td>AGILENT TECHNOLOGIES INC</td><td>2023-01-27</td><td>2023-01-27</td><td>155.69</td><td>-0.001475115</td></tr>\n",
       "\t<tr><td>A</td><td>AGILENT TECHNOLOGIES INC</td><td>2023-02-03</td><td>2023-02-03</td><td>154.55</td><td>-0.007322243</td></tr>\n",
       "\t<tr><td>A</td><td>AGILENT TECHNOLOGIES INC</td><td>2023-02-10</td><td>2023-02-10</td><td>152.55</td><td>-0.012940796</td></tr>\n",
       "</tbody>\n",
       "</table>\n"
      ],
      "text/latex": [
       "A tibble: 6 × 6\n",
       "\\begin{tabular}{llllll}\n",
       " tic & conm & friday & datadate & prccd & simple\\_weekly\\_return\\\\\n",
       " <chr> & <chr> & <date> & <date> & <dbl> & <dbl>\\\\\n",
       "\\hline\n",
       "\t A & AGILENT TECHNOLOGIES INC & 2023-01-06 & 2023-01-06 & 147.67 &           NA\\\\\n",
       "\t A & AGILENT TECHNOLOGIES INC & 2023-01-13 & 2023-01-13 & 156.92 &  0.062639670\\\\\n",
       "\t A & AGILENT TECHNOLOGIES INC & 2023-01-20 & 2023-01-20 & 155.92 & -0.006372674\\\\\n",
       "\t A & AGILENT TECHNOLOGIES INC & 2023-01-27 & 2023-01-27 & 155.69 & -0.001475115\\\\\n",
       "\t A & AGILENT TECHNOLOGIES INC & 2023-02-03 & 2023-02-03 & 154.55 & -0.007322243\\\\\n",
       "\t A & AGILENT TECHNOLOGIES INC & 2023-02-10 & 2023-02-10 & 152.55 & -0.012940796\\\\\n",
       "\\end{tabular}\n"
      ],
      "text/markdown": [
       "\n",
       "A tibble: 6 × 6\n",
       "\n",
       "| tic &lt;chr&gt; | conm &lt;chr&gt; | friday &lt;date&gt; | datadate &lt;date&gt; | prccd &lt;dbl&gt; | simple_weekly_return &lt;dbl&gt; |\n",
       "|---|---|---|---|---|---|\n",
       "| A | AGILENT TECHNOLOGIES INC | 2023-01-06 | 2023-01-06 | 147.67 |           NA |\n",
       "| A | AGILENT TECHNOLOGIES INC | 2023-01-13 | 2023-01-13 | 156.92 |  0.062639670 |\n",
       "| A | AGILENT TECHNOLOGIES INC | 2023-01-20 | 2023-01-20 | 155.92 | -0.006372674 |\n",
       "| A | AGILENT TECHNOLOGIES INC | 2023-01-27 | 2023-01-27 | 155.69 | -0.001475115 |\n",
       "| A | AGILENT TECHNOLOGIES INC | 2023-02-03 | 2023-02-03 | 154.55 | -0.007322243 |\n",
       "| A | AGILENT TECHNOLOGIES INC | 2023-02-10 | 2023-02-10 | 152.55 | -0.012940796 |\n",
       "\n"
      ],
      "text/plain": [
       "  tic conm                     friday     datadate   prccd \n",
       "1 A   AGILENT TECHNOLOGIES INC 2023-01-06 2023-01-06 147.67\n",
       "2 A   AGILENT TECHNOLOGIES INC 2023-01-13 2023-01-13 156.92\n",
       "3 A   AGILENT TECHNOLOGIES INC 2023-01-20 2023-01-20 155.92\n",
       "4 A   AGILENT TECHNOLOGIES INC 2023-01-27 2023-01-27 155.69\n",
       "5 A   AGILENT TECHNOLOGIES INC 2023-02-03 2023-02-03 154.55\n",
       "6 A   AGILENT TECHNOLOGIES INC 2023-02-10 2023-02-10 152.55\n",
       "  simple_weekly_return\n",
       "1           NA        \n",
       "2  0.062639670        \n",
       "3 -0.006372674        \n",
       "4 -0.001475115        \n",
       "5 -0.007322243        \n",
       "6 -0.012940796        "
      ]
     },
     "metadata": {},
     "output_type": "display_data"
    },
    {
     "name": "stdout",
     "output_type": "stream",
     "text": [
      " [1] 0.0 0.1 0.2 0.3 0.4 0.5 0.6 0.7 0.8 0.9 1.0\n",
      " [1] \"10%\"  \"20%\"  \"30%\"  \"40%\"  \"50%\"  \"60%\"  \"70%\"  \"80%\"  \"90%\"  \"100%\"\n"
     ]
    },
    {
     "data": {
      "text/html": [
       "<table class=\"dataframe\">\n",
       "<caption>A tibble: 6 × 7</caption>\n",
       "<thead>\n",
       "\t<tr><th scope=col>tic</th><th scope=col>conm</th><th scope=col>friday</th><th scope=col>datadate</th><th scope=col>prccd</th><th scope=col>simple_weekly_return</th><th scope=col>deciles</th></tr>\n",
       "\t<tr><th scope=col>&lt;chr&gt;</th><th scope=col>&lt;chr&gt;</th><th scope=col>&lt;date&gt;</th><th scope=col>&lt;date&gt;</th><th scope=col>&lt;dbl&gt;</th><th scope=col>&lt;dbl&gt;</th><th scope=col>&lt;fct&gt;</th></tr>\n",
       "</thead>\n",
       "<tbody>\n",
       "\t<tr><td>A</td><td>AGILENT TECHNOLOGIES INC</td><td>2023-01-06</td><td>2023-01-06</td><td>147.67</td><td>          NA</td><td>NA  </td></tr>\n",
       "\t<tr><td>A</td><td>AGILENT TECHNOLOGIES INC</td><td>2023-01-13</td><td>2023-01-13</td><td>156.92</td><td> 0.062639670</td><td>100%</td></tr>\n",
       "\t<tr><td>A</td><td>AGILENT TECHNOLOGIES INC</td><td>2023-01-20</td><td>2023-01-20</td><td>155.92</td><td>-0.006372674</td><td>40% </td></tr>\n",
       "\t<tr><td>A</td><td>AGILENT TECHNOLOGIES INC</td><td>2023-01-27</td><td>2023-01-27</td><td>155.69</td><td>-0.001475115</td><td>50% </td></tr>\n",
       "\t<tr><td>A</td><td>AGILENT TECHNOLOGIES INC</td><td>2023-02-03</td><td>2023-02-03</td><td>154.55</td><td>-0.007322243</td><td>40% </td></tr>\n",
       "\t<tr><td>A</td><td>AGILENT TECHNOLOGIES INC</td><td>2023-02-10</td><td>2023-02-10</td><td>152.55</td><td>-0.012940796</td><td>40% </td></tr>\n",
       "</tbody>\n",
       "</table>\n"
      ],
      "text/latex": [
       "A tibble: 6 × 7\n",
       "\\begin{tabular}{lllllll}\n",
       " tic & conm & friday & datadate & prccd & simple\\_weekly\\_return & deciles\\\\\n",
       " <chr> & <chr> & <date> & <date> & <dbl> & <dbl> & <fct>\\\\\n",
       "\\hline\n",
       "\t A & AGILENT TECHNOLOGIES INC & 2023-01-06 & 2023-01-06 & 147.67 &           NA & NA  \\\\\n",
       "\t A & AGILENT TECHNOLOGIES INC & 2023-01-13 & 2023-01-13 & 156.92 &  0.062639670 & 100\\%\\\\\n",
       "\t A & AGILENT TECHNOLOGIES INC & 2023-01-20 & 2023-01-20 & 155.92 & -0.006372674 & 40\\% \\\\\n",
       "\t A & AGILENT TECHNOLOGIES INC & 2023-01-27 & 2023-01-27 & 155.69 & -0.001475115 & 50\\% \\\\\n",
       "\t A & AGILENT TECHNOLOGIES INC & 2023-02-03 & 2023-02-03 & 154.55 & -0.007322243 & 40\\% \\\\\n",
       "\t A & AGILENT TECHNOLOGIES INC & 2023-02-10 & 2023-02-10 & 152.55 & -0.012940796 & 40\\% \\\\\n",
       "\\end{tabular}\n"
      ],
      "text/markdown": [
       "\n",
       "A tibble: 6 × 7\n",
       "\n",
       "| tic &lt;chr&gt; | conm &lt;chr&gt; | friday &lt;date&gt; | datadate &lt;date&gt; | prccd &lt;dbl&gt; | simple_weekly_return &lt;dbl&gt; | deciles &lt;fct&gt; |\n",
       "|---|---|---|---|---|---|---|\n",
       "| A | AGILENT TECHNOLOGIES INC | 2023-01-06 | 2023-01-06 | 147.67 |           NA | NA   |\n",
       "| A | AGILENT TECHNOLOGIES INC | 2023-01-13 | 2023-01-13 | 156.92 |  0.062639670 | 100% |\n",
       "| A | AGILENT TECHNOLOGIES INC | 2023-01-20 | 2023-01-20 | 155.92 | -0.006372674 | 40%  |\n",
       "| A | AGILENT TECHNOLOGIES INC | 2023-01-27 | 2023-01-27 | 155.69 | -0.001475115 | 50%  |\n",
       "| A | AGILENT TECHNOLOGIES INC | 2023-02-03 | 2023-02-03 | 154.55 | -0.007322243 | 40%  |\n",
       "| A | AGILENT TECHNOLOGIES INC | 2023-02-10 | 2023-02-10 | 152.55 | -0.012940796 | 40%  |\n",
       "\n"
      ],
      "text/plain": [
       "  tic conm                     friday     datadate   prccd \n",
       "1 A   AGILENT TECHNOLOGIES INC 2023-01-06 2023-01-06 147.67\n",
       "2 A   AGILENT TECHNOLOGIES INC 2023-01-13 2023-01-13 156.92\n",
       "3 A   AGILENT TECHNOLOGIES INC 2023-01-20 2023-01-20 155.92\n",
       "4 A   AGILENT TECHNOLOGIES INC 2023-01-27 2023-01-27 155.69\n",
       "5 A   AGILENT TECHNOLOGIES INC 2023-02-03 2023-02-03 154.55\n",
       "6 A   AGILENT TECHNOLOGIES INC 2023-02-10 2023-02-10 152.55\n",
       "  simple_weekly_return deciles\n",
       "1           NA         NA     \n",
       "2  0.062639670         100%   \n",
       "3 -0.006372674         40%    \n",
       "4 -0.001475115         50%    \n",
       "5 -0.007322243         40%    \n",
       "6 -0.012940796         40%    "
      ]
     },
     "metadata": {},
     "output_type": "display_data"
    }
   ],
   "source": [
    "# 1. Calculate simple weekly returns for each ticker in the full dataset using the following formula\n",
    "head(data)\n",
    "data_weekly = data %>% \n",
    "    mutate(friday = floor_date(datadate, \"week\")+5) %>% \n",
    "    filter(friday == datadate) %>% \n",
    "        group_by(tic) %>%\n",
    "        mutate(simple_weekly_return = prccd / lag(prccd) - 1) %>%\n",
    "        select(tic, conm, friday, datadate, prccd, simple_weekly_return) %>%\n",
    "        ungroup()\n",
    "head(data_weekly)\n",
    "\n",
    "# 2. Categorise your data into decile groups based on simple weekly returns, labelled 0%, 10%, 20%, ...\n",
    "# Do not remove zero returns from the data\n",
    "c_breaks = seq(0, 1, by = 0.1)\n",
    "print(c_breaks)\n",
    "\n",
    "c_labels <- paste0((1:(length(c_breaks) - 1)) * 10, \"%\")\n",
    "print(c_labels)\n",
    "\n",
    "data_weekly_deciles <- data_weekly %>% \n",
    "    mutate(\n",
    "        deciles = cut(\n",
    "            simple_weekly_return,\n",
    "            breaks = quantile(\n",
    "            simple_weekly_return,\n",
    "            probs = c_breaks,\n",
    "            type = 9,\n",
    "            na.rm = TRUE\n",
    "            ),\n",
    "        labels = c_labels,\n",
    "        include.lowest = TRUE\n",
    "        )\n",
    "    ) %>% \n",
    "  arrange(tic, datadate)\n",
    "head(data_weekly_deciles)\n",
    "\n",
    "\n"
   ]
  },
  {
   "cell_type": "code",
   "execution_count": 161,
   "id": "8e2b9970",
   "metadata": {
    "vscode": {
     "languageId": "r"
    }
   },
   "outputs": [
    {
     "name": "stderr",
     "output_type": "stream",
     "text": [
      "Warning message:\n",
      "“\u001b[1m\u001b[22mThere was 1 warning in `filter()`.\n",
      "\u001b[1m\u001b[22m\u001b[36mℹ\u001b[39m In argument: `simple_weekly_return == max(simple_weekly_return, na.rm =\n",
      "  TRUE)`.\n",
      "\u001b[36mℹ\u001b[39m In group 11: `deciles = \u001b[31mNA\u001b[39m`.\n",
      "Caused by warning in `max()`:\n",
      "\u001b[33m!\u001b[39m no non-missing arguments to max; returning -Inf”\n"
     ]
    },
    {
     "data": {
      "text/html": [
       "<table class=\"dataframe\">\n",
       "<caption>A tibble: 11 × 7</caption>\n",
       "<thead>\n",
       "\t<tr><th scope=col>tic</th><th scope=col>conm</th><th scope=col>datadate</th><th scope=col>friday</th><th scope=col>prccd</th><th scope=col>simple_weekly_return</th><th scope=col>deciles</th></tr>\n",
       "\t<tr><th scope=col>&lt;chr&gt;</th><th scope=col>&lt;chr&gt;</th><th scope=col>&lt;date&gt;</th><th scope=col>&lt;date&gt;</th><th scope=col>&lt;dbl&gt;</th><th scope=col>&lt;dbl&gt;</th><th scope=col>&lt;fct&gt;</th></tr>\n",
       "</thead>\n",
       "<tbody>\n",
       "\t<tr><td>SMCI</td><td>SUPER MICRO COMPUTER INC</td><td>2024-11-22</td><td>2024-11-22</td><td> 33.15</td><td> 0.784176534</td><td>100%</td></tr>\n",
       "\t<tr><td>MSFT</td><td>MICROSOFT CORP          </td><td>2023-06-16</td><td>2023-06-16</td><td>342.33</td><td> 0.047553475</td><td>90% </td></tr>\n",
       "\t<tr><td>CMI </td><td>CUMMINS INC             </td><td>2023-11-17</td><td>2023-11-17</td><td>225.50</td><td> 0.029586339</td><td>80% </td></tr>\n",
       "\t<tr><td>MRNA</td><td>MODERNA INC             </td><td>2024-12-27</td><td>2024-12-27</td><td> 40.13</td><td> 0.018786494</td><td>70% </td></tr>\n",
       "\t<tr><td>CSCO</td><td>CISCO SYSTEMS INC       </td><td>2023-08-04</td><td>2023-08-04</td><td> 52.63</td><td> 0.010366673</td><td>60% </td></tr>\n",
       "\t<tr><td>GE  </td><td>GE AEROSPACE            </td><td>2023-10-27</td><td>2023-10-27</td><td>106.35</td><td> 0.002545249</td><td>50% </td></tr>\n",
       "\t<tr><td>CCI </td><td>CROWN CASTLE INC        </td><td>2023-08-25</td><td>2023-08-25</td><td> 99.70</td><td>-0.005287838</td><td>40% </td></tr>\n",
       "\t<tr><td>GLW </td><td>CORNING INC             </td><td>2023-04-14</td><td>2023-04-14</td><td> 34.78</td><td>-0.014172336</td><td>30% </td></tr>\n",
       "\t<tr><td>CSX </td><td>CSX CORP                </td><td>2024-05-17</td><td>2024-05-17</td><td> 33.52</td><td>-0.025014543</td><td>20% </td></tr>\n",
       "\t<tr><td>PH  </td><td>PARKER-HANNIFIN CORP    </td><td>2023-09-15</td><td>2023-09-15</td><td>392.12</td><td>-0.041739980</td><td>10% </td></tr>\n",
       "\t<tr><td>NA  </td><td>NA                      </td><td>NA</td><td>NA</td><td>    NA</td><td>          NA</td><td>NA  </td></tr>\n",
       "</tbody>\n",
       "</table>\n"
      ],
      "text/latex": [
       "A tibble: 11 × 7\n",
       "\\begin{tabular}{lllllll}\n",
       " tic & conm & datadate & friday & prccd & simple\\_weekly\\_return & deciles\\\\\n",
       " <chr> & <chr> & <date> & <date> & <dbl> & <dbl> & <fct>\\\\\n",
       "\\hline\n",
       "\t SMCI & SUPER MICRO COMPUTER INC & 2024-11-22 & 2024-11-22 &  33.15 &  0.784176534 & 100\\%\\\\\n",
       "\t MSFT & MICROSOFT CORP           & 2023-06-16 & 2023-06-16 & 342.33 &  0.047553475 & 90\\% \\\\\n",
       "\t CMI  & CUMMINS INC              & 2023-11-17 & 2023-11-17 & 225.50 &  0.029586339 & 80\\% \\\\\n",
       "\t MRNA & MODERNA INC              & 2024-12-27 & 2024-12-27 &  40.13 &  0.018786494 & 70\\% \\\\\n",
       "\t CSCO & CISCO SYSTEMS INC        & 2023-08-04 & 2023-08-04 &  52.63 &  0.010366673 & 60\\% \\\\\n",
       "\t GE   & GE AEROSPACE             & 2023-10-27 & 2023-10-27 & 106.35 &  0.002545249 & 50\\% \\\\\n",
       "\t CCI  & CROWN CASTLE INC         & 2023-08-25 & 2023-08-25 &  99.70 & -0.005287838 & 40\\% \\\\\n",
       "\t GLW  & CORNING INC              & 2023-04-14 & 2023-04-14 &  34.78 & -0.014172336 & 30\\% \\\\\n",
       "\t CSX  & CSX CORP                 & 2024-05-17 & 2024-05-17 &  33.52 & -0.025014543 & 20\\% \\\\\n",
       "\t PH   & PARKER-HANNIFIN CORP     & 2023-09-15 & 2023-09-15 & 392.12 & -0.041739980 & 10\\% \\\\\n",
       "\t NA   & NA                       & NA & NA &     NA &           NA & NA  \\\\\n",
       "\\end{tabular}\n"
      ],
      "text/markdown": [
       "\n",
       "A tibble: 11 × 7\n",
       "\n",
       "| tic &lt;chr&gt; | conm &lt;chr&gt; | datadate &lt;date&gt; | friday &lt;date&gt; | prccd &lt;dbl&gt; | simple_weekly_return &lt;dbl&gt; | deciles &lt;fct&gt; |\n",
       "|---|---|---|---|---|---|---|\n",
       "| SMCI | SUPER MICRO COMPUTER INC | 2024-11-22 | 2024-11-22 |  33.15 |  0.784176534 | 100% |\n",
       "| MSFT | MICROSOFT CORP           | 2023-06-16 | 2023-06-16 | 342.33 |  0.047553475 | 90%  |\n",
       "| CMI  | CUMMINS INC              | 2023-11-17 | 2023-11-17 | 225.50 |  0.029586339 | 80%  |\n",
       "| MRNA | MODERNA INC              | 2024-12-27 | 2024-12-27 |  40.13 |  0.018786494 | 70%  |\n",
       "| CSCO | CISCO SYSTEMS INC        | 2023-08-04 | 2023-08-04 |  52.63 |  0.010366673 | 60%  |\n",
       "| GE   | GE AEROSPACE             | 2023-10-27 | 2023-10-27 | 106.35 |  0.002545249 | 50%  |\n",
       "| CCI  | CROWN CASTLE INC         | 2023-08-25 | 2023-08-25 |  99.70 | -0.005287838 | 40%  |\n",
       "| GLW  | CORNING INC              | 2023-04-14 | 2023-04-14 |  34.78 | -0.014172336 | 30%  |\n",
       "| CSX  | CSX CORP                 | 2024-05-17 | 2024-05-17 |  33.52 | -0.025014543 | 20%  |\n",
       "| PH   | PARKER-HANNIFIN CORP     | 2023-09-15 | 2023-09-15 | 392.12 | -0.041739980 | 10%  |\n",
       "| NA   | NA                       | NA | NA |     NA |           NA | NA   |\n",
       "\n"
      ],
      "text/plain": [
       "   tic  conm                     datadate   friday     prccd \n",
       "1  SMCI SUPER MICRO COMPUTER INC 2024-11-22 2024-11-22  33.15\n",
       "2  MSFT MICROSOFT CORP           2023-06-16 2023-06-16 342.33\n",
       "3  CMI  CUMMINS INC              2023-11-17 2023-11-17 225.50\n",
       "4  MRNA MODERNA INC              2024-12-27 2024-12-27  40.13\n",
       "5  CSCO CISCO SYSTEMS INC        2023-08-04 2023-08-04  52.63\n",
       "6  GE   GE AEROSPACE             2023-10-27 2023-10-27 106.35\n",
       "7  CCI  CROWN CASTLE INC         2023-08-25 2023-08-25  99.70\n",
       "8  GLW  CORNING INC              2023-04-14 2023-04-14  34.78\n",
       "9  CSX  CSX CORP                 2024-05-17 2024-05-17  33.52\n",
       "10 PH   PARKER-HANNIFIN CORP     2023-09-15 2023-09-15 392.12\n",
       "11 NA   NA                       <NA>       <NA>           NA\n",
       "   simple_weekly_return deciles\n",
       "1   0.784176534         100%   \n",
       "2   0.047553475         90%    \n",
       "3   0.029586339         80%    \n",
       "4   0.018786494         70%    \n",
       "5   0.010366673         60%    \n",
       "6   0.002545249         50%    \n",
       "7  -0.005287838         40%    \n",
       "8  -0.014172336         30%    \n",
       "9  -0.025014543         20%    \n",
       "10 -0.041739980         10%    \n",
       "11           NA         NA     "
      ]
     },
     "metadata": {},
     "output_type": "display_data"
    },
    {
     "data": {
      "text/html": [
       "'CSCO'"
      ],
      "text/latex": [
       "'CSCO'"
      ],
      "text/markdown": [
       "'CSCO'"
      ],
      "text/plain": [
       "[1] \"CSCO\""
      ]
     },
     "metadata": {},
     "output_type": "display_data"
    },
    {
     "data": {
      "text/html": [
       "<table class=\"dataframe\">\n",
       "<caption>A tibble: 6 × 6</caption>\n",
       "<thead>\n",
       "\t<tr><th scope=col>tic</th><th scope=col>conm</th><th scope=col>friday</th><th scope=col>datadate</th><th scope=col>prccd</th><th scope=col>simple_weekly_return</th></tr>\n",
       "\t<tr><th scope=col>&lt;chr&gt;</th><th scope=col>&lt;chr&gt;</th><th scope=col>&lt;date&gt;</th><th scope=col>&lt;date&gt;</th><th scope=col>&lt;dbl&gt;</th><th scope=col>&lt;dbl&gt;</th></tr>\n",
       "</thead>\n",
       "<tbody>\n",
       "\t<tr><td>CSCO</td><td>CISCO SYSTEMS INC</td><td>2023-01-13</td><td>2023-01-13</td><td>48.88</td><td> 0.011589404</td></tr>\n",
       "\t<tr><td>CSCO</td><td>CISCO SYSTEMS INC</td><td>2023-01-20</td><td>2023-01-20</td><td>46.78</td><td>-0.042962357</td></tr>\n",
       "\t<tr><td>CSCO</td><td>CISCO SYSTEMS INC</td><td>2023-01-27</td><td>2023-01-27</td><td>48.51</td><td> 0.036981616</td></tr>\n",
       "\t<tr><td>CSCO</td><td>CISCO SYSTEMS INC</td><td>2023-02-03</td><td>2023-02-03</td><td>48.63</td><td> 0.002473717</td></tr>\n",
       "\t<tr><td>CSCO</td><td>CISCO SYSTEMS INC</td><td>2023-02-10</td><td>2023-02-10</td><td>47.26</td><td>-0.028171910</td></tr>\n",
       "\t<tr><td>CSCO</td><td>CISCO SYSTEMS INC</td><td>2023-02-17</td><td>2023-02-17</td><td>50.77</td><td> 0.074269996</td></tr>\n",
       "</tbody>\n",
       "</table>\n"
      ],
      "text/latex": [
       "A tibble: 6 × 6\n",
       "\\begin{tabular}{llllll}\n",
       " tic & conm & friday & datadate & prccd & simple\\_weekly\\_return\\\\\n",
       " <chr> & <chr> & <date> & <date> & <dbl> & <dbl>\\\\\n",
       "\\hline\n",
       "\t CSCO & CISCO SYSTEMS INC & 2023-01-13 & 2023-01-13 & 48.88 &  0.011589404\\\\\n",
       "\t CSCO & CISCO SYSTEMS INC & 2023-01-20 & 2023-01-20 & 46.78 & -0.042962357\\\\\n",
       "\t CSCO & CISCO SYSTEMS INC & 2023-01-27 & 2023-01-27 & 48.51 &  0.036981616\\\\\n",
       "\t CSCO & CISCO SYSTEMS INC & 2023-02-03 & 2023-02-03 & 48.63 &  0.002473717\\\\\n",
       "\t CSCO & CISCO SYSTEMS INC & 2023-02-10 & 2023-02-10 & 47.26 & -0.028171910\\\\\n",
       "\t CSCO & CISCO SYSTEMS INC & 2023-02-17 & 2023-02-17 & 50.77 &  0.074269996\\\\\n",
       "\\end{tabular}\n"
      ],
      "text/markdown": [
       "\n",
       "A tibble: 6 × 6\n",
       "\n",
       "| tic &lt;chr&gt; | conm &lt;chr&gt; | friday &lt;date&gt; | datadate &lt;date&gt; | prccd &lt;dbl&gt; | simple_weekly_return &lt;dbl&gt; |\n",
       "|---|---|---|---|---|---|\n",
       "| CSCO | CISCO SYSTEMS INC | 2023-01-13 | 2023-01-13 | 48.88 |  0.011589404 |\n",
       "| CSCO | CISCO SYSTEMS INC | 2023-01-20 | 2023-01-20 | 46.78 | -0.042962357 |\n",
       "| CSCO | CISCO SYSTEMS INC | 2023-01-27 | 2023-01-27 | 48.51 |  0.036981616 |\n",
       "| CSCO | CISCO SYSTEMS INC | 2023-02-03 | 2023-02-03 | 48.63 |  0.002473717 |\n",
       "| CSCO | CISCO SYSTEMS INC | 2023-02-10 | 2023-02-10 | 47.26 | -0.028171910 |\n",
       "| CSCO | CISCO SYSTEMS INC | 2023-02-17 | 2023-02-17 | 50.77 |  0.074269996 |\n",
       "\n"
      ],
      "text/plain": [
       "  tic  conm              friday     datadate   prccd simple_weekly_return\n",
       "1 CSCO CISCO SYSTEMS INC 2023-01-13 2023-01-13 48.88  0.011589404        \n",
       "2 CSCO CISCO SYSTEMS INC 2023-01-20 2023-01-20 46.78 -0.042962357        \n",
       "3 CSCO CISCO SYSTEMS INC 2023-01-27 2023-01-27 48.51  0.036981616        \n",
       "4 CSCO CISCO SYSTEMS INC 2023-02-03 2023-02-03 48.63  0.002473717        \n",
       "5 CSCO CISCO SYSTEMS INC 2023-02-10 2023-02-10 47.26 -0.028171910        \n",
       "6 CSCO CISCO SYSTEMS INC 2023-02-17 2023-02-17 50.77  0.074269996        "
      ]
     },
     "metadata": {},
     "output_type": "display_data"
    },
    {
     "data": {
      "image/png": "[encoded data removed]",
      "text/plain": [
       "Plot with title “CSCO Autocorrelation”"
      ]
     },
     "metadata": {
      "image/png": {
       "height": 420,
       "width": 420
      }
     },
     "output_type": "display_data"
    }
   ],
   "source": [
    "# 3. Display a table showing the top ticker (the ticker with the highest weekly return) in each decile group\n",
    "#| warning: false\n",
    "df_top_ticker = data_weekly_deciles %>% \n",
    "    group_by(deciles) %>% \n",
    "    filter(simple_weekly_return == max(simple_weekly_return, na.rm = TRUE)) %>%\n",
    "    ungroup() %>%\n",
    "        arrange(desc(deciles)) %>%\n",
    "        select(tic, conm, datadate, friday, prccd, simple_weekly_return, deciles)\n",
    "\n",
    "df_top_ticker[1:11,]\n",
    "\n",
    "# 4. Select the top ticker from the 60% decile group.\n",
    "# Use this ticker for the rest of the assignment, including in Part Ill.\n",
    "top_ticker_60d = as.character(df_top_ticker %>% \n",
    "    filter(deciles == \"60%\") %>% \n",
    "    select(tic)\n",
    "    )\n",
    "paste(top_ticker_60d)\n",
    "\n",
    "# 5. Plot the autocorrelation function for this ticker's entire set of weekly returns\n",
    "#| fig-cap: \"Autocorrelation CSCO Returns\"\n",
    "\n",
    "# Filter for CSCO, remove NA values\n",
    "csco_data = data_weekly %>% \n",
    "    filter(tic == top_ticker_60d) %>% \n",
    "        na.omit()\n",
    "head(csco_data)\n",
    "\n",
    "# Autocorrelate, add a main title\n",
    "acf(csco_data$simple_weekly_return, main = \"CSCO Autocorrelation\")\n",
    "\n",
    "\n"
   ]
  }
 ],
 "metadata": {
  "kernelspec": {
   "display_name": "R",
   "language": "R",
   "name": "ir"
  },
  "language_info": {
   "codemirror_mode": "r",
   "file_extension": ".r",
   "mimetype": "text/x-r-source",
   "name": "R",
   "pygments_lexer": "r",
   "version": "4.3.3"
  }
 },
 "nbformat": 4,
 "nbformat_minor": 5
}
