{
 "cells": [
  {
   "cell_type": "markdown",
   "id": "b12b5a56",
   "metadata": {},
   "source": [
    "---\n",
    "title: \"Assignment 2 - Stock Data Analysis\"\n",
    "author: \"Barry, Bella, Emma, Maxim, Robin\"\n",
    "affiliation: \"Group 1\"\n",
    "date: today\n",
    "format:\n",
    "  pdf:\n",
    "    geometry:\n",
    "      - top=2.5cm\n",
    "      - bottom=2.5cm\n",
    "      - left=2.5cm\n",
    "      - right=2.5cm\n",
    "    fontsize: 11pt\n",
    "    colorlinks: true\n",
    "    code-block-bg: \"#BFD0D5\" \n",
    "    code-block-border-left: \"#5EC7C0\"\n",
    "    highlight-style: tango\n",
    "    \n",
    "---\n",
    "\n",
    "\\newpage\n",
    "\\tableofcontents\n",
    "\\listoffigures\n",
    "\\listoftables\n",
    "\\newpage"
   ]
  },
  {
   "cell_type": "markdown",
   "id": "09dfd891",
   "metadata": {},
   "source": [
    "Before messing around with the stock data, the environment should install and load the dplyr and lubridate packages as well as others to perform easier data analysis. Additionally, we disable any warning messages for cleaner output. We also remove any rows with NA values in the prcod column."
   ]
  },
  {
   "cell_type": "code",
   "execution_count": 1,
   "id": "09757b85",
   "metadata": {
    "vscode": {
     "languageId": "r"
    }
   },
   "outputs": [
    {
     "name": "stderr",
     "output_type": "stream",
     "text": [
      "\n",
      "Attaching package: ‘dplyr’\n",
      "\n",
      "\n",
      "The following objects are masked from ‘package:stats’:\n",
      "\n",
      "    filter, lag\n",
      "\n",
      "\n",
      "The following objects are masked from ‘package:base’:\n",
      "\n",
      "    intersect, setdiff, setequal, union\n",
      "\n",
      "\n",
      "\n",
      "Attaching package: ‘data.table’\n",
      "\n",
      "\n",
      "The following objects are masked from ‘package:dplyr’:\n",
      "\n",
      "    between, first, last\n",
      "\n",
      "\n",
      "\n",
      "Attaching package: ‘lubridate’\n",
      "\n",
      "\n",
      "The following objects are masked from ‘package:data.table’:\n",
      "\n",
      "    hour, isoweek, mday, minute, month, quarter, second, wday, week,\n",
      "    yday, year\n",
      "\n",
      "\n",
      "The following objects are masked from ‘package:base’:\n",
      "\n",
      "    date, intersect, setdiff, union\n",
      "\n",
      "\n"
     ]
    }
   ],
   "source": [
    "#| warning: false\n",
    "library(dplyr)\n",
    "library(readr)\n",
    "library(data.table)\n",
    "library(lubridate)\n",
    "library(ggplot2)\n",
    "options(warn=-1)"
   ]
  },
  {
   "cell_type": "code",
   "execution_count": 131,
   "id": "fa6a2608",
   "metadata": {
    "vscode": {
     "languageId": "r"
    }
   },
   "outputs": [
    {
     "data": {
      "text/html": [
       "<table class=\"dataframe\">\n",
       "<caption>A data.table: 6 × 9</caption>\n",
       "<thead>\n",
       "\t<tr><th scope=col>tic</th><th scope=col>datadate</th><th scope=col>exchg</th><th scope=col>sic</th><th scope=col>cshtrd</th><th scope=col>prccd</th><th scope=col>prchd</th><th scope=col>prcld</th><th scope=col>prcod</th></tr>\n",
       "\t<tr><th scope=col>&lt;chr&gt;</th><th scope=col>&lt;date&gt;</th><th scope=col>&lt;int&gt;</th><th scope=col>&lt;int&gt;</th><th scope=col>&lt;dbl&gt;</th><th scope=col>&lt;dbl&gt;</th><th scope=col>&lt;dbl&gt;</th><th scope=col>&lt;dbl&gt;</th><th scope=col>&lt;dbl&gt;</th></tr>\n",
       "</thead>\n",
       "<tbody>\n",
       "\t<tr><td>PNW</td><td>2023-01-03</td><td>11</td><td>4911</td><td>1442534</td><td>74.63</td><td>76.4125</td><td>73.380</td><td>76.25</td></tr>\n",
       "\t<tr><td>PNW</td><td>2023-01-04</td><td>11</td><td>4911</td><td> 954218</td><td>75.39</td><td>76.0950</td><td>74.630</td><td>75.10</td></tr>\n",
       "\t<tr><td>PNW</td><td>2023-01-05</td><td>11</td><td>4911</td><td> 994775</td><td>73.65</td><td>75.0950</td><td>73.305</td><td>74.88</td></tr>\n",
       "\t<tr><td>PNW</td><td>2023-01-06</td><td>11</td><td>4911</td><td> 729808</td><td>75.46</td><td>76.0200</td><td>74.480</td><td>74.49</td></tr>\n",
       "\t<tr><td>PNW</td><td>2023-01-09</td><td>11</td><td>4911</td><td> 656127</td><td>75.55</td><td>76.4800</td><td>75.240</td><td>75.24</td></tr>\n",
       "\t<tr><td>PNW</td><td>2023-01-10</td><td>11</td><td>4911</td><td> 763254</td><td>75.65</td><td>75.6950</td><td>74.880</td><td>75.31</td></tr>\n",
       "</tbody>\n",
       "</table>\n"
      ],
      "text/latex": [
       "A data.table: 6 × 9\n",
       "\\begin{tabular}{lllllllll}\n",
       " tic & datadate & exchg & sic & cshtrd & prccd & prchd & prcld & prcod\\\\\n",
       " <chr> & <date> & <int> & <int> & <dbl> & <dbl> & <dbl> & <dbl> & <dbl>\\\\\n",
       "\\hline\n",
       "\t PNW & 2023-01-03 & 11 & 4911 & 1442534 & 74.63 & 76.4125 & 73.380 & 76.25\\\\\n",
       "\t PNW & 2023-01-04 & 11 & 4911 &  954218 & 75.39 & 76.0950 & 74.630 & 75.10\\\\\n",
       "\t PNW & 2023-01-05 & 11 & 4911 &  994775 & 73.65 & 75.0950 & 73.305 & 74.88\\\\\n",
       "\t PNW & 2023-01-06 & 11 & 4911 &  729808 & 75.46 & 76.0200 & 74.480 & 74.49\\\\\n",
       "\t PNW & 2023-01-09 & 11 & 4911 &  656127 & 75.55 & 76.4800 & 75.240 & 75.24\\\\\n",
       "\t PNW & 2023-01-10 & 11 & 4911 &  763254 & 75.65 & 75.6950 & 74.880 & 75.31\\\\\n",
       "\\end{tabular}\n"
      ],
      "text/markdown": [
       "\n",
       "A data.table: 6 × 9\n",
       "\n",
       "| tic &lt;chr&gt; | datadate &lt;date&gt; | exchg &lt;int&gt; | sic &lt;int&gt; | cshtrd &lt;dbl&gt; | prccd &lt;dbl&gt; | prchd &lt;dbl&gt; | prcld &lt;dbl&gt; | prcod &lt;dbl&gt; |\n",
       "|---|---|---|---|---|---|---|---|---|\n",
       "| PNW | 2023-01-03 | 11 | 4911 | 1442534 | 74.63 | 76.4125 | 73.380 | 76.25 |\n",
       "| PNW | 2023-01-04 | 11 | 4911 |  954218 | 75.39 | 76.0950 | 74.630 | 75.10 |\n",
       "| PNW | 2023-01-05 | 11 | 4911 |  994775 | 73.65 | 75.0950 | 73.305 | 74.88 |\n",
       "| PNW | 2023-01-06 | 11 | 4911 |  729808 | 75.46 | 76.0200 | 74.480 | 74.49 |\n",
       "| PNW | 2023-01-09 | 11 | 4911 |  656127 | 75.55 | 76.4800 | 75.240 | 75.24 |\n",
       "| PNW | 2023-01-10 | 11 | 4911 |  763254 | 75.65 | 75.6950 | 74.880 | 75.31 |\n",
       "\n"
      ],
      "text/plain": [
       "  tic datadate   exchg sic  cshtrd  prccd prchd   prcld  prcod\n",
       "1 PNW 2023-01-03 11    4911 1442534 74.63 76.4125 73.380 76.25\n",
       "2 PNW 2023-01-04 11    4911  954218 75.39 76.0950 74.630 75.10\n",
       "3 PNW 2023-01-05 11    4911  994775 73.65 75.0950 73.305 74.88\n",
       "4 PNW 2023-01-06 11    4911  729808 75.46 76.0200 74.480 74.49\n",
       "5 PNW 2023-01-09 11    4911  656127 75.55 76.4800 75.240 75.24\n",
       "6 PNW 2023-01-10 11    4911  763254 75.65 75.6950 74.880 75.31"
      ]
     },
     "metadata": {},
     "output_type": "display_data"
    }
   ],
   "source": [
    "#| tbl-cap: \"Compressed dataset\"\n",
    "data = fread(\"compressed_data.csv.gz\") %>% \n",
    "        filter(!is.na(prcod)) %>% \n",
    "        mutate(datadate = as.Date(datadate, \"%d/%m/%Y\"))\n",
    "head(data |> select(-conm, -gvkey))"
   ]
  },
  {
   "cell_type": "markdown",
   "id": "c115e766",
   "metadata": {},
   "source": [
    "# Part 1 Questions & Answers\n",
    "## 1. How many unique tickers are in your data?"
   ]
  },
  {
   "cell_type": "code",
   "execution_count": 151,
   "id": "cf21ad3f",
   "metadata": {
    "vscode": {
     "languageId": "r"
    }
   },
   "outputs": [
    {
     "data": {
      "text/html": [
       "<table class=\"dataframe\">\n",
       "<caption>A tibble: 1 × 2</caption>\n",
       "<thead>\n",
       "\t<tr><th scope=col>X</th><th scope=col>Y</th></tr>\n",
       "\t<tr><th scope=col>&lt;chr&gt;</th><th scope=col>&lt;int&gt;</th></tr>\n",
       "</thead>\n",
       "<tbody>\n",
       "\t<tr><td>Unique tickers</td><td>502</td></tr>\n",
       "</tbody>\n",
       "</table>\n"
      ],
      "text/latex": [
       "A tibble: 1 × 2\n",
       "\\begin{tabular}{ll}\n",
       " X & Y\\\\\n",
       " <chr> & <int>\\\\\n",
       "\\hline\n",
       "\t Unique tickers & 502\\\\\n",
       "\\end{tabular}\n"
      ],
      "text/markdown": [
       "\n",
       "A tibble: 1 × 2\n",
       "\n",
       "| X &lt;chr&gt; | Y &lt;int&gt; |\n",
       "|---|---|\n",
       "| Unique tickers | 502 |\n",
       "\n"
      ],
      "text/plain": [
       "  X              Y  \n",
       "1 Unique tickers 502"
      ]
     },
     "metadata": {},
     "output_type": "display_data"
    },
    {
     "name": "stdout",
     "output_type": "stream",
     "text": [
      "1. There are 502 unique tickers."
     ]
    }
   ],
   "source": [
    "summary_table_1 <- tibble(\n",
    "  X = \"Unique tickers\",\n",
    "  Y = length(unique(data$tic))\n",
    ")\n",
    "summary_table_1\n",
    "cat(\"1. There are\", length(unique(data$tic)), \"unique tickers.\")"
   ]
  },
  {
   "cell_type": "markdown",
   "id": "d3b85339",
   "metadata": {},
   "source": [
    "## 2. How many unique companies are in your data?"
   ]
  },
  {
   "cell_type": "code",
   "execution_count": 153,
   "id": "8ff4b6da",
   "metadata": {
    "vscode": {
     "languageId": "r"
    }
   },
   "outputs": [
    {
     "data": {
      "text/html": [
       "<table class=\"dataframe\">\n",
       "<caption>A tibble: 1 × 2</caption>\n",
       "<thead>\n",
       "\t<tr><th scope=col>X</th><th scope=col>Y</th></tr>\n",
       "\t<tr><th scope=col>&lt;chr&gt;</th><th scope=col>&lt;int&gt;</th></tr>\n",
       "</thead>\n",
       "<tbody>\n",
       "\t<tr><td>Unique company names</td><td>499</td></tr>\n",
       "</tbody>\n",
       "</table>\n"
      ],
      "text/latex": [
       "A tibble: 1 × 2\n",
       "\\begin{tabular}{ll}\n",
       " X & Y\\\\\n",
       " <chr> & <int>\\\\\n",
       "\\hline\n",
       "\t Unique company names & 499\\\\\n",
       "\\end{tabular}\n"
      ],
      "text/markdown": [
       "\n",
       "A tibble: 1 × 2\n",
       "\n",
       "| X &lt;chr&gt; | Y &lt;int&gt; |\n",
       "|---|---|\n",
       "| Unique company names | 499 |\n",
       "\n"
      ],
      "text/plain": [
       "  X                    Y  \n",
       "1 Unique company names 499"
      ]
     },
     "metadata": {},
     "output_type": "display_data"
    },
    {
     "name": "stdout",
     "output_type": "stream",
     "text": [
      "\n",
      "2. There are 499 unique company names."
     ]
    }
   ],
   "source": [
    "summary_table_2 <- tibble(\n",
    "  X = \"Unique company names\",\n",
    "  Y = length(unique(data$conm))\n",
    ")\n",
    "summary_table_2\n",
    "cat(\"\\n2. There are\", length(unique(data$conm)), \"unique company names.\")"
   ]
  },
  {
   "cell_type": "markdown",
   "id": "174d8593",
   "metadata": {},
   "source": [
    "## 3. Display the top 5 companies by largest mean trading volume, in a table."
   ]
  },
  {
   "cell_type": "code",
   "execution_count": 134,
   "id": "d652c553",
   "metadata": {
    "vscode": {
     "languageId": "r"
    }
   },
   "outputs": [
    {
     "data": {
      "text/html": [
       "<table class=\"dataframe\">\n",
       "<caption>A tibble: 5 × 2</caption>\n",
       "<thead>\n",
       "\t<tr><th scope=col>tic</th><th scope=col>mean_trading_v</th></tr>\n",
       "\t<tr><th scope=col>&lt;chr&gt;</th><th scope=col>&lt;dbl&gt;</th></tr>\n",
       "</thead>\n",
       "<tbody>\n",
       "\t<tr><td>TSLA</td><td>115314383</td></tr>\n",
       "\t<tr><td>NVDA</td><td>113131835</td></tr>\n",
       "\t<tr><td>PLTR</td><td> 60056251</td></tr>\n",
       "\t<tr><td>AAPL</td><td> 57736403</td></tr>\n",
       "\t<tr><td>AMD </td><td> 57143415</td></tr>\n",
       "</tbody>\n",
       "</table>\n"
      ],
      "text/latex": [
       "A tibble: 5 × 2\n",
       "\\begin{tabular}{ll}\n",
       " tic & mean\\_trading\\_v\\\\\n",
       " <chr> & <dbl>\\\\\n",
       "\\hline\n",
       "\t TSLA & 115314383\\\\\n",
       "\t NVDA & 113131835\\\\\n",
       "\t PLTR &  60056251\\\\\n",
       "\t AAPL &  57736403\\\\\n",
       "\t AMD  &  57143415\\\\\n",
       "\\end{tabular}\n"
      ],
      "text/markdown": [
       "\n",
       "A tibble: 5 × 2\n",
       "\n",
       "| tic &lt;chr&gt; | mean_trading_v &lt;dbl&gt; |\n",
       "|---|---|\n",
       "| TSLA | 115314383 |\n",
       "| NVDA | 113131835 |\n",
       "| PLTR |  60056251 |\n",
       "| AAPL |  57736403 |\n",
       "| AMD  |  57143415 |\n",
       "\n"
      ],
      "text/plain": [
       "  tic  mean_trading_v\n",
       "1 TSLA 115314383     \n",
       "2 NVDA 113131835     \n",
       "3 PLTR  60056251     \n",
       "4 AAPL  57736403     \n",
       "5 AMD   57143415     "
      ]
     },
     "metadata": {},
     "output_type": "display_data"
    }
   ],
   "source": [
    "#| tbl-cap: \"Top 5 companies by largest mean trading volume\"\n",
    "data_3 = data %>%\n",
    "    group_by(tic) %>%\n",
    "    summarise(mean_trading_v = mean(cshtrd, na.rm = TRUE)) %>%\n",
    "    ungroup() %>%\n",
    "        arrange(desc(mean_trading_v))\n",
    "data_3[1:5,]"
   ]
  },
  {
   "cell_type": "markdown",
   "id": "746096dc",
   "metadata": {},
   "source": [
    "## 4. Display the total trading volume of the top 3 exchanges (table)."
   ]
  },
  {
   "cell_type": "code",
   "execution_count": 135,
   "id": "2e52c382",
   "metadata": {
    "vscode": {
     "languageId": "r"
    }
   },
   "outputs": [
    {
     "data": {
      "text/html": [
       "<table class=\"dataframe\">\n",
       "<caption>A tibble: 3 × 2</caption>\n",
       "<thead>\n",
       "\t<tr><th scope=col>exchg</th><th scope=col>total_trading_v</th></tr>\n",
       "\t<tr><th scope=col>&lt;int&gt;</th><th scope=col>&lt;dbl&gt;</th></tr>\n",
       "</thead>\n",
       "<tbody>\n",
       "\t<tr><td>11</td><td>681415756062</td></tr>\n",
       "\t<tr><td>14</td><td>570830885382</td></tr>\n",
       "\t<tr><td>21</td><td>   385399362</td></tr>\n",
       "</tbody>\n",
       "</table>\n"
      ],
      "text/latex": [
       "A tibble: 3 × 2\n",
       "\\begin{tabular}{ll}\n",
       " exchg & total\\_trading\\_v\\\\\n",
       " <int> & <dbl>\\\\\n",
       "\\hline\n",
       "\t 11 & 681415756062\\\\\n",
       "\t 14 & 570830885382\\\\\n",
       "\t 21 &    385399362\\\\\n",
       "\\end{tabular}\n"
      ],
      "text/markdown": [
       "\n",
       "A tibble: 3 × 2\n",
       "\n",
       "| exchg &lt;int&gt; | total_trading_v &lt;dbl&gt; |\n",
       "|---|---|\n",
       "| 11 | 681415756062 |\n",
       "| 14 | 570830885382 |\n",
       "| 21 |    385399362 |\n",
       "\n"
      ],
      "text/plain": [
       "  exchg total_trading_v\n",
       "1 11    681415756062   \n",
       "2 14    570830885382   \n",
       "3 21       385399362   "
      ]
     },
     "metadata": {},
     "output_type": "display_data"
    }
   ],
   "source": [
    "#| tbl-cap: \"Total trading volume of the top 3 exchanges\"\n",
    "data_4 = data %>%\n",
    "    group_by(exchg) %>%\n",
    "    summarise(total_trading_v = sum(cshtrd, na.rm = TRUE)) %>%\n",
    "    ungroup() %>%\n",
    "        arrange(desc(total_trading_v))\n",
    "data_4[1:3,]"
   ]
  },
  {
   "cell_type": "markdown",
   "id": "73ed417f",
   "metadata": {},
   "source": [
    "## 5. Visualise the total trading volume of the top 3 exchanges (bar plot)."
   ]
  },
  {
   "cell_type": "code",
   "execution_count": 136,
   "id": "49fe0776",
   "metadata": {
    "vscode": {
     "languageId": "r"
    }
   },
   "outputs": [
    {
     "data": {
      "image/png": "[encoded data removed]",
      "text/plain": [
       "plot without title"
      ]
     },
     "metadata": {
      "image/png": {
       "height": 420,
       "width": 420
      }
     },
     "output_type": "display_data"
    }
   ],
   "source": [
    "#| fig-cap: \"Total Trading Volume of the Top 3 Exchanges\"\n",
    "ggplot(data_4, aes(x = as.character(exchg), y = total_trading_v/1000000)) +\n",
    "  geom_bar(stat = \"identity\", color = \"darkblue\", fill = \"darkblue\") +\n",
    "  geom_text(aes(label = round(total_trading_v/1000000)),\n",
    "            vjust = -0.3,              # position above the bar\n",
    "            size = 5) +               # text size\n",
    "  labs(title = \"Total Trading Volume of the Top 3 Exchanges\",\n",
    "  x= \"exchange\", y=\"Total Trading Volume in illions\") +\n",
    "  theme(plot.title = element_text(hjust = 0.5))"
   ]
  },
  {
   "cell_type": "markdown",
   "id": "e62ec4a2",
   "metadata": {},
   "source": [
    "## 6. How many companies have more than one ticker?"
   ]
  },
  {
   "cell_type": "code",
   "execution_count": 137,
   "id": "38088dd8",
   "metadata": {
    "vscode": {
     "languageId": "r"
    }
   },
   "outputs": [
    {
     "data": {
      "text/html": [
       "<table class=\"dataframe\">\n",
       "<caption>A tibble: 4 × 2</caption>\n",
       "<thead>\n",
       "\t<tr><th scope=col>conm</th><th scope=col>no_of_tickers</th></tr>\n",
       "\t<tr><th scope=col>&lt;chr&gt;</th><th scope=col>&lt;int&gt;</th></tr>\n",
       "</thead>\n",
       "<tbody>\n",
       "\t<tr><td>ALPHABET INC</td><td> 2</td></tr>\n",
       "\t<tr><td>FOX CORP    </td><td> 2</td></tr>\n",
       "\t<tr><td>NEWS CORP   </td><td> 2</td></tr>\n",
       "\t<tr><td>NA          </td><td>NA</td></tr>\n",
       "</tbody>\n",
       "</table>\n"
      ],
      "text/latex": [
       "A tibble: 4 × 2\n",
       "\\begin{tabular}{ll}\n",
       " conm & no\\_of\\_tickers\\\\\n",
       " <chr> & <int>\\\\\n",
       "\\hline\n",
       "\t ALPHABET INC &  2\\\\\n",
       "\t FOX CORP     &  2\\\\\n",
       "\t NEWS CORP    &  2\\\\\n",
       "\t NA           & NA\\\\\n",
       "\\end{tabular}\n"
      ],
      "text/markdown": [
       "\n",
       "A tibble: 4 × 2\n",
       "\n",
       "| conm &lt;chr&gt; | no_of_tickers &lt;int&gt; |\n",
       "|---|---|\n",
       "| ALPHABET INC |  2 |\n",
       "| FOX CORP     |  2 |\n",
       "| NEWS CORP    |  2 |\n",
       "| NA           | NA |\n",
       "\n"
      ],
      "text/plain": [
       "  conm         no_of_tickers\n",
       "1 ALPHABET INC  2           \n",
       "2 FOX CORP      2           \n",
       "3 NEWS CORP     2           \n",
       "4 NA           NA           "
      ]
     },
     "metadata": {},
     "output_type": "display_data"
    },
    {
     "name": "stdout",
     "output_type": "stream",
     "text": [
      "6. There are 3 companies with more than one ticker."
     ]
    }
   ],
   "source": [
    "#| tbl-cap: \"Companies with more than one ticker\"\n",
    "data_6 = data %>%\n",
    "    group_by(conm) %>%\n",
    "    summarise(no_of_tickers = n_distinct(tic)) %>%\n",
    "    ungroup() %>% \n",
    "    filter(!no_of_tickers == 1)\n",
    "data_6[1:4,]\n",
    "nr_companies = nrow(data_6)\n",
    "cat(\"6. There are\", nr_companies, \"companies with more than one ticker.\")"
   ]
  },
  {
   "cell_type": "markdown",
   "id": "94ed247f",
   "metadata": {},
   "source": [
    "## 7. Which ticker has the largest positive mean return (simple daily return)?"
   ]
  },
  {
   "cell_type": "code",
   "execution_count": 159,
   "id": "39713343",
   "metadata": {
    "vscode": {
     "languageId": "r"
    }
   },
   "outputs": [
    {
     "data": {
      "text/html": [
       "<table class=\"dataframe\">\n",
       "<caption>A tibble: 1 × 2</caption>\n",
       "<thead>\n",
       "\t<tr><th scope=col>Ticker</th><th scope=col>Mean_return_perc</th></tr>\n",
       "\t<tr><th scope=col>&lt;chr&gt;</th><th scope=col>&lt;dbl&gt;</th></tr>\n",
       "</thead>\n",
       "<tbody>\n",
       "\t<tr><td>PLTR</td><td>0.58</td></tr>\n",
       "</tbody>\n",
       "</table>\n"
      ],
      "text/latex": [
       "A tibble: 1 × 2\n",
       "\\begin{tabular}{ll}\n",
       " Ticker & Mean\\_return\\_perc\\\\\n",
       " <chr> & <dbl>\\\\\n",
       "\\hline\n",
       "\t PLTR & 0.58\\\\\n",
       "\\end{tabular}\n"
      ],
      "text/markdown": [
       "\n",
       "A tibble: 1 × 2\n",
       "\n",
       "| Ticker &lt;chr&gt; | Mean_return_perc &lt;dbl&gt; |\n",
       "|---|---|\n",
       "| PLTR | 0.58 |\n",
       "\n"
      ],
      "text/plain": [
       "  Ticker Mean_return_perc\n",
       "1 PLTR   0.58            "
      ]
     },
     "metadata": {},
     "output_type": "display_data"
    },
    {
     "name": "stdout",
     "output_type": "stream",
     "text": [
      "7. The PLTR ticker had the highest mean daily return.\n",
      "-> The return was 0.58 %."
     ]
    }
   ],
   "source": [
    "# 7. Which ticker has the largest positive mean return (simple daily return)?\n",
    "data = data %>% \n",
    "    group_by(tic) %>% \n",
    "    mutate(return = prccd/lag(prccd)-1) %>% \n",
    "    ungroup()\n",
    "\n",
    "data_7 = data %>% \n",
    "    group_by(tic) %>% \n",
    "    summarise(mean_return = mean(return, na.rm = TRUE)) %>% \n",
    "    ungroup() %>% \n",
    "        arrange(desc(mean_return))\n",
    "\n",
    "highest_mean_return = max(data_7$mean_return)\n",
    "\n",
    "highest_mean_return_ticker = data_7$tic[\n",
    "    which.max(data_7$mean_return)\n",
    "]\n",
    "\n",
    "summary_table_7 <- tibble(\n",
    "  Ticker = highest_mean_return_ticker,\n",
    "  Mean_return_perc = round(highest_mean_return, 4)*100\n",
    ")\n",
    "summary_table_7\n",
    "\n",
    "cat(\"7. The\", highest_mean_return_ticker, \n",
    "\"ticker had the highest mean daily return.\")\n",
    "cat(\"\\n-> The return was\", round(highest_mean_return, 4)*100,\"%.\")"
   ]
  },
  {
   "cell_type": "markdown",
   "id": "0c7cc560",
   "metadata": {},
   "source": [
    "## 8. Which company has the largest positive mean return (simple daily return)?"
   ]
  },
  {
   "cell_type": "code",
   "execution_count": 161,
   "id": "a9f54da1",
   "metadata": {
    "vscode": {
     "languageId": "r"
    }
   },
   "outputs": [
    {
     "data": {
      "text/html": [
       "<table class=\"dataframe\">\n",
       "<caption>A tibble: 1 × 3</caption>\n",
       "<thead>\n",
       "\t<tr><th scope=col>Ticker</th><th scope=col>Company</th><th scope=col>Mean_return_perc</th></tr>\n",
       "\t<tr><th scope=col>&lt;chr&gt;</th><th scope=col>&lt;chr&gt;</th><th scope=col>&lt;dbl&gt;</th></tr>\n",
       "</thead>\n",
       "<tbody>\n",
       "\t<tr><td>PLTR</td><td>PALANTIR TECHNOLOG INC</td><td>0.58</td></tr>\n",
       "</tbody>\n",
       "</table>\n"
      ],
      "text/latex": [
       "A tibble: 1 × 3\n",
       "\\begin{tabular}{lll}\n",
       " Ticker & Company & Mean\\_return\\_perc\\\\\n",
       " <chr> & <chr> & <dbl>\\\\\n",
       "\\hline\n",
       "\t PLTR & PALANTIR TECHNOLOG INC & 0.58\\\\\n",
       "\\end{tabular}\n"
      ],
      "text/markdown": [
       "\n",
       "A tibble: 1 × 3\n",
       "\n",
       "| Ticker &lt;chr&gt; | Company &lt;chr&gt; | Mean_return_perc &lt;dbl&gt; |\n",
       "|---|---|---|\n",
       "| PLTR | PALANTIR TECHNOLOG INC | 0.58 |\n",
       "\n"
      ],
      "text/plain": [
       "  Ticker Company                Mean_return_perc\n",
       "1 PLTR   PALANTIR TECHNOLOG INC 0.58            "
      ]
     },
     "metadata": {},
     "output_type": "display_data"
    },
    {
     "name": "stdout",
     "output_type": "stream",
     "text": [
      "8. The PALANTIR TECHNOLOG INC company had the highest mean daily return."
     ]
    }
   ],
   "source": [
    "summary_table_8 <- tibble(\n",
    "  Ticker = highest_mean_return_ticker,\n",
    "  Company = highest_mean_return_company,\n",
    "  Mean_return_perc = round(highest_mean_return, 4)*100\n",
    ")\n",
    "summary_table_8\n",
    "\n",
    "highest_mean_return_company = data$conm[\n",
    "    which(data$tic == highest_mean_return_ticker)[1]\n",
    "] \n",
    "cat(\"8. The\", highest_mean_return_company,\n",
    "\"company had the highest mean daily return.\")"
   ]
  },
  {
   "cell_type": "markdown",
   "id": "cffab725",
   "metadata": {},
   "source": [
    "## 9. Which industry is represented by the most companies?"
   ]
  },
  {
   "cell_type": "code",
   "execution_count": 163,
   "id": "317902db",
   "metadata": {
    "vscode": {
     "languageId": "r"
    }
   },
   "outputs": [
    {
     "data": {
      "text/html": [
       "<table class=\"dataframe\">\n",
       "<caption>A tibble: 1 × 2</caption>\n",
       "<thead>\n",
       "\t<tr><th scope=col>SIC</th><th scope=col>No_of_companies</th></tr>\n",
       "\t<tr><th scope=col>&lt;int&gt;</th><th scope=col>&lt;int&gt;</th></tr>\n",
       "</thead>\n",
       "<tbody>\n",
       "\t<tr><td>6798</td><td>28</td></tr>\n",
       "</tbody>\n",
       "</table>\n"
      ],
      "text/latex": [
       "A tibble: 1 × 2\n",
       "\\begin{tabular}{ll}\n",
       " SIC & No\\_of\\_companies\\\\\n",
       " <int> & <int>\\\\\n",
       "\\hline\n",
       "\t 6798 & 28\\\\\n",
       "\\end{tabular}\n"
      ],
      "text/markdown": [
       "\n",
       "A tibble: 1 × 2\n",
       "\n",
       "| SIC &lt;int&gt; | No_of_companies &lt;int&gt; |\n",
       "|---|---|\n",
       "| 6798 | 28 |\n",
       "\n"
      ],
      "text/plain": [
       "  SIC  No_of_companies\n",
       "1 6798 28             "
      ]
     },
     "metadata": {},
     "output_type": "display_data"
    },
    {
     "name": "stdout",
     "output_type": "stream",
     "text": [
      "9. The 6798 SIC industry has the most companies.\n",
      "-> There are 28 companies in that industry."
     ]
    }
   ],
   "source": [
    "data_9 = data %>%\n",
    "    group_by(sic) %>%\n",
    "    summarise(no_companies = n_distinct(conm)) %>%\n",
    "    ungroup() %>% \n",
    "    arrange(desc(no_companies))\n",
    "most_represented_industry = data_9$sic[\n",
    "    which.max(data_9$no_companies)\n",
    "]\n",
    "no_companies_in_most_represented_industry = max(data_9$no_companies)\n",
    "\n",
    "summary_table_9 <- tibble(\n",
    "  SIC = most_represented_industry,\n",
    "  No_of_companies = no_companies_in_most_represented_industry\n",
    ")\n",
    "summary_table_9\n",
    "\n",
    "cat(\"9. The\", most_represented_industry,\n",
    "\"SIC industry has the most companies.\")\n",
    "cat(\"\\n-> There are\", no_companies_in_most_represented_industry,\n",
    "\"companies in that industry.\")\n"
   ]
  },
  {
   "cell_type": "markdown",
   "id": "e3a2615b",
   "metadata": {},
   "source": [
    "# Part 2 Extended Analysis\n",
    "After preparing the data we carry out the following analysis."
   ]
  },
  {
   "cell_type": "markdown",
   "id": "8ea39c20",
   "metadata": {},
   "source": [
    "## 1. Calculate simple weekly returns for each ticker in the full dataset"
   ]
  },
  {
   "cell_type": "code",
   "execution_count": 141,
   "id": "b86d6ca2",
   "metadata": {
    "vscode": {
     "languageId": "r"
    }
   },
   "outputs": [
    {
     "name": "stderr",
     "output_type": "stream",
     "text": [
      "\u001b[1m\u001b[22m`summarise()` has grouped output by 'tic'. You can override using the `.groups`\n",
      "argument.\n"
     ]
    },
    {
     "data": {
      "text/html": [
       "<table class=\"dataframe\">\n",
       "<caption>A tibble: 6 × 4</caption>\n",
       "<thead>\n",
       "\t<tr><th scope=col>tic</th><th scope=col>datadate</th><th scope=col>weekly_close</th><th scope=col>simple_w_r</th></tr>\n",
       "\t<tr><th scope=col>&lt;chr&gt;</th><th scope=col>&lt;date&gt;</th><th scope=col>&lt;dbl&gt;</th><th scope=col>&lt;dbl&gt;</th></tr>\n",
       "</thead>\n",
       "<tbody>\n",
       "\t<tr><td>A</td><td>2023-01-06</td><td>147.67</td><td>          NA</td></tr>\n",
       "\t<tr><td>A</td><td>2023-01-13</td><td>156.92</td><td> 0.062639670</td></tr>\n",
       "\t<tr><td>A</td><td>2023-01-20</td><td>155.92</td><td>-0.006372674</td></tr>\n",
       "\t<tr><td>A</td><td>2023-01-27</td><td>155.69</td><td>-0.001475115</td></tr>\n",
       "\t<tr><td>A</td><td>2023-02-03</td><td>154.55</td><td>-0.007322243</td></tr>\n",
       "\t<tr><td>A</td><td>2023-02-10</td><td>152.55</td><td>-0.012940796</td></tr>\n",
       "</tbody>\n",
       "</table>\n"
      ],
      "text/latex": [
       "A tibble: 6 × 4\n",
       "\\begin{tabular}{llll}\n",
       " tic & datadate & weekly\\_close & simple\\_w\\_r\\\\\n",
       " <chr> & <date> & <dbl> & <dbl>\\\\\n",
       "\\hline\n",
       "\t A & 2023-01-06 & 147.67 &           NA\\\\\n",
       "\t A & 2023-01-13 & 156.92 &  0.062639670\\\\\n",
       "\t A & 2023-01-20 & 155.92 & -0.006372674\\\\\n",
       "\t A & 2023-01-27 & 155.69 & -0.001475115\\\\\n",
       "\t A & 2023-02-03 & 154.55 & -0.007322243\\\\\n",
       "\t A & 2023-02-10 & 152.55 & -0.012940796\\\\\n",
       "\\end{tabular}\n"
      ],
      "text/markdown": [
       "\n",
       "A tibble: 6 × 4\n",
       "\n",
       "| tic &lt;chr&gt; | datadate &lt;date&gt; | weekly_close &lt;dbl&gt; | simple_w_r &lt;dbl&gt; |\n",
       "|---|---|---|---|\n",
       "| A | 2023-01-06 | 147.67 |           NA |\n",
       "| A | 2023-01-13 | 156.92 |  0.062639670 |\n",
       "| A | 2023-01-20 | 155.92 | -0.006372674 |\n",
       "| A | 2023-01-27 | 155.69 | -0.001475115 |\n",
       "| A | 2023-02-03 | 154.55 | -0.007322243 |\n",
       "| A | 2023-02-10 | 152.55 | -0.012940796 |\n",
       "\n"
      ],
      "text/plain": [
       "  tic datadate   weekly_close simple_w_r  \n",
       "1 A   2023-01-06 147.67                 NA\n",
       "2 A   2023-01-13 156.92        0.062639670\n",
       "3 A   2023-01-20 155.92       -0.006372674\n",
       "4 A   2023-01-27 155.69       -0.001475115\n",
       "5 A   2023-02-03 154.55       -0.007322243\n",
       "6 A   2023-02-10 152.55       -0.012940796"
      ]
     },
     "metadata": {},
     "output_type": "display_data"
    }
   ],
   "source": [
    "#| tbl-cap: \"Simple weekly returns for each ticker\"\n",
    "data_weekly = data %>% \n",
    "    ## determine weekly returns based on fridays\n",
    "    group_by(tic, datadate = floor_date(datadate, \"week\")+5) %>%\n",
    "    summarise(weekly_close = last(prccd)) %>%\n",
    "    arrange(tic, datadate) %>%\n",
    "    group_by(tic) %>%\n",
    "    mutate(simple_w_r = (weekly_close / lag(weekly_close)) - 1) %>%\n",
    "    ungroup()\n",
    "head(data_weekly)"
   ]
  },
  {
   "cell_type": "markdown",
   "id": "bc70a3e4",
   "metadata": {},
   "source": [
    "## 2. Categorise your data into decile groups\n",
    "(We do not remove zero returns from the data)."
   ]
  },
  {
   "cell_type": "code",
   "execution_count": 169,
   "id": "5521c905",
   "metadata": {
    "vscode": {
     "languageId": "r"
    }
   },
   "outputs": [
    {
     "data": {
      "text/html": [
       "<style>\n",
       ".list-inline {list-style: none; margin:0; padding: 0}\n",
       ".list-inline>li {display: inline-block}\n",
       ".list-inline>li:not(:last-child)::after {content: \"\\00b7\"; padding: 0 .5ex}\n",
       "</style>\n",
       "<ol class=list-inline><li>'0.1'</li><li>'0.2'</li><li>'0.3'</li><li>'0.4'</li><li>'0.5'</li><li>'0.6'</li><li>'0.7'</li><li>'0.8'</li><li>'0.9'</li><li>'1'</li></ol>\n"
      ],
      "text/latex": [
       "\\begin{enumerate*}\n",
       "\\item '0.1'\n",
       "\\item '0.2'\n",
       "\\item '0.3'\n",
       "\\item '0.4'\n",
       "\\item '0.5'\n",
       "\\item '0.6'\n",
       "\\item '0.7'\n",
       "\\item '0.8'\n",
       "\\item '0.9'\n",
       "\\item '1'\n",
       "\\end{enumerate*}\n"
      ],
      "text/markdown": [
       "1. '0.1'\n",
       "2. '0.2'\n",
       "3. '0.3'\n",
       "4. '0.4'\n",
       "5. '0.5'\n",
       "6. '0.6'\n",
       "7. '0.7'\n",
       "8. '0.8'\n",
       "9. '0.9'\n",
       "10. '1'\n",
       "\n",
       "\n"
      ],
      "text/plain": [
       " [1] \"0.1\" \"0.2\" \"0.3\" \"0.4\" \"0.5\" \"0.6\" \"0.7\" \"0.8\" \"0.9\" \"1\"  "
      ]
     },
     "metadata": {},
     "output_type": "display_data"
    },
    {
     "data": {
      "text/html": [
       "<style>\n",
       ".list-inline {list-style: none; margin:0; padding: 0}\n",
       ".list-inline>li {display: inline-block}\n",
       ".list-inline>li:not(:last-child)::after {content: \"\\00b7\"; padding: 0 .5ex}\n",
       "</style>\n",
       "<ol class=list-inline><li>'10%'</li><li>'20%'</li><li>'30%'</li><li>'40%'</li><li>'50%'</li><li>'60%'</li><li>'70%'</li><li>'80%'</li><li>'90%'</li></ol>\n"
      ],
      "text/latex": [
       "\\begin{enumerate*}\n",
       "\\item '10\\%'\n",
       "\\item '20\\%'\n",
       "\\item '30\\%'\n",
       "\\item '40\\%'\n",
       "\\item '50\\%'\n",
       "\\item '60\\%'\n",
       "\\item '70\\%'\n",
       "\\item '80\\%'\n",
       "\\item '90\\%'\n",
       "\\end{enumerate*}\n"
      ],
      "text/markdown": [
       "1. '10%'\n",
       "2. '20%'\n",
       "3. '30%'\n",
       "4. '40%'\n",
       "5. '50%'\n",
       "6. '60%'\n",
       "7. '70%'\n",
       "8. '80%'\n",
       "9. '90%'\n",
       "\n",
       "\n"
      ],
      "text/plain": [
       "[1] \"10%\" \"20%\" \"30%\" \"40%\" \"50%\" \"60%\" \"70%\" \"80%\" \"90%\""
      ]
     },
     "metadata": {},
     "output_type": "display_data"
    },
    {
     "data": {
      "text/html": [
       "<table class=\"dataframe\">\n",
       "<caption>A tibble: 6 × 5</caption>\n",
       "<thead>\n",
       "\t<tr><th scope=col>tic</th><th scope=col>datadate</th><th scope=col>weekly_close</th><th scope=col>simple_w_r</th><th scope=col>deciles</th></tr>\n",
       "\t<tr><th scope=col>&lt;chr&gt;</th><th scope=col>&lt;date&gt;</th><th scope=col>&lt;dbl&gt;</th><th scope=col>&lt;dbl&gt;</th><th scope=col>&lt;fct&gt;</th></tr>\n",
       "</thead>\n",
       "<tbody>\n",
       "\t<tr><td>A</td><td>2023-01-13</td><td>156.92</td><td> 0.062639670</td><td>90%</td></tr>\n",
       "\t<tr><td>A</td><td>2023-01-20</td><td>155.92</td><td>-0.006372674</td><td>30%</td></tr>\n",
       "\t<tr><td>A</td><td>2023-01-27</td><td>155.69</td><td>-0.001475115</td><td>40%</td></tr>\n",
       "\t<tr><td>A</td><td>2023-02-03</td><td>154.55</td><td>-0.007322243</td><td>30%</td></tr>\n",
       "\t<tr><td>A</td><td>2023-02-10</td><td>152.55</td><td>-0.012940796</td><td>30%</td></tr>\n",
       "\t<tr><td>A</td><td>2023-02-17</td><td>148.26</td><td>-0.028121927</td><td>10%</td></tr>\n",
       "</tbody>\n",
       "</table>\n"
      ],
      "text/latex": [
       "A tibble: 6 × 5\n",
       "\\begin{tabular}{lllll}\n",
       " tic & datadate & weekly\\_close & simple\\_w\\_r & deciles\\\\\n",
       " <chr> & <date> & <dbl> & <dbl> & <fct>\\\\\n",
       "\\hline\n",
       "\t A & 2023-01-13 & 156.92 &  0.062639670 & 90\\%\\\\\n",
       "\t A & 2023-01-20 & 155.92 & -0.006372674 & 30\\%\\\\\n",
       "\t A & 2023-01-27 & 155.69 & -0.001475115 & 40\\%\\\\\n",
       "\t A & 2023-02-03 & 154.55 & -0.007322243 & 30\\%\\\\\n",
       "\t A & 2023-02-10 & 152.55 & -0.012940796 & 30\\%\\\\\n",
       "\t A & 2023-02-17 & 148.26 & -0.028121927 & 10\\%\\\\\n",
       "\\end{tabular}\n"
      ],
      "text/markdown": [
       "\n",
       "A tibble: 6 × 5\n",
       "\n",
       "| tic &lt;chr&gt; | datadate &lt;date&gt; | weekly_close &lt;dbl&gt; | simple_w_r &lt;dbl&gt; | deciles &lt;fct&gt; |\n",
       "|---|---|---|---|---|\n",
       "| A | 2023-01-13 | 156.92 |  0.062639670 | 90% |\n",
       "| A | 2023-01-20 | 155.92 | -0.006372674 | 30% |\n",
       "| A | 2023-01-27 | 155.69 | -0.001475115 | 40% |\n",
       "| A | 2023-02-03 | 154.55 | -0.007322243 | 30% |\n",
       "| A | 2023-02-10 | 152.55 | -0.012940796 | 30% |\n",
       "| A | 2023-02-17 | 148.26 | -0.028121927 | 10% |\n",
       "\n"
      ],
      "text/plain": [
       "  tic datadate   weekly_close simple_w_r   deciles\n",
       "1 A   2023-01-13 156.92        0.062639670 90%    \n",
       "2 A   2023-01-20 155.92       -0.006372674 30%    \n",
       "3 A   2023-01-27 155.69       -0.001475115 40%    \n",
       "4 A   2023-02-03 154.55       -0.007322243 30%    \n",
       "5 A   2023-02-10 152.55       -0.012940796 30%    \n",
       "6 A   2023-02-17 148.26       -0.028121927 10%    "
      ]
     },
     "metadata": {},
     "output_type": "display_data"
    }
   ],
   "source": [
    "#| tbl-cap: \"Data categorized by decile groups\"\n",
    "c_breaks = seq(0.1, 1, by = 0.1)\n",
    "paste0(c_breaks)\n",
    "\n",
    "c_labels <- paste0((1:(length(c_breaks) - 1)) * 10, \"%\")\n",
    "paste0(c_labels)\n",
    "\n",
    "data_weekly_deciles <- data_weekly %>% \n",
    "    filter(!is.na(simple_w_r)) %>% \n",
    "    mutate(\n",
    "        deciles = cut(\n",
    "            simple_w_r,\n",
    "            breaks = quantile(\n",
    "            simple_w_r,\n",
    "            probs = c_breaks,\n",
    "            type = 9,\n",
    "            na.rm = TRUE\n",
    "            ),\n",
    "        labels = c_labels,\n",
    "        include.lowest = TRUE\n",
    "        )\n",
    "    ) %>% \n",
    "  arrange(tic)\n",
    "head(data_weekly_deciles)"
   ]
  },
  {
   "cell_type": "markdown",
   "id": "ee99c854",
   "metadata": {},
   "source": [
    "## 3. Display a table showing the top ticker in each decile group"
   ]
  },
  {
   "cell_type": "code",
   "execution_count": 170,
   "id": "9aecbf63",
   "metadata": {
    "vscode": {
     "languageId": "r"
    }
   },
   "outputs": [
    {
     "data": {
      "text/html": [
       "<table class=\"dataframe\">\n",
       "<caption>A tibble: 11 × 3</caption>\n",
       "<thead>\n",
       "\t<tr><th scope=col>tic</th><th scope=col>simple_w_r</th><th scope=col>deciles</th></tr>\n",
       "\t<tr><th scope=col>&lt;chr&gt;</th><th scope=col>&lt;dbl&gt;</th><th scope=col>&lt;fct&gt;</th></tr>\n",
       "</thead>\n",
       "<tbody>\n",
       "\t<tr><td>SMCI</td><td> 0.784176534</td><td>90%</td></tr>\n",
       "\t<tr><td>ETN </td><td> 0.046986033</td><td>80%</td></tr>\n",
       "\t<tr><td>TROW</td><td> 0.029170465</td><td>70%</td></tr>\n",
       "\t<tr><td>APH </td><td> 0.018479909</td><td>60%</td></tr>\n",
       "\t<tr><td>PRU </td><td> 0.010129310</td><td>50%</td></tr>\n",
       "\t<tr><td>AXP </td><td> 0.002281286</td><td>40%</td></tr>\n",
       "\t<tr><td>NWS </td><td>-0.005443235</td><td>30%</td></tr>\n",
       "\t<tr><td>IPG </td><td>-0.014084507</td><td>20%</td></tr>\n",
       "\t<tr><td>WBD </td><td>-0.024780176</td><td>10%</td></tr>\n",
       "\t<tr><td>ADBE</td><td>-0.041523909</td><td>NA </td></tr>\n",
       "\t<tr><td>NA  </td><td>          NA</td><td>NA </td></tr>\n",
       "</tbody>\n",
       "</table>\n"
      ],
      "text/latex": [
       "A tibble: 11 × 3\n",
       "\\begin{tabular}{lll}\n",
       " tic & simple\\_w\\_r & deciles\\\\\n",
       " <chr> & <dbl> & <fct>\\\\\n",
       "\\hline\n",
       "\t SMCI &  0.784176534 & 90\\%\\\\\n",
       "\t ETN  &  0.046986033 & 80\\%\\\\\n",
       "\t TROW &  0.029170465 & 70\\%\\\\\n",
       "\t APH  &  0.018479909 & 60\\%\\\\\n",
       "\t PRU  &  0.010129310 & 50\\%\\\\\n",
       "\t AXP  &  0.002281286 & 40\\%\\\\\n",
       "\t NWS  & -0.005443235 & 30\\%\\\\\n",
       "\t IPG  & -0.014084507 & 20\\%\\\\\n",
       "\t WBD  & -0.024780176 & 10\\%\\\\\n",
       "\t ADBE & -0.041523909 & NA \\\\\n",
       "\t NA   &           NA & NA \\\\\n",
       "\\end{tabular}\n"
      ],
      "text/markdown": [
       "\n",
       "A tibble: 11 × 3\n",
       "\n",
       "| tic &lt;chr&gt; | simple_w_r &lt;dbl&gt; | deciles &lt;fct&gt; |\n",
       "|---|---|---|\n",
       "| SMCI |  0.784176534 | 90% |\n",
       "| ETN  |  0.046986033 | 80% |\n",
       "| TROW |  0.029170465 | 70% |\n",
       "| APH  |  0.018479909 | 60% |\n",
       "| PRU  |  0.010129310 | 50% |\n",
       "| AXP  |  0.002281286 | 40% |\n",
       "| NWS  | -0.005443235 | 30% |\n",
       "| IPG  | -0.014084507 | 20% |\n",
       "| WBD  | -0.024780176 | 10% |\n",
       "| ADBE | -0.041523909 | NA  |\n",
       "| NA   |           NA | NA  |\n",
       "\n"
      ],
      "text/plain": [
       "   tic  simple_w_r   deciles\n",
       "1  SMCI  0.784176534 90%    \n",
       "2  ETN   0.046986033 80%    \n",
       "3  TROW  0.029170465 70%    \n",
       "4  APH   0.018479909 60%    \n",
       "5  PRU   0.010129310 50%    \n",
       "6  AXP   0.002281286 40%    \n",
       "7  NWS  -0.005443235 30%    \n",
       "8  IPG  -0.014084507 20%    \n",
       "9  WBD  -0.024780176 10%    \n",
       "10 ADBE -0.041523909 NA     \n",
       "11 NA             NA NA     "
      ]
     },
     "metadata": {},
     "output_type": "display_data"
    }
   ],
   "source": [
    "#| tbl-cap: \"Top tickers by decile group\"\n",
    "df_top_ticker = data_weekly_deciles %>% \n",
    "    group_by(deciles) %>% \n",
    "    filter(simple_w_r == max(simple_w_r, na.rm = TRUE)) %>%\n",
    "    ungroup() %>%\n",
    "        arrange(desc(deciles)) %>%\n",
    "        select(tic, simple_w_r, deciles)\n",
    "df_top_ticker[1:11,]"
   ]
  },
  {
   "cell_type": "markdown",
   "id": "77a5b13d",
   "metadata": {},
   "source": [
    "## 4. Select the top ticker from the 60% decile group\n",
    "We use this ticker for the rest of the assignment, including in Part 3."
   ]
  },
  {
   "cell_type": "code",
   "execution_count": 181,
   "id": "40534458",
   "metadata": {
    "vscode": {
     "languageId": "r"
    }
   },
   "outputs": [
    {
     "data": {
      "text/html": [
       "<table class=\"dataframe\">\n",
       "<caption>A tibble: 1 × 2</caption>\n",
       "<thead>\n",
       "\t<tr><th scope=col>Decile</th><th scope=col>Ticker</th></tr>\n",
       "\t<tr><th scope=col>&lt;chr&gt;</th><th scope=col>&lt;chr&gt;</th></tr>\n",
       "</thead>\n",
       "<tbody>\n",
       "\t<tr><td>60%</td><td>APH</td></tr>\n",
       "</tbody>\n",
       "</table>\n"
      ],
      "text/latex": [
       "A tibble: 1 × 2\n",
       "\\begin{tabular}{ll}\n",
       " Decile & Ticker\\\\\n",
       " <chr> & <chr>\\\\\n",
       "\\hline\n",
       "\t 60\\% & APH\\\\\n",
       "\\end{tabular}\n"
      ],
      "text/markdown": [
       "\n",
       "A tibble: 1 × 2\n",
       "\n",
       "| Decile &lt;chr&gt; | Ticker &lt;chr&gt; |\n",
       "|---|---|\n",
       "| 60% | APH |\n",
       "\n"
      ],
      "text/plain": [
       "  Decile Ticker\n",
       "1 60%    APH   "
      ]
     },
     "metadata": {},
     "output_type": "display_data"
    },
    {
     "name": "stdout",
     "output_type": "stream",
     "text": [
      "4. The ticker with the highest mean weekly return at the 60% decile is APH"
     ]
    }
   ],
   "source": [
    "summary_table_2_4 = tibble (\n",
    "    Decile = \"60%\",\n",
    "    Ticker = top_ticker_60d\n",
    ")\n",
    "summary_table_2_4\n",
    "\n",
    "top_ticker_60d = as.character(df_top_ticker %>% \n",
    "    filter(deciles == \"60%\") %>% \n",
    "    select(tic)\n",
    "    )\n",
    "cat(\"4. The ticker with the highest mean weekly return at the 60% decile is\", top_ticker_60d)"
   ]
  },
  {
   "cell_type": "markdown",
   "id": "92e62ac1",
   "metadata": {},
   "source": [
    "## 5. Plot the autocorrelation function for this ticker's entire set of weekly returns"
   ]
  },
  {
   "cell_type": "code",
   "execution_count": 145,
   "id": "8e2b9970",
   "metadata": {
    "vscode": {
     "languageId": "r"
    }
   },
   "outputs": [
    {
     "data": {
      "image/png": "[encoded data removed]",
      "text/plain": [
       "Plot with title “Autocorrelation Function”"
      ]
     },
     "metadata": {
      "image/png": {
       "height": 420,
       "width": 420
      }
     },
     "output_type": "display_data"
    }
   ],
   "source": [
    "#| fig-cap: \"Autocorrelation Function\"\n",
    "# Filter and remove NA values\n",
    "csco_data = data_weekly %>% \n",
    "    filter(tic == top_ticker_60d) %>% \n",
    "        na.omit()\n",
    "\n",
    "acf(csco_data$simple_w_r, main = \"Autocorrelation Function\")"
   ]
  },
  {
   "cell_type": "markdown",
   "id": "f83b0b0e",
   "metadata": {},
   "source": [
    "# Part 3 Regression - Fama-French 3 Factor Model\n",
    "## 1. Load and clean the weekly Fama-French 3 factor data"
   ]
  },
  {
   "cell_type": "code",
   "execution_count": 146,
   "id": "9fd799a0",
   "metadata": {
    "vscode": {
     "languageId": "r"
    }
   },
   "outputs": [
    {
     "data": {
      "text/html": [
       "<table class=\"dataframe\">\n",
       "<caption>A data.frame: 6 × 5</caption>\n",
       "<thead>\n",
       "\t<tr><th></th><th scope=col>date</th><th scope=col>mktrf</th><th scope=col>smb</th><th scope=col>hml</th><th scope=col>rf</th></tr>\n",
       "\t<tr><th></th><th scope=col>&lt;date&gt;</th><th scope=col>&lt;dbl&gt;</th><th scope=col>&lt;dbl&gt;</th><th scope=col>&lt;dbl&gt;</th><th scope=col>&lt;dbl&gt;</th></tr>\n",
       "</thead>\n",
       "<tbody>\n",
       "\t<tr><th scope=row>1</th><td>1926-07-02</td><td> 0.0158</td><td>-0.0062</td><td>-0.0086</td><td>6e-04</td></tr>\n",
       "\t<tr><th scope=row>2</th><td>1926-07-10</td><td> 0.0037</td><td>-0.0090</td><td> 0.0031</td><td>6e-04</td></tr>\n",
       "\t<tr><th scope=row>3</th><td>1926-07-17</td><td> 0.0098</td><td> 0.0059</td><td>-0.0144</td><td>6e-04</td></tr>\n",
       "\t<tr><th scope=row>4</th><td>1926-07-24</td><td>-0.0203</td><td> 0.0002</td><td>-0.0017</td><td>6e-04</td></tr>\n",
       "\t<tr><th scope=row>5</th><td>1926-07-31</td><td> 0.0306</td><td>-0.0189</td><td>-0.0085</td><td>6e-04</td></tr>\n",
       "\t<tr><th scope=row>6</th><td>1926-08-07</td><td> 0.0204</td><td> 0.0016</td><td> 0.0055</td><td>6e-04</td></tr>\n",
       "</tbody>\n",
       "</table>\n"
      ],
      "text/latex": [
       "A data.frame: 6 × 5\n",
       "\\begin{tabular}{r|lllll}\n",
       "  & date & mktrf & smb & hml & rf\\\\\n",
       "  & <date> & <dbl> & <dbl> & <dbl> & <dbl>\\\\\n",
       "\\hline\n",
       "\t1 & 1926-07-02 &  0.0158 & -0.0062 & -0.0086 & 6e-04\\\\\n",
       "\t2 & 1926-07-10 &  0.0037 & -0.0090 &  0.0031 & 6e-04\\\\\n",
       "\t3 & 1926-07-17 &  0.0098 &  0.0059 & -0.0144 & 6e-04\\\\\n",
       "\t4 & 1926-07-24 & -0.0203 &  0.0002 & -0.0017 & 6e-04\\\\\n",
       "\t5 & 1926-07-31 &  0.0306 & -0.0189 & -0.0085 & 6e-04\\\\\n",
       "\t6 & 1926-08-07 &  0.0204 &  0.0016 &  0.0055 & 6e-04\\\\\n",
       "\\end{tabular}\n"
      ],
      "text/markdown": [
       "\n",
       "A data.frame: 6 × 5\n",
       "\n",
       "| <!--/--> | date &lt;date&gt; | mktrf &lt;dbl&gt; | smb &lt;dbl&gt; | hml &lt;dbl&gt; | rf &lt;dbl&gt; |\n",
       "|---|---|---|---|---|---|\n",
       "| 1 | 1926-07-02 |  0.0158 | -0.0062 | -0.0086 | 6e-04 |\n",
       "| 2 | 1926-07-10 |  0.0037 | -0.0090 |  0.0031 | 6e-04 |\n",
       "| 3 | 1926-07-17 |  0.0098 |  0.0059 | -0.0144 | 6e-04 |\n",
       "| 4 | 1926-07-24 | -0.0203 |  0.0002 | -0.0017 | 6e-04 |\n",
       "| 5 | 1926-07-31 |  0.0306 | -0.0189 | -0.0085 | 6e-04 |\n",
       "| 6 | 1926-08-07 |  0.0204 |  0.0016 |  0.0055 | 6e-04 |\n",
       "\n"
      ],
      "text/plain": [
       "  date       mktrf   smb     hml     rf   \n",
       "1 1926-07-02  0.0158 -0.0062 -0.0086 6e-04\n",
       "2 1926-07-10  0.0037 -0.0090  0.0031 6e-04\n",
       "3 1926-07-17  0.0098  0.0059 -0.0144 6e-04\n",
       "4 1926-07-24 -0.0203  0.0002 -0.0017 6e-04\n",
       "5 1926-07-31  0.0306 -0.0189 -0.0085 6e-04\n",
       "6 1926-08-07  0.0204  0.0016  0.0055 6e-04"
      ]
     },
     "metadata": {},
     "output_type": "display_data"
    }
   ],
   "source": [
    "#| tbl-cap: \"Fama-French 3 Factor Model\"\n",
    "ff <- read.csv(\"fama_french_weekly.csv\", skip = 4) %>%\n",
    "  rename(x = X,             \n",
    "         mktrf = Mkt.RF,    \n",
    "         smb   = SMB,\n",
    "         hml   = HML,\n",
    "         rf    = RF) %>%\n",
    "  mutate(\n",
    "    date  = ymd(as.character(x)),\n",
    "    mktrf = mktrf / 100,\n",
    "    smb   = smb / 100,\n",
    "    hml   = hml / 100,\n",
    "    rf    = rf / 100\n",
    "  ) %>%\n",
    "  transmute(date, mktrf, smb, hml, rf) %>%\n",
    "  filter(!is.na(date)) %>%\n",
    "  arrange(date)\n",
    "\n",
    "head(ff)"
   ]
  },
  {
   "cell_type": "markdown",
   "id": "9d7b9e84",
   "metadata": {},
   "source": [
    "## 2. Fit the Fama-French 3 factor model to the weekly returns of the stock in Part 2"
   ]
  },
  {
   "cell_type": "code",
   "execution_count": 182,
   "id": "7b302690",
   "metadata": {
    "vscode": {
     "languageId": "r"
    }
   },
   "outputs": [
    {
     "data": {
      "text/plain": [
       "\n",
       "Call:\n",
       "lm(formula = excess_return ~ mktrf + smb + hml, data = merged)\n",
       "\n",
       "Residuals:\n",
       "     Min       1Q   Median       3Q      Max \n",
       "-0.47998 -0.01072  0.00349  0.01654  0.07078 \n",
       "\n",
       "Coefficients:\n",
       "             Estimate Std. Error t value Pr(>|t|)    \n",
       "(Intercept) -0.003136   0.005454  -0.575 0.566550    \n",
       "mktrf        1.233157   0.315971   3.903 0.000175 ***\n",
       "smb          0.368449   0.357088   1.032 0.304698    \n",
       "hml          0.260722   0.320227   0.814 0.417517    \n",
       "---\n",
       "Signif. codes:  0 ‘***’ 0.001 ‘**’ 0.01 ‘*’ 0.05 ‘.’ 0.1 ‘ ’ 1\n",
       "\n",
       "Residual standard error: 0.05344 on 98 degrees of freedom\n",
       "Multiple R-squared:  0.1987,\tAdjusted R-squared:  0.1742 \n",
       "F-statistic: 8.102 on 3 and 98 DF,  p-value: 7.11e-05\n"
      ]
     },
     "metadata": {},
     "output_type": "display_data"
    }
   ],
   "source": [
    "# 1) Get the chosen stock's weekly returns\n",
    "ticker_data <- data_weekly %>%\n",
    "  filter(tic == top_ticker_60d) %>%\n",
    "  select(datadate, simple_w_r) %>%\n",
    "  filter(!is.na(simple_w_r))\n",
    "\n",
    "# 2) Join with Fama–French factors (align on week end)\n",
    "ff_weekly <- ff %>% rename(datadate = date)\n",
    "\n",
    "merged <- ticker_data %>%\n",
    "  inner_join(ff_weekly, by = \"datadate\") %>%\n",
    "  mutate(excess_return = simple_w_r - rf)\n",
    "\n",
    "# 3) Fit FF3: excess_return ~ Mkt.RF + SMB + HML\n",
    "ff3_model <- lm(excess_return ~ mktrf + smb + hml, data = merged)\n",
    "\n",
    "# 4) Show results\n",
    "summary(ff3_model)"
   ]
  },
  {
   "cell_type": "markdown",
   "id": "3bd4fb91",
   "metadata": {},
   "source": [
    "# Analysis Summary\n",
    "\n",
    "APH recorded a moderate positive weekly return of around 1.85%, placing it within the 60th performance decile. The autocorrelation analysis revealed no meaningful serial dependence, suggesting that APH’s returns behave largely randomly and that past movements offer little predictive power for future performance.\n",
    "\n",
    "The Fama–French three-factor regression indicated a strong positive sensitivity to overall market returns, with a statistically significant market beta of about 1.23 (p < 0.001). The coefficients on size (SMB) and value (HML) factors were positive but not statistically significant, implying a limited relationship with these style factors. The adjusted R² of roughly 0.17 suggests that common market factors explain only part of APH’s return variation.\n",
    "\n",
    "Overall, this pattern points to APH’s performance being moderately linked to general market movements, while firm-specific drivers continue to play an important role in explaining its excess returns."
   ]
  }
 ],
 "metadata": {
  "kernelspec": {
   "display_name": "R",
   "language": "R",
   "name": "ir"
  },
  "language_info": {
   "codemirror_mode": "r",
   "file_extension": ".r",
   "mimetype": "text/x-r-source",
   "name": "R",
   "pygments_lexer": "r",
   "version": "4.3.3"
  }
 },
 "nbformat": 4,
 "nbformat_minor": 5
}
